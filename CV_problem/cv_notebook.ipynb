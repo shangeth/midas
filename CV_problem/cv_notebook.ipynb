{
  "nbformat": 4,
  "nbformat_minor": 0,
  "metadata": {
    "colab": {
      "name": "cv_notebook.ipynb",
      "version": "0.3.2",
      "provenance": [],
      "collapsed_sections": []
    },
    "kernelspec": {
      "name": "python3",
      "display_name": "Python 3"
    },
    "accelerator": "GPU"
  },
  "cells": [
    {
      "metadata": {
        "id": "68S7j7NMK_Tn",
        "colab_type": "text"
      },
      "cell_type": "markdown",
      "source": [
        "# Getting data"
      ]
    },
    {
      "metadata": {
        "id": "OhD40XxWK8HL",
        "colab_type": "code",
        "outputId": "4930d71b-3cf6-4989-f064-cb76425f8740",
        "colab": {
          "base_uri": "https://localhost:8080/",
          "height": 125
        }
      },
      "cell_type": "code",
      "source": [
        "from google.colab import drive\n",
        "drive.mount('/content/drive')"
      ],
      "execution_count": 1,
      "outputs": [
        {
          "output_type": "stream",
          "text": [
            "Go to this URL in a browser: https://accounts.google.com/o/oauth2/auth?client_id=947318989803-6bn6qk8qdgf4n4g3pfee6491hc0brc4i.apps.googleusercontent.com&redirect_uri=urn%3Aietf%3Awg%3Aoauth%3A2.0%3Aoob&scope=email%20https%3A%2F%2Fwww.googleapis.com%2Fauth%2Fdocs.test%20https%3A%2F%2Fwww.googleapis.com%2Fauth%2Fdrive%20https%3A%2F%2Fwww.googleapis.com%2Fauth%2Fdrive.photos.readonly%20https%3A%2F%2Fwww.googleapis.com%2Fauth%2Fpeopleapi.readonly&response_type=code\n",
            "\n",
            "Enter your authorization code:\n",
            "··········\n",
            "Mounted at /content/drive\n"
          ],
          "name": "stdout"
        }
      ]
    },
    {
      "metadata": {
        "id": "6krcNgw2MRif",
        "colab_type": "text"
      },
      "cell_type": "markdown",
      "source": [
        "# exploring pkl file for data\n",
        "\n",
        "As i am not sure about what kind of data it is.\n",
        "\n",
        "as the shape of data[0] = 784, \n",
        "as it is a image data 784 =28x28x1 should be the shape of image"
      ]
    },
    {
      "metadata": {
        "id": "EOsYvEDjLQR1",
        "colab_type": "code",
        "outputId": "c1e7d352-658b-459b-865a-99bd27246d1c",
        "colab": {
          "base_uri": "https://localhost:8080/",
          "height": 87
        }
      },
      "cell_type": "code",
      "source": [
        "import os\n",
        "\n",
        "data_path = '/content/drive/My Drive/Vision_task_dataset_public/'\n",
        "\n",
        "os.listdir(data_path)\n"
      ],
      "execution_count": 2,
      "outputs": [
        {
          "output_type": "execute_result",
          "data": {
            "text/plain": [
              "['train_label.pkl',\n",
              " 'train_image.pkl',\n",
              " 'test_image.pkl',\n",
              " 'hitkul(sample_submission).csv']"
            ]
          },
          "metadata": {
            "tags": []
          },
          "execution_count": 2
        }
      ]
    },
    {
      "metadata": {
        "id": "CjfJTJLGLhmh",
        "colab_type": "code",
        "outputId": "ae896037-d9ec-4989-b30b-468b61804467",
        "colab": {
          "base_uri": "https://localhost:8080/",
          "height": 34
        }
      },
      "cell_type": "code",
      "source": [
        "import pickle\n",
        "\n",
        "\n",
        "with open(data_path + 'train_image.pkl', 'rb') as f:\n",
        "    data = pickle.load(f)\n",
        "    print(len(data[0]))"
      ],
      "execution_count": 3,
      "outputs": [
        {
          "output_type": "stream",
          "text": [
            "784\n"
          ],
          "name": "stdout"
        }
      ]
    },
    {
      "metadata": {
        "id": "hFy6aMUrL7ES",
        "colab_type": "code",
        "outputId": "c1c69762-f59b-46aa-cba8-3976a859b0ad",
        "colab": {
          "base_uri": "https://localhost:8080/",
          "height": 34
        }
      },
      "cell_type": "code",
      "source": [
        "len(data)"
      ],
      "execution_count": 4,
      "outputs": [
        {
          "output_type": "execute_result",
          "data": {
            "text/plain": [
              "8000"
            ]
          },
          "metadata": {
            "tags": []
          },
          "execution_count": 4
        }
      ]
    },
    {
      "metadata": {
        "id": "dq3GwuklMOGK",
        "colab_type": "code",
        "outputId": "00b26531-5e2a-49db-da6b-cc3ff0eca4c5",
        "colab": {
          "base_uri": "https://localhost:8080/",
          "height": 1666
        }
      },
      "cell_type": "code",
      "source": [
        "import numpy as np\n",
        "import matplotlib.pyplot as plt\n",
        "\n",
        "\n",
        "for i in range(5):\n",
        "  reshaped_data = np.array(data[i]).reshape(28,28)\n",
        "  plt.imshow(reshaped_data)\n",
        "  plt.grid(False)\n",
        "  plt.show()"
      ],
      "execution_count": 5,
      "outputs": [
        {
          "output_type": "display_data",
          "data": {
            "image/png": "[encoded data removed]",
            "text/plain": [
              "<Figure size 576x396 with 1 Axes>"
            ]
          },
          "metadata": {
            "tags": []
          }
        },
        {
          "output_type": "display_data",
          "data": {
            "image/png": "[encoded data removed]",
            "text/plain": [
              "<Figure size 576x396 with 1 Axes>"
            ]
          },
          "metadata": {
            "tags": []
          }
        },
        {
          "output_type": "display_data",
          "data": {
            "image/png": "[encoded data removed]",
            "text/plain": [
              "<Figure size 576x396 with 1 Axes>"
            ]
          },
          "metadata": {
            "tags": []
          }
        },
        {
          "output_type": "display_data",
          "data": {
            "image/png": "[encoded data removed]",
            "text/plain": [
              "<Figure size 576x396 with 1 Axes>"
            ]
          },
          "metadata": {
            "tags": []
          }
        },
        {
          "output_type": "display_data",
          "data": {
            "image/png": "[encoded data removed]",
            "text/plain": [
              "<Figure size 576x396 with 1 Axes>"
            ]
          },
          "metadata": {
            "tags": []
          }
        }
      ]
    },
    {
      "metadata": {
        "id": "MqNRjo8uNLqg",
        "colab_type": "text"
      },
      "cell_type": "markdown",
      "source": [
        "# Getting Image and labels as numpy arrays"
      ]
    },
    {
      "metadata": {
        "id": "-qrhYhT2NWU6",
        "colab_type": "code",
        "outputId": "3dc8c575-b898-4652-9edb-60cd8bd35186",
        "colab": {
          "base_uri": "https://localhost:8080/",
          "height": 87
        }
      },
      "cell_type": "code",
      "source": [
        "os.listdir(data_path)"
      ],
      "execution_count": 6,
      "outputs": [
        {
          "output_type": "execute_result",
          "data": {
            "text/plain": [
              "['train_label.pkl',\n",
              " 'train_image.pkl',\n",
              " 'test_image.pkl',\n",
              " 'hitkul(sample_submission).csv']"
            ]
          },
          "metadata": {
            "tags": []
          },
          "execution_count": 6
        }
      ]
    },
    {
      "metadata": {
        "id": "jlEawyFDNXvt",
        "colab_type": "text"
      },
      "cell_type": "markdown",
      "source": [
        "### Train_image"
      ]
    },
    {
      "metadata": {
        "id": "7M8JEj2bMi4G",
        "colab_type": "code",
        "outputId": "0c58bcef-df54-4cb1-e410-cf97866f1df5",
        "colab": {
          "base_uri": "https://localhost:8080/",
          "height": 34
        }
      },
      "cell_type": "code",
      "source": [
        "import pickle\n",
        "\n",
        "\n",
        "with open(data_path + 'train_image.pkl', 'rb') as f:\n",
        "    data = pickle.load(f)\n",
        "\n",
        "train_img = np.stack([np.array(i).reshape(1,28,28) for i in data])\n",
        "print(train_img.shape)"
      ],
      "execution_count": 7,
      "outputs": [
        {
          "output_type": "stream",
          "text": [
            "(8000, 1, 28, 28)\n"
          ],
          "name": "stdout"
        }
      ]
    },
    {
      "metadata": {
        "id": "mqszmU_-OwN_",
        "colab_type": "text"
      },
      "cell_type": "markdown",
      "source": [
        "### test image"
      ]
    },
    {
      "metadata": {
        "id": "cAf7WmHMNgYG",
        "colab_type": "code",
        "outputId": "23c3a312-332c-4828-ae39-0e7e026c516e",
        "colab": {
          "base_uri": "https://localhost:8080/",
          "height": 34
        }
      },
      "cell_type": "code",
      "source": [
        "import pickle\n",
        "\n",
        "\n",
        "with open(data_path + 'test_image.pkl', 'rb') as f:\n",
        "    data = pickle.load(f)\n",
        "\n",
        "test_img = np.stack([np.array(i).reshape(1, 28,28) for i in data])\n",
        "print(test_img.shape)"
      ],
      "execution_count": 8,
      "outputs": [
        {
          "output_type": "stream",
          "text": [
            "(2000, 1, 28, 28)\n"
          ],
          "name": "stdout"
        }
      ]
    },
    {
      "metadata": {
        "id": "8zsoJNi7PEbT",
        "colab_type": "text"
      },
      "cell_type": "markdown",
      "source": [
        "### train_label"
      ]
    },
    {
      "metadata": {
        "id": "-sUoKsvuOzMg",
        "colab_type": "code",
        "outputId": "28168468-68e6-480f-cf07-8a783c92b6eb",
        "colab": {
          "base_uri": "https://localhost:8080/",
          "height": 34
        }
      },
      "cell_type": "code",
      "source": [
        "import pickle\n",
        "\n",
        "\n",
        "with open(data_path + 'train_label.pkl', 'rb') as f:\n",
        "    data = pickle.load(f)\n",
        "\n",
        "set(data)"
      ],
      "execution_count": 9,
      "outputs": [
        {
          "output_type": "execute_result",
          "data": {
            "text/plain": [
              "{0, 2, 3, 6}"
            ]
          },
          "metadata": {
            "tags": []
          },
          "execution_count": 9
        }
      ]
    },
    {
      "metadata": {
        "id": "3BcxWXnOPNFA",
        "colab_type": "code",
        "outputId": "61b60efd-a4d0-4fcd-cadf-c13447aa3cc1",
        "colab": {
          "base_uri": "https://localhost:8080/",
          "height": 34
        }
      },
      "cell_type": "code",
      "source": [
        "from collections import Counter\n",
        "\n",
        "Counter(data)"
      ],
      "execution_count": 10,
      "outputs": [
        {
          "output_type": "execute_result",
          "data": {
            "text/plain": [
              "Counter({0: 2000, 2: 2000, 3: 2000, 6: 2000})"
            ]
          },
          "metadata": {
            "tags": []
          },
          "execution_count": 10
        }
      ]
    },
    {
      "metadata": {
        "id": "dBnUKjZTP0bY",
        "colab_type": "text"
      },
      "cell_type": "markdown",
      "source": [
        "Reindexing 0-0 , 2-1, 3-2, 6-3  for computation index purpose"
      ]
    },
    {
      "metadata": {
        "id": "s340TS_yPd65",
        "colab_type": "code",
        "outputId": "35477178-248a-40e5-de51-b495581a8adf",
        "colab": {
          "base_uri": "https://localhost:8080/",
          "height": 34
        }
      },
      "cell_type": "code",
      "source": [
        "train_label = np.array(data)\n",
        "\n",
        "train_label[train_label == 2] = 1\n",
        "train_label[train_label == 3] = 2\n",
        "train_label[train_label == 6] = 3\n",
        "\n",
        "set(list(train_label))\n"
      ],
      "execution_count": 11,
      "outputs": [
        {
          "output_type": "execute_result",
          "data": {
            "text/plain": [
              "{0, 1, 2, 3}"
            ]
          },
          "metadata": {
            "tags": []
          },
          "execution_count": 11
        }
      ]
    },
    {
      "metadata": {
        "id": "Pz101kbIQQkn",
        "colab_type": "text"
      },
      "cell_type": "markdown",
      "source": [
        "### Sample Submission"
      ]
    },
    {
      "metadata": {
        "id": "W3AlqZY-QKeB",
        "colab_type": "code",
        "outputId": "02f34f57-4327-49bd-d2d3-21d82690630a",
        "colab": {
          "base_uri": "https://localhost:8080/",
          "height": 167
        }
      },
      "cell_type": "code",
      "source": [
        "import pandas as pd\n",
        "\n",
        "df = pd.read_csv(data_path+'hitkul(sample_submission).csv')\n",
        "df.head(10)"
      ],
      "execution_count": 12,
      "outputs": [
        {
          "output_type": "execute_result",
          "data": {
            "text/html": [
              "<div>\n",
              "<style scoped>\n",
              "    .dataframe tbody tr th:only-of-type {\n",
              "        vertical-align: middle;\n",
              "    }\n",
              "\n",
              "    .dataframe tbody tr th {\n",
              "        vertical-align: top;\n",
              "    }\n",
              "\n",
              "    .dataframe thead th {\n",
              "        text-align: right;\n",
              "    }\n",
              "</style>\n",
              "<table border=\"1\" class=\"dataframe\">\n",
              "  <thead>\n",
              "    <tr style=\"text-align: right;\">\n",
              "      <th></th>\n",
              "      <th>image_index</th>\n",
              "      <th>class</th>\n",
              "    </tr>\n",
              "  </thead>\n",
              "  <tbody>\n",
              "    <tr>\n",
              "      <th>0</th>\n",
              "      <td>0</td>\n",
              "      <td>2</td>\n",
              "    </tr>\n",
              "    <tr>\n",
              "      <th>1</th>\n",
              "      <td>1</td>\n",
              "      <td>3</td>\n",
              "    </tr>\n",
              "    <tr>\n",
              "      <th>2</th>\n",
              "      <td>2</td>\n",
              "      <td>0</td>\n",
              "    </tr>\n",
              "    <tr>\n",
              "      <th>3</th>\n",
              "      <td>3</td>\n",
              "      <td>6</td>\n",
              "    </tr>\n",
              "  </tbody>\n",
              "</table>\n",
              "</div>"
            ],
            "text/plain": [
              "   image_index  class\n",
              "0            0      2\n",
              "1            1      3\n",
              "2            2      0\n",
              "3            3      6"
            ]
          },
          "metadata": {
            "tags": []
          },
          "execution_count": 12
        }
      ]
    },
    {
      "metadata": {
        "id": "4HPKXasrQnGV",
        "colab_type": "text"
      },
      "cell_type": "markdown",
      "source": [
        "# Visualizing Data"
      ]
    },
    {
      "metadata": {
        "id": "NHGFxD4oQbUY",
        "colab_type": "code",
        "outputId": "72f51397-f539-433f-ede3-904153be9d9b",
        "colab": {
          "base_uri": "https://localhost:8080/",
          "height": 1755
        }
      },
      "cell_type": "code",
      "source": [
        "for i in range(5):\n",
        "  print('Label = ',train_label[i])\n",
        "  plt.imshow(train_img[i,:,:].reshape(28,28))\n",
        "  plt.show()\n",
        "  "
      ],
      "execution_count": 58,
      "outputs": [
        {
          "output_type": "stream",
          "text": [
            "Label =  0\n"
          ],
          "name": "stdout"
        },
        {
          "output_type": "display_data",
          "data": {
            "image/png": "[encoded data removed]",
            "text/plain": [
              "<Figure size 576x396 with 1 Axes>"
            ]
          },
          "metadata": {
            "tags": []
          }
        },
        {
          "output_type": "stream",
          "text": [
            "Label =  0\n"
          ],
          "name": "stdout"
        },
        {
          "output_type": "display_data",
          "data": {
            "image/png": "[encoded data removed]",
            "text/plain": [
              "<Figure size 576x396 with 1 Axes>"
            ]
          },
          "metadata": {
            "tags": []
          }
        },
        {
          "output_type": "stream",
          "text": [
            "Label =  0\n"
          ],
          "name": "stdout"
        },
        {
          "output_type": "display_data",
          "data": {
            "image/png": "[encoded data removed]",
            "text/plain": [
              "<Figure size 576x396 with 1 Axes>"
            ]
          },
          "metadata": {
            "tags": []
          }
        },
        {
          "output_type": "stream",
          "text": [
            "Label =  0\n"
          ],
          "name": "stdout"
        },
        {
          "output_type": "display_data",
          "data": {
            "image/png": "[encoded data removed]",
            "text/plain": [
              "<Figure size 576x396 with 1 Axes>"
            ]
          },
          "metadata": {
            "tags": []
          }
        },
        {
          "output_type": "stream",
          "text": [
            "Label =  0\n"
          ],
          "name": "stdout"
        },
        {
          "output_type": "display_data",
          "data": {
            "image/png": "[encoded data removed]",
            "text/plain": [
              "<Figure size 576x396 with 1 Axes>"
            ]
          },
          "metadata": {
            "tags": []
          }
        }
      ]
    },
    {
      "metadata": {
        "id": "WC26qYYCTpab",
        "colab_type": "code",
        "colab": {
          "base_uri": "https://localhost:8080/",
          "height": 1755
        },
        "outputId": "41c7eb4d-d08f-44fb-92cd-e769ae7fccf9"
      },
      "cell_type": "code",
      "source": [
        "for i in range(2000,2005):\n",
        "  print('Label = ',train_label[i])\n",
        "  plt.imshow(train_img[i,:,:].reshape(28,28))\n",
        "  plt.show()\n",
        "  "
      ],
      "execution_count": 59,
      "outputs": [
        {
          "output_type": "stream",
          "text": [
            "Label =  1\n"
          ],
          "name": "stdout"
        },
        {
          "output_type": "display_data",
          "data": {
            "image/png": "[encoded data removed]",
            "text/plain": [
              "<Figure size 576x396 with 1 Axes>"
            ]
          },
          "metadata": {
            "tags": []
          }
        },
        {
          "output_type": "stream",
          "text": [
            "Label =  1\n"
          ],
          "name": "stdout"
        },
        {
          "output_type": "display_data",
          "data": {
            "image/png": "[encoded data removed]",
            "text/plain": [
              "<Figure size 576x396 with 1 Axes>"
            ]
          },
          "metadata": {
            "tags": []
          }
        },
        {
          "output_type": "stream",
          "text": [
            "Label =  1\n"
          ],
          "name": "stdout"
        },
        {
          "output_type": "display_data",
          "data": {
            "image/png": "[encoded data removed]",
            "text/plain": [
              "<Figure size 576x396 with 1 Axes>"
            ]
          },
          "metadata": {
            "tags": []
          }
        },
        {
          "output_type": "stream",
          "text": [
            "Label =  1\n"
          ],
          "name": "stdout"
        },
        {
          "output_type": "display_data",
          "data": {
            "image/png": "[encoded data removed]",
            "text/plain": [
              "<Figure size 576x396 with 1 Axes>"
            ]
          },
          "metadata": {
            "tags": []
          }
        },
        {
          "output_type": "stream",
          "text": [
            "Label =  1\n"
          ],
          "name": "stdout"
        },
        {
          "output_type": "display_data",
          "data": {
            "image/png": "[encoded data removed]",
            "text/plain": [
              "<Figure size 576x396 with 1 Axes>"
            ]
          },
          "metadata": {
            "tags": []
          }
        }
      ]
    },
    {
      "metadata": {
        "id": "1H86mJ6QTs_S",
        "colab_type": "code",
        "colab": {
          "base_uri": "https://localhost:8080/",
          "height": 1755
        },
        "outputId": "8c51348b-bf91-421f-bfbb-34e2fd77986e"
      },
      "cell_type": "code",
      "source": [
        "for i in range(4000,4005):\n",
        "  print('Label = ',train_label[i])\n",
        "  plt.imshow(train_img[i,:,:].reshape(28,28))\n",
        "  plt.show()\n",
        "  "
      ],
      "execution_count": 60,
      "outputs": [
        {
          "output_type": "stream",
          "text": [
            "Label =  2\n"
          ],
          "name": "stdout"
        },
        {
          "output_type": "display_data",
          "data": {
            "image/png": "[encoded data removed]",
            "text/plain": [
              "<Figure size 576x396 with 1 Axes>"
            ]
          },
          "metadata": {
            "tags": []
          }
        },
        {
          "output_type": "stream",
          "text": [
            "Label =  2\n"
          ],
          "name": "stdout"
        },
        {
          "output_type": "display_data",
          "data": {
            "image/png": "[encoded data removed]",
            "text/plain": [
              "<Figure size 576x396 with 1 Axes>"
            ]
          },
          "metadata": {
            "tags": []
          }
        },
        {
          "output_type": "stream",
          "text": [
            "Label =  2\n"
          ],
          "name": "stdout"
        },
        {
          "output_type": "display_data",
          "data": {
            "image/png": "[encoded data removed]",
            "text/plain": [
              "<Figure size 576x396 with 1 Axes>"
            ]
          },
          "metadata": {
            "tags": []
          }
        },
        {
          "output_type": "stream",
          "text": [
            "Label =  2\n"
          ],
          "name": "stdout"
        },
        {
          "output_type": "display_data",
          "data": {
            "image/png": "[encoded data removed]",
            "text/plain": [
              "<Figure size 576x396 with 1 Axes>"
            ]
          },
          "metadata": {
            "tags": []
          }
        },
        {
          "output_type": "stream",
          "text": [
            "Label =  2\n"
          ],
          "name": "stdout"
        },
        {
          "output_type": "display_data",
          "data": {
            "image/png": "[encoded data removed]",
            "text/plain": [
              "<Figure size 576x396 with 1 Axes>"
            ]
          },
          "metadata": {
            "tags": []
          }
        }
      ]
    },
    {
      "metadata": {
        "id": "8myPDBk4TtIT",
        "colab_type": "code",
        "colab": {
          "base_uri": "https://localhost:8080/",
          "height": 1755
        },
        "outputId": "500c79f0-6209-4068-da14-dc310baecb5f"
      },
      "cell_type": "code",
      "source": [
        "for i in range(6000,6005):\n",
        "  print('Label = ',train_label[i])\n",
        "  plt.imshow(train_img[i,:,:].reshape(28,28))\n",
        "  plt.show()\n",
        "  "
      ],
      "execution_count": 61,
      "outputs": [
        {
          "output_type": "stream",
          "text": [
            "Label =  3\n"
          ],
          "name": "stdout"
        },
        {
          "output_type": "display_data",
          "data": {
            "image/png": "[encoded data removed]",
            "text/plain": [
              "<Figure size 576x396 with 1 Axes>"
            ]
          },
          "metadata": {
            "tags": []
          }
        },
        {
          "output_type": "stream",
          "text": [
            "Label =  3\n"
          ],
          "name": "stdout"
        },
        {
          "output_type": "display_data",
          "data": {
            "image/png": "[encoded data removed]",
            "text/plain": [
              "<Figure size 576x396 with 1 Axes>"
            ]
          },
          "metadata": {
            "tags": []
          }
        },
        {
          "output_type": "stream",
          "text": [
            "Label =  3\n"
          ],
          "name": "stdout"
        },
        {
          "output_type": "display_data",
          "data": {
            "image/png": "[encoded data removed]",
            "text/plain": [
              "<Figure size 576x396 with 1 Axes>"
            ]
          },
          "metadata": {
            "tags": []
          }
        },
        {
          "output_type": "stream",
          "text": [
            "Label =  3\n"
          ],
          "name": "stdout"
        },
        {
          "output_type": "display_data",
          "data": {
            "image/png": "[encoded data removed]",
            "text/plain": [
              "<Figure size 576x396 with 1 Axes>"
            ]
          },
          "metadata": {
            "tags": []
          }
        },
        {
          "output_type": "stream",
          "text": [
            "Label =  3\n"
          ],
          "name": "stdout"
        },
        {
          "output_type": "display_data",
          "data": {
            "image/png": "[encoded data removed]",
            "text/plain": [
              "<Figure size 576x396 with 1 Axes>"
            ]
          },
          "metadata": {
            "tags": []
          }
        }
      ]
    },
    {
      "metadata": {
        "id": "dDMDo3ZaRXhq",
        "colab_type": "text"
      },
      "cell_type": "markdown",
      "source": [
        "# Data Numpy to Torch Tensor"
      ]
    },
    {
      "metadata": {
        "id": "ofXGhFE-Vwz9",
        "colab_type": "text"
      },
      "cell_type": "markdown",
      "source": [
        "## Train/Validation Split"
      ]
    },
    {
      "metadata": {
        "id": "JqwQ_jQwQ-yy",
        "colab_type": "code",
        "colab": {}
      },
      "cell_type": "code",
      "source": [
        "from sklearn.model_selection import train_test_split\n",
        "x_train, x_test ,y_train, y_test = train_test_split(train_img/255, train_label, test_size=0.15, shuffle=True)"
      ],
      "execution_count": 0,
      "outputs": []
    },
    {
      "metadata": {
        "id": "o8adMVfAyYWC",
        "colab_type": "code",
        "outputId": "1dd1a9d5-5398-45b4-e66e-026c9ed8b2be",
        "colab": {
          "base_uri": "https://localhost:8080/",
          "height": 52
        }
      },
      "cell_type": "code",
      "source": [
        "print('Train : ',Counter(y_train))\n",
        "print('Test : ',Counter(y_test))"
      ],
      "execution_count": 15,
      "outputs": [
        {
          "output_type": "stream",
          "text": [
            "Train :  Counter({2: 1716, 3: 1698, 0: 1698, 1: 1688})\n",
            "Test :  Counter({1: 312, 0: 302, 3: 302, 2: 284})\n"
          ],
          "name": "stdout"
        }
      ]
    },
    {
      "metadata": {
        "id": "AQ1ZHVp7Wbgr",
        "colab_type": "text"
      },
      "cell_type": "markdown",
      "source": [
        "### Using Transforms for normalizing and to avoid overfitting\n",
        "\n",
        "\n",
        "\n",
        "I tried using different transforms ro avoid overfitting, but suprisingly using random rotation and horizontal flip reduced the learing ability, so avoided it"
      ]
    },
    {
      "metadata": {
        "id": "NW1k2-ViWZpj",
        "colab_type": "code",
        "colab": {}
      },
      "cell_type": "code",
      "source": [
        "from torchvision import transforms\n",
        "\n",
        "transform = transforms.Compose([transforms.ToPILImage(),\n",
        "                                transforms.RandomHorizontalFlip(),\n",
        "                                transforms.RandomRotation(30),\n",
        "#                                 transforms.Resize(255),\n",
        "                                transforms.ToTensor(),\n",
        "                                transforms.Normalize((0.5,), (0.5,))\n",
        "                                ])"
      ],
      "execution_count": 0,
      "outputs": []
    },
    {
      "metadata": {
        "id": "Hs_NIsrIXBX7",
        "colab_type": "text"
      },
      "cell_type": "markdown",
      "source": [
        "### Numpy to Tensor to Dataloader"
      ]
    },
    {
      "metadata": {
        "id": "_hjUwlXDV4m8",
        "colab_type": "code",
        "colab": {}
      },
      "cell_type": "code",
      "source": [
        "import torch\n",
        "import torch.utils.data as utils\n",
        "\n",
        "tensor_x = torch.stack([transform(torch.Tensor(i)) for i in x_train]) \n",
        "tensor_y = torch.stack([torch.Tensor(i) for i in y_train.reshape(-1,1)])\n",
        "\n",
        "my_dataset = utils.TensorDataset(tensor_x,tensor_y)\n",
        "trainloader = utils.DataLoader(my_dataset, batch_size = 8000)\n",
        "\n",
        "\n",
        "tensor_xte = torch.stack([transform(torch.Tensor(i)) for i in x_test]) \n",
        "tensor_yte = torch.stack([torch.Tensor(i) for i in y_test.reshape(-1,1)])\n",
        "\n",
        "my_datasette = utils.TensorDataset(tensor_xte,tensor_yte)\n",
        "testloader = utils.DataLoader(my_datasette, batch_size = 2000)"
      ],
      "execution_count": 0,
      "outputs": []
    },
    {
      "metadata": {
        "id": "o-by7_HvYumF",
        "colab_type": "text"
      },
      "cell_type": "markdown",
      "source": [
        "# CNN Model"
      ]
    },
    {
      "metadata": {
        "id": "xMH9gVkERpJH",
        "colab_type": "text"
      },
      "cell_type": "markdown",
      "source": [
        "I ve used a CNN model with 3 layers and Batch norm layers followed by Fully connected classifier"
      ]
    },
    {
      "metadata": {
        "id": "qYikMz0hX9iW",
        "colab_type": "code",
        "outputId": "0cc588e8-36b0-4bda-c619-2bc13aa3c0aa",
        "colab": {
          "base_uri": "https://localhost:8080/",
          "height": 34
        }
      },
      "cell_type": "code",
      "source": [
        "import torch.nn as nn\n",
        "\n",
        "class CNNModel(nn.Module):\n",
        "  def __init__(self):\n",
        "    super(CNNModel, self).__init__()\n",
        "    self.cnn1 = nn.Conv2d(1,16,3,padding=1)\n",
        "    self.bn1 = nn.BatchNorm2d(16)\n",
        "    self.cnn2 = nn.Conv2d(16,32,3,padding=1)\n",
        "    self.bn2 = nn.BatchNorm2d(32)\n",
        "    self.cnn3 = nn.Conv2d(32,64,3,padding=1)\n",
        "    self.bn3 = nn.BatchNorm2d(64)\n",
        "    \n",
        "    self.pool = nn.MaxPool2d(2,2)\n",
        "    self.relu = nn.ReLU()\n",
        "    self.fcc1 = nn.Linear(576, 250)\n",
        "    self.fcc2 = nn.Linear(250, 125)\n",
        "    self.fcc3 = nn.Linear(125, 4)\n",
        "    self.log_softmax = nn.LogSoftmax(dim=1)\n",
        "    self.dropout = nn.Dropout(0.3)\n",
        "    \n",
        "  def forward(self, x):\n",
        "    x = self.cnn1(x)\n",
        "    x = self.bn1(x)\n",
        "    x = self.pool(x)\n",
        "    x = self.relu(x)\n",
        "    x = self.dropout(x)\n",
        "    \n",
        "    \n",
        "    x = self.cnn2(x)\n",
        "    x = self.bn2(x)\n",
        "    x = self.pool(x)\n",
        "    x = self.relu(x)\n",
        "    x = self.dropout(x)\n",
        "    \n",
        "    x = self.cnn3(x)\n",
        "    x = self.bn3(x)\n",
        "    x = self.pool(x)\n",
        "    x = self.relu(x)\n",
        "    x = self.dropout(x)\n",
        "    \n",
        "    x = x.view(x.size(0), -1)\n",
        "    \n",
        "    x = self.fcc1(x)\n",
        "    x = self.dropout(x)\n",
        "    x = self.relu(x)\n",
        "    x = self.fcc2(x)\n",
        "    x = self.dropout(x)\n",
        "    x = self.relu(x)\n",
        "    x = self.fcc3(x)\n",
        "    x = self.log_softmax(x)\n",
        "    return x\n",
        "\n",
        "model = CNNModel()\n",
        "model(torch.randn(1,1,28,28))"
      ],
      "execution_count": 73,
      "outputs": [
        {
          "output_type": "execute_result",
          "data": {
            "text/plain": [
              "tensor([[-1.2159, -1.4264, -1.5354, -1.3942]], grad_fn=<LogSoftmaxBackward>)"
            ]
          },
          "metadata": {
            "tags": []
          },
          "execution_count": 73
        }
      ]
    },
    {
      "metadata": {
        "id": "4-ljpd7mbl6d",
        "colab_type": "text"
      },
      "cell_type": "markdown",
      "source": [
        "# Optimizer and Criterion"
      ]
    },
    {
      "metadata": {
        "id": "WxYHLF99R4q-",
        "colab_type": "text"
      },
      "cell_type": "markdown",
      "source": [
        "Using Adam optimizer with learning rate scheduler\n",
        "NLLLoss is used with log softmax for computation prupose."
      ]
    },
    {
      "metadata": {
        "id": "IibUkSpnZu-G",
        "colab_type": "code",
        "colab": {}
      },
      "cell_type": "code",
      "source": [
        "model = My_Model()\n",
        "model = model.cuda()\n",
        "\n",
        "criterion = nn.NLLLoss()\n",
        "\n",
        "optimizer = torch.optim.Adam(model.parameters(), lr=1e-3)\n",
        "scheduler = torch.optim.lr_scheduler.StepLR(optimizer, step_size=250, gamma=0.1)"
      ],
      "execution_count": 0,
      "outputs": []
    },
    {
      "metadata": {
        "id": "-cwO0koobuya",
        "colab_type": "text"
      },
      "cell_type": "markdown",
      "source": [
        "# Train Loop"
      ]
    },
    {
      "metadata": {
        "id": "X3toDexDSM5X",
        "colab_type": "text"
      },
      "cell_type": "markdown",
      "source": [
        "Model is trained with 85% od data and used th eother 15% as validation data to choose the best model.\n",
        "\n",
        "The best model is chosen with low validation loss, as it generalizes more tot he data."
      ]
    },
    {
      "metadata": {
        "id": "O8w0K5e3bria",
        "colab_type": "code",
        "outputId": "e8dc0223-f444-4577-84ca-9758067d8b36",
        "colab": {
          "base_uri": "https://localhost:8080/",
          "height": 21733
        }
      },
      "cell_type": "code",
      "source": [
        "import matplotlib.pyplot as plt\n",
        "\n",
        "optimizer = torch.optim.Adam(model.parameters(), lr=1e-3)\n",
        "valid_loss_min = np.Inf\n",
        "epochs = 1000\n",
        "steps = 0\n",
        "\n",
        "train_losses, test_losses = [], []\n",
        "for e in range(epochs):\n",
        "    running_loss = 0\n",
        "    tr_accuracy = 0\n",
        "    for images, labels in trainloader:\n",
        "        scheduler.step()\n",
        "        images = images.cuda()\n",
        "        labels = labels.long().cuda().reshape(-1)\n",
        "        optimizer.zero_grad()\n",
        "        \n",
        "        log_ps  = model(images)\n",
        "        loss = criterion(log_ps, labels)\n",
        "        loss.backward()\n",
        "        optimizer.step()\n",
        "        \n",
        "        running_loss += loss.item()\n",
        "        \n",
        "        ps = torch.exp(log_ps)\n",
        "        top_p, top_class = ps.topk(1, dim=1)\n",
        "        equals = top_class == labels.view(*top_class.shape)\n",
        "        tr_accuracy += torch.mean(equals.type(torch.FloatTensor))\n",
        "        \n",
        "    else:\n",
        "        test_loss = 0\n",
        "        accuracy = 0\n",
        "        \n",
        "        with torch.no_grad():\n",
        "            model.eval()\n",
        "            for images, labels in testloader:\n",
        "                images = images.cuda()\n",
        "                labels = labels.long().cuda().reshape(-1)\n",
        "                log_ps = model(images)\n",
        "                test_loss += criterion(log_ps, labels)\n",
        "                \n",
        "                ps = torch.exp(log_ps)\n",
        "                top_p, top_class = ps.topk(1, dim=1)\n",
        "                equals = top_class == labels.view(*top_class.shape)\n",
        "                accuracy += torch.mean(equals.type(torch.FloatTensor))\n",
        "        \n",
        "        model.train()\n",
        "        train_losses.append(running_loss/len(trainloader))\n",
        "        test_losses.append(test_loss/len(testloader))\n",
        "\n",
        "        print(\"Epoch: {}/{} \".format(e+1, epochs),\n",
        "              \"Training Loss: {:.3f} \".format(train_losses[-1]),\n",
        "              \"Training Acc: {:.3f} \".format(tr_accuracy/len(trainloader)),\n",
        "              \"Test Loss: {:.3f} \".format(test_losses[-1]),\n",
        "              \"Test Acc: {:.3f}\".format(accuracy/len(testloader)))\n",
        "        if test_loss/len(testloader) <= valid_loss_min:\n",
        "          print('Validation loss decreased ({:.6f} --> {:.6f}).  Saving model ...'.format(\n",
        "          valid_loss_min,\n",
        "          test_loss/len(testloader)))\n",
        "          torch.save(model.state_dict(), 'best_model.pt')\n",
        "          valid_loss_min = test_loss/len(testloader)\n",
        "        \n",
        "plt.plot(train_losses, 'b', label='Training Loss')\n",
        "plt.plot(test_losses, 'r', label='Validation Loss')\n",
        "plt.show()"
      ],
      "execution_count": 31,
      "outputs": [
        {
          "output_type": "stream",
          "text": [
            "Epoch: 1/1000  Training Loss: 1.389  Training Acc: 0.258  Test Loss: 1.385  Test Acc: 0.260\n",
            "Validation loss decreased (inf --> 1.385480).  Saving model ...\n",
            "Epoch: 2/1000  Training Loss: 1.357  Training Acc: 0.365  Test Loss: 1.385  Test Acc: 0.260\n",
            "Validation loss decreased (1.385480 --> 1.384687).  Saving model ...\n",
            "Epoch: 3/1000  Training Loss: 1.318  Training Acc: 0.423  Test Loss: 1.383  Test Acc: 0.260\n",
            "Validation loss decreased (1.384687 --> 1.383040).  Saving model ...\n",
            "Epoch: 4/1000  Training Loss: 1.257  Training Acc: 0.482  Test Loss: 1.379  Test Acc: 0.334\n",
            "Validation loss decreased (1.383040 --> 1.379316).  Saving model ...\n",
            "Epoch: 5/1000  Training Loss: 1.191  Training Acc: 0.504  Test Loss: 1.372  Test Acc: 0.328\n",
            "Validation loss decreased (1.379316 --> 1.372059).  Saving model ...\n",
            "Epoch: 6/1000  Training Loss: 1.115  Training Acc: 0.536  Test Loss: 1.359  Test Acc: 0.327\n",
            "Validation loss decreased (1.372059 --> 1.359255).  Saving model ...\n",
            "Epoch: 7/1000  Training Loss: 1.043  Training Acc: 0.560  Test Loss: 1.340  Test Acc: 0.347\n",
            "Validation loss decreased (1.359255 --> 1.340029).  Saving model ...\n",
            "Epoch: 8/1000  Training Loss: 0.983  Training Acc: 0.585  Test Loss: 1.311  Test Acc: 0.403\n",
            "Validation loss decreased (1.340029 --> 1.310633).  Saving model ...\n",
            "Epoch: 9/1000  Training Loss: 0.945  Training Acc: 0.587  Test Loss: 1.274  Test Acc: 0.471\n",
            "Validation loss decreased (1.310633 --> 1.273691).  Saving model ...\n",
            "Epoch: 10/1000  Training Loss: 0.912  Training Acc: 0.612  Test Loss: 1.235  Test Acc: 0.507\n",
            "Validation loss decreased (1.273691 --> 1.235280).  Saving model ...\n",
            "Epoch: 11/1000  Training Loss: 0.891  Training Acc: 0.613  Test Loss: 1.186  Test Acc: 0.556\n",
            "Validation loss decreased (1.235280 --> 1.186191).  Saving model ...\n",
            "Epoch: 12/1000  Training Loss: 0.875  Training Acc: 0.624  Test Loss: 1.147  Test Acc: 0.577\n",
            "Validation loss decreased (1.186191 --> 1.147032).  Saving model ...\n",
            "Epoch: 13/1000  Training Loss: 0.857  Training Acc: 0.632  Test Loss: 1.112  Test Acc: 0.603\n",
            "Validation loss decreased (1.147032 --> 1.111744).  Saving model ...\n",
            "Epoch: 14/1000  Training Loss: 0.847  Training Acc: 0.631  Test Loss: 1.074  Test Acc: 0.628\n",
            "Validation loss decreased (1.111744 --> 1.074244).  Saving model ...\n",
            "Epoch: 15/1000  Training Loss: 0.828  Training Acc: 0.647  Test Loss: 1.045  Test Acc: 0.644\n",
            "Validation loss decreased (1.074244 --> 1.044706).  Saving model ...\n",
            "Epoch: 16/1000  Training Loss: 0.808  Training Acc: 0.652  Test Loss: 1.026  Test Acc: 0.654\n",
            "Validation loss decreased (1.044706 --> 1.025621).  Saving model ...\n",
            "Epoch: 17/1000  Training Loss: 0.791  Training Acc: 0.656  Test Loss: 1.004  Test Acc: 0.663\n",
            "Validation loss decreased (1.025621 --> 1.004092).  Saving model ...\n",
            "Epoch: 18/1000  Training Loss: 0.779  Training Acc: 0.658  Test Loss: 0.982  Test Acc: 0.676\n",
            "Validation loss decreased (1.004092 --> 0.981546).  Saving model ...\n",
            "Epoch: 19/1000  Training Loss: 0.766  Training Acc: 0.665  Test Loss: 0.961  Test Acc: 0.681\n",
            "Validation loss decreased (0.981546 --> 0.960650).  Saving model ...\n",
            "Epoch: 20/1000  Training Loss: 0.757  Training Acc: 0.665  Test Loss: 0.940  Test Acc: 0.685\n",
            "Validation loss decreased (0.960650 --> 0.940238).  Saving model ...\n",
            "Epoch: 21/1000  Training Loss: 0.752  Training Acc: 0.672  Test Loss: 0.915  Test Acc: 0.688\n",
            "Validation loss decreased (0.940238 --> 0.915363).  Saving model ...\n",
            "Epoch: 22/1000  Training Loss: 0.743  Training Acc: 0.680  Test Loss: 0.887  Test Acc: 0.694\n",
            "Validation loss decreased (0.915363 --> 0.886756).  Saving model ...\n",
            "Epoch: 23/1000  Training Loss: 0.740  Training Acc: 0.679  Test Loss: 0.858  Test Acc: 0.699\n",
            "Validation loss decreased (0.886756 --> 0.857918).  Saving model ...\n",
            "Epoch: 24/1000  Training Loss: 0.722  Training Acc: 0.686  Test Loss: 0.831  Test Acc: 0.703\n",
            "Validation loss decreased (0.857918 --> 0.831338).  Saving model ...\n",
            "Epoch: 25/1000  Training Loss: 0.715  Training Acc: 0.691  Test Loss: 0.806  Test Acc: 0.707\n",
            "Validation loss decreased (0.831338 --> 0.805548).  Saving model ...\n",
            "Epoch: 26/1000  Training Loss: 0.713  Training Acc: 0.687  Test Loss: 0.780  Test Acc: 0.707\n",
            "Validation loss decreased (0.805548 --> 0.779975).  Saving model ...\n",
            "Epoch: 27/1000  Training Loss: 0.696  Training Acc: 0.703  Test Loss: 0.756  Test Acc: 0.709\n",
            "Validation loss decreased (0.779975 --> 0.755657).  Saving model ...\n",
            "Epoch: 28/1000  Training Loss: 0.695  Training Acc: 0.700  Test Loss: 0.736  Test Acc: 0.713\n",
            "Validation loss decreased (0.755657 --> 0.736256).  Saving model ...\n",
            "Epoch: 29/1000  Training Loss: 0.686  Training Acc: 0.703  Test Loss: 0.721  Test Acc: 0.715\n",
            "Validation loss decreased (0.736256 --> 0.721348).  Saving model ...\n",
            "Epoch: 30/1000  Training Loss: 0.684  Training Acc: 0.704  Test Loss: 0.710  Test Acc: 0.717\n",
            "Validation loss decreased (0.721348 --> 0.709996).  Saving model ...\n",
            "Epoch: 31/1000  Training Loss: 0.673  Training Acc: 0.711  Test Loss: 0.702  Test Acc: 0.720\n",
            "Validation loss decreased (0.709996 --> 0.701546).  Saving model ...\n",
            "Epoch: 32/1000  Training Loss: 0.675  Training Acc: 0.715  Test Loss: 0.695  Test Acc: 0.723\n",
            "Validation loss decreased (0.701546 --> 0.694939).  Saving model ...\n",
            "Epoch: 33/1000  Training Loss: 0.669  Training Acc: 0.715  Test Loss: 0.689  Test Acc: 0.733\n",
            "Validation loss decreased (0.694939 --> 0.689008).  Saving model ...\n",
            "Epoch: 34/1000  Training Loss: 0.658  Training Acc: 0.724  Test Loss: 0.682  Test Acc: 0.734\n",
            "Validation loss decreased (0.689008 --> 0.682236).  Saving model ...\n",
            "Epoch: 35/1000  Training Loss: 0.655  Training Acc: 0.724  Test Loss: 0.675  Test Acc: 0.741\n",
            "Validation loss decreased (0.682236 --> 0.674825).  Saving model ...\n",
            "Epoch: 36/1000  Training Loss: 0.651  Training Acc: 0.725  Test Loss: 0.668  Test Acc: 0.745\n",
            "Validation loss decreased (0.674825 --> 0.668138).  Saving model ...\n",
            "Epoch: 37/1000  Training Loss: 0.645  Training Acc: 0.723  Test Loss: 0.660  Test Acc: 0.743\n",
            "Validation loss decreased (0.668138 --> 0.659785).  Saving model ...\n",
            "Epoch: 38/1000  Training Loss: 0.642  Training Acc: 0.728  Test Loss: 0.648  Test Acc: 0.747\n",
            "Validation loss decreased (0.659785 --> 0.648291).  Saving model ...\n",
            "Epoch: 39/1000  Training Loss: 0.639  Training Acc: 0.730  Test Loss: 0.635  Test Acc: 0.748\n",
            "Validation loss decreased (0.648291 --> 0.635429).  Saving model ...\n",
            "Epoch: 40/1000  Training Loss: 0.631  Training Acc: 0.732  Test Loss: 0.626  Test Acc: 0.749\n",
            "Validation loss decreased (0.635429 --> 0.626153).  Saving model ...\n",
            "Epoch: 41/1000  Training Loss: 0.619  Training Acc: 0.741  Test Loss: 0.618  Test Acc: 0.750\n",
            "Validation loss decreased (0.626153 --> 0.617857).  Saving model ...\n",
            "Epoch: 42/1000  Training Loss: 0.625  Training Acc: 0.743  Test Loss: 0.608  Test Acc: 0.752\n",
            "Validation loss decreased (0.617857 --> 0.608306).  Saving model ...\n",
            "Epoch: 43/1000  Training Loss: 0.624  Training Acc: 0.738  Test Loss: 0.599  Test Acc: 0.758\n",
            "Validation loss decreased (0.608306 --> 0.598952).  Saving model ...\n",
            "Epoch: 44/1000  Training Loss: 0.614  Training Acc: 0.743  Test Loss: 0.591  Test Acc: 0.761\n",
            "Validation loss decreased (0.598952 --> 0.591010).  Saving model ...\n",
            "Epoch: 45/1000  Training Loss: 0.615  Training Acc: 0.745  Test Loss: 0.586  Test Acc: 0.770\n",
            "Validation loss decreased (0.591010 --> 0.585915).  Saving model ...\n",
            "Epoch: 46/1000  Training Loss: 0.609  Training Acc: 0.749  Test Loss: 0.583  Test Acc: 0.773\n",
            "Validation loss decreased (0.585915 --> 0.583029).  Saving model ...\n",
            "Epoch: 47/1000  Training Loss: 0.601  Training Acc: 0.752  Test Loss: 0.579  Test Acc: 0.776\n",
            "Validation loss decreased (0.583029 --> 0.579002).  Saving model ...\n",
            "Epoch: 48/1000  Training Loss: 0.591  Training Acc: 0.762  Test Loss: 0.572  Test Acc: 0.781\n",
            "Validation loss decreased (0.579002 --> 0.572295).  Saving model ...\n",
            "Epoch: 49/1000  Training Loss: 0.598  Training Acc: 0.753  Test Loss: 0.565  Test Acc: 0.782\n",
            "Validation loss decreased (0.572295 --> 0.565005).  Saving model ...\n",
            "Epoch: 50/1000  Training Loss: 0.588  Training Acc: 0.765  Test Loss: 0.559  Test Acc: 0.785\n",
            "Validation loss decreased (0.565005 --> 0.559489).  Saving model ...\n",
            "Epoch: 51/1000  Training Loss: 0.589  Training Acc: 0.756  Test Loss: 0.559  Test Acc: 0.788\n",
            "Validation loss decreased (0.559489 --> 0.558672).  Saving model ...\n",
            "Epoch: 52/1000  Training Loss: 0.579  Training Acc: 0.765  Test Loss: 0.557  Test Acc: 0.787\n",
            "Validation loss decreased (0.558672 --> 0.557431).  Saving model ...\n",
            "Epoch: 53/1000  Training Loss: 0.582  Training Acc: 0.757  Test Loss: 0.549  Test Acc: 0.795\n",
            "Validation loss decreased (0.557431 --> 0.549038).  Saving model ...\n",
            "Epoch: 54/1000  Training Loss: 0.576  Training Acc: 0.769  Test Loss: 0.539  Test Acc: 0.791\n",
            "Validation loss decreased (0.549038 --> 0.539257).  Saving model ...\n",
            "Epoch: 55/1000  Training Loss: 0.564  Training Acc: 0.770  Test Loss: 0.533  Test Acc: 0.794\n",
            "Validation loss decreased (0.539257 --> 0.532687).  Saving model ...\n",
            "Epoch: 56/1000  Training Loss: 0.568  Training Acc: 0.767  Test Loss: 0.530  Test Acc: 0.797\n",
            "Validation loss decreased (0.532687 --> 0.530398).  Saving model ...\n",
            "Epoch: 57/1000  Training Loss: 0.557  Training Acc: 0.773  Test Loss: 0.531  Test Acc: 0.795\n",
            "Epoch: 58/1000  Training Loss: 0.561  Training Acc: 0.773  Test Loss: 0.527  Test Acc: 0.799\n",
            "Validation loss decreased (0.530398 --> 0.527036).  Saving model ...\n",
            "Epoch: 59/1000  Training Loss: 0.552  Training Acc: 0.776  Test Loss: 0.518  Test Acc: 0.802\n",
            "Validation loss decreased (0.527036 --> 0.517774).  Saving model ...\n",
            "Epoch: 60/1000  Training Loss: 0.554  Training Acc: 0.777  Test Loss: 0.509  Test Acc: 0.802\n",
            "Validation loss decreased (0.517774 --> 0.508519).  Saving model ...\n",
            "Epoch: 61/1000  Training Loss: 0.551  Training Acc: 0.778  Test Loss: 0.505  Test Acc: 0.801\n",
            "Validation loss decreased (0.508519 --> 0.505275).  Saving model ...\n",
            "Epoch: 62/1000  Training Loss: 0.540  Training Acc: 0.776  Test Loss: 0.505  Test Acc: 0.803\n",
            "Validation loss decreased (0.505275 --> 0.505247).  Saving model ...\n",
            "Epoch: 63/1000  Training Loss: 0.537  Training Acc: 0.787  Test Loss: 0.500  Test Acc: 0.810\n",
            "Validation loss decreased (0.505247 --> 0.499554).  Saving model ...\n",
            "Epoch: 64/1000  Training Loss: 0.536  Training Acc: 0.783  Test Loss: 0.492  Test Acc: 0.812\n",
            "Validation loss decreased (0.499554 --> 0.491778).  Saving model ...\n",
            "Epoch: 65/1000  Training Loss: 0.538  Training Acc: 0.781  Test Loss: 0.485  Test Acc: 0.812\n",
            "Validation loss decreased (0.491778 --> 0.485256).  Saving model ...\n",
            "Epoch: 66/1000  Training Loss: 0.521  Training Acc: 0.793  Test Loss: 0.483  Test Acc: 0.815\n",
            "Validation loss decreased (0.485256 --> 0.482993).  Saving model ...\n",
            "Epoch: 67/1000  Training Loss: 0.535  Training Acc: 0.783  Test Loss: 0.483  Test Acc: 0.816\n",
            "Validation loss decreased (0.482993 --> 0.482679).  Saving model ...\n",
            "Epoch: 68/1000  Training Loss: 0.528  Training Acc: 0.791  Test Loss: 0.479  Test Acc: 0.817\n",
            "Validation loss decreased (0.482679 --> 0.479408).  Saving model ...\n",
            "Epoch: 69/1000  Training Loss: 0.519  Training Acc: 0.790  Test Loss: 0.470  Test Acc: 0.817\n",
            "Validation loss decreased (0.479408 --> 0.470122).  Saving model ...\n",
            "Epoch: 70/1000  Training Loss: 0.520  Training Acc: 0.793  Test Loss: 0.464  Test Acc: 0.819\n",
            "Validation loss decreased (0.470122 --> 0.464326).  Saving model ...\n",
            "Epoch: 71/1000  Training Loss: 0.519  Training Acc: 0.791  Test Loss: 0.464  Test Acc: 0.822\n",
            "Validation loss decreased (0.464326 --> 0.464023).  Saving model ...\n",
            "Epoch: 72/1000  Training Loss: 0.515  Training Acc: 0.790  Test Loss: 0.467  Test Acc: 0.821\n",
            "Epoch: 73/1000  Training Loss: 0.513  Training Acc: 0.792  Test Loss: 0.462  Test Acc: 0.824\n",
            "Validation loss decreased (0.464023 --> 0.462353).  Saving model ...\n",
            "Epoch: 74/1000  Training Loss: 0.503  Training Acc: 0.794  Test Loss: 0.454  Test Acc: 0.825\n",
            "Validation loss decreased (0.462353 --> 0.453753).  Saving model ...\n",
            "Epoch: 75/1000  Training Loss: 0.506  Training Acc: 0.797  Test Loss: 0.447  Test Acc: 0.827\n",
            "Validation loss decreased (0.453753 --> 0.446826).  Saving model ...\n",
            "Epoch: 76/1000  Training Loss: 0.502  Training Acc: 0.793  Test Loss: 0.444  Test Acc: 0.827\n",
            "Validation loss decreased (0.446826 --> 0.444008).  Saving model ...\n",
            "Epoch: 77/1000  Training Loss: 0.502  Training Acc: 0.797  Test Loss: 0.444  Test Acc: 0.831\n",
            "Validation loss decreased (0.444008 --> 0.443579).  Saving model ...\n",
            "Epoch: 78/1000  Training Loss: 0.496  Training Acc: 0.804  Test Loss: 0.442  Test Acc: 0.828\n",
            "Validation loss decreased (0.443579 --> 0.442105).  Saving model ...\n",
            "Epoch: 79/1000  Training Loss: 0.493  Training Acc: 0.808  Test Loss: 0.437  Test Acc: 0.832\n",
            "Validation loss decreased (0.442105 --> 0.436937).  Saving model ...\n",
            "Epoch: 80/1000  Training Loss: 0.492  Training Acc: 0.801  Test Loss: 0.432  Test Acc: 0.832\n",
            "Validation loss decreased (0.436937 --> 0.432355).  Saving model ...\n",
            "Epoch: 81/1000  Training Loss: 0.491  Training Acc: 0.803  Test Loss: 0.429  Test Acc: 0.833\n",
            "Validation loss decreased (0.432355 --> 0.428950).  Saving model ...\n",
            "Epoch: 82/1000  Training Loss: 0.490  Training Acc: 0.808  Test Loss: 0.429  Test Acc: 0.835\n",
            "Epoch: 83/1000  Training Loss: 0.481  Training Acc: 0.810  Test Loss: 0.429  Test Acc: 0.833\n",
            "Epoch: 84/1000  Training Loss: 0.480  Training Acc: 0.806  Test Loss: 0.428  Test Acc: 0.837\n",
            "Validation loss decreased (0.428950 --> 0.428011).  Saving model ...\n",
            "Epoch: 85/1000  Training Loss: 0.482  Training Acc: 0.807  Test Loss: 0.426  Test Acc: 0.833\n",
            "Validation loss decreased (0.428011 --> 0.425669).  Saving model ...\n",
            "Epoch: 86/1000  Training Loss: 0.485  Training Acc: 0.804  Test Loss: 0.421  Test Acc: 0.835\n",
            "Validation loss decreased (0.425669 --> 0.420614).  Saving model ...\n",
            "Epoch: 87/1000  Training Loss: 0.468  Training Acc: 0.810  Test Loss: 0.418  Test Acc: 0.840\n",
            "Validation loss decreased (0.420614 --> 0.417964).  Saving model ...\n",
            "Epoch: 88/1000  Training Loss: 0.473  Training Acc: 0.811  Test Loss: 0.416  Test Acc: 0.837\n",
            "Validation loss decreased (0.417964 --> 0.416253).  Saving model ...\n",
            "Epoch: 89/1000  Training Loss: 0.471  Training Acc: 0.811  Test Loss: 0.417  Test Acc: 0.836\n",
            "Epoch: 90/1000  Training Loss: 0.466  Training Acc: 0.819  Test Loss: 0.415  Test Acc: 0.837\n",
            "Validation loss decreased (0.416253 --> 0.415457).  Saving model ...\n",
            "Epoch: 91/1000  Training Loss: 0.468  Training Acc: 0.817  Test Loss: 0.410  Test Acc: 0.838\n",
            "Validation loss decreased (0.415457 --> 0.410481).  Saving model ...\n",
            "Epoch: 92/1000  Training Loss: 0.460  Training Acc: 0.816  Test Loss: 0.404  Test Acc: 0.842\n",
            "Validation loss decreased (0.410481 --> 0.404446).  Saving model ...\n",
            "Epoch: 93/1000  Training Loss: 0.461  Training Acc: 0.816  Test Loss: 0.402  Test Acc: 0.845\n",
            "Validation loss decreased (0.404446 --> 0.401999).  Saving model ...\n",
            "Epoch: 94/1000  Training Loss: 0.465  Training Acc: 0.818  Test Loss: 0.401  Test Acc: 0.845\n",
            "Validation loss decreased (0.401999 --> 0.401381).  Saving model ...\n",
            "Epoch: 95/1000  Training Loss: 0.449  Training Acc: 0.823  Test Loss: 0.401  Test Acc: 0.844\n",
            "Validation loss decreased (0.401381 --> 0.401320).  Saving model ...\n",
            "Epoch: 96/1000  Training Loss: 0.459  Training Acc: 0.816  Test Loss: 0.398  Test Acc: 0.846\n",
            "Validation loss decreased (0.401320 --> 0.398122).  Saving model ...\n",
            "Epoch: 97/1000  Training Loss: 0.453  Training Acc: 0.819  Test Loss: 0.394  Test Acc: 0.848\n",
            "Validation loss decreased (0.398122 --> 0.394098).  Saving model ...\n",
            "Epoch: 98/1000  Training Loss: 0.450  Training Acc: 0.823  Test Loss: 0.392  Test Acc: 0.846\n",
            "Validation loss decreased (0.394098 --> 0.391749).  Saving model ...\n",
            "Epoch: 99/1000  Training Loss: 0.453  Training Acc: 0.816  Test Loss: 0.391  Test Acc: 0.842\n",
            "Validation loss decreased (0.391749 --> 0.391218).  Saving model ...\n",
            "Epoch: 100/1000  Training Loss: 0.447  Training Acc: 0.825  Test Loss: 0.390  Test Acc: 0.843\n",
            "Validation loss decreased (0.391218 --> 0.389848).  Saving model ...\n",
            "Epoch: 101/1000  Training Loss: 0.444  Training Acc: 0.823  Test Loss: 0.387  Test Acc: 0.843\n",
            "Validation loss decreased (0.389848 --> 0.387193).  Saving model ...\n",
            "Epoch: 102/1000  Training Loss: 0.445  Training Acc: 0.821  Test Loss: 0.385  Test Acc: 0.842\n",
            "Validation loss decreased (0.387193 --> 0.384777).  Saving model ...\n",
            "Epoch: 103/1000  Training Loss: 0.447  Training Acc: 0.822  Test Loss: 0.383  Test Acc: 0.843\n",
            "Validation loss decreased (0.384777 --> 0.383021).  Saving model ...\n",
            "Epoch: 104/1000  Training Loss: 0.438  Training Acc: 0.832  Test Loss: 0.382  Test Acc: 0.848\n",
            "Validation loss decreased (0.383021 --> 0.382294).  Saving model ...\n",
            "Epoch: 105/1000  Training Loss: 0.434  Training Acc: 0.826  Test Loss: 0.381  Test Acc: 0.847\n",
            "Validation loss decreased (0.382294 --> 0.381252).  Saving model ...\n",
            "Epoch: 106/1000  Training Loss: 0.433  Training Acc: 0.833  Test Loss: 0.379  Test Acc: 0.849\n",
            "Validation loss decreased (0.381252 --> 0.378744).  Saving model ...\n",
            "Epoch: 107/1000  Training Loss: 0.435  Training Acc: 0.825  Test Loss: 0.376  Test Acc: 0.848\n",
            "Validation loss decreased (0.378744 --> 0.376432).  Saving model ...\n",
            "Epoch: 108/1000  Training Loss: 0.433  Training Acc: 0.823  Test Loss: 0.375  Test Acc: 0.851\n",
            "Validation loss decreased (0.376432 --> 0.374857).  Saving model ...\n",
            "Epoch: 109/1000  Training Loss: 0.433  Training Acc: 0.824  Test Loss: 0.374  Test Acc: 0.852\n",
            "Validation loss decreased (0.374857 --> 0.373990).  Saving model ...\n",
            "Epoch: 110/1000  Training Loss: 0.424  Training Acc: 0.829  Test Loss: 0.373  Test Acc: 0.858\n",
            "Validation loss decreased (0.373990 --> 0.373197).  Saving model ...\n",
            "Epoch: 111/1000  Training Loss: 0.419  Training Acc: 0.836  Test Loss: 0.373  Test Acc: 0.858\n",
            "Validation loss decreased (0.373197 --> 0.372614).  Saving model ...\n",
            "Epoch: 112/1000  Training Loss: 0.420  Training Acc: 0.837  Test Loss: 0.371  Test Acc: 0.858\n",
            "Validation loss decreased (0.372614 --> 0.371255).  Saving model ...\n",
            "Epoch: 113/1000  Training Loss: 0.422  Training Acc: 0.832  Test Loss: 0.370  Test Acc: 0.856\n",
            "Validation loss decreased (0.371255 --> 0.370043).  Saving model ...\n",
            "Epoch: 114/1000  Training Loss: 0.421  Training Acc: 0.831  Test Loss: 0.369  Test Acc: 0.858\n",
            "Validation loss decreased (0.370043 --> 0.369116).  Saving model ...\n",
            "Epoch: 115/1000  Training Loss: 0.427  Training Acc: 0.826  Test Loss: 0.367  Test Acc: 0.863\n",
            "Validation loss decreased (0.369116 --> 0.366943).  Saving model ...\n",
            "Epoch: 116/1000  Training Loss: 0.419  Training Acc: 0.829  Test Loss: 0.366  Test Acc: 0.861\n",
            "Validation loss decreased (0.366943 --> 0.365890).  Saving model ...\n",
            "Epoch: 117/1000  Training Loss: 0.421  Training Acc: 0.834  Test Loss: 0.366  Test Acc: 0.861\n",
            "Epoch: 118/1000  Training Loss: 0.419  Training Acc: 0.833  Test Loss: 0.366  Test Acc: 0.861\n",
            "Epoch: 119/1000  Training Loss: 0.416  Training Acc: 0.833  Test Loss: 0.364  Test Acc: 0.860\n",
            "Validation loss decreased (0.365890 --> 0.364419).  Saving model ...\n",
            "Epoch: 120/1000  Training Loss: 0.423  Training Acc: 0.829  Test Loss: 0.363  Test Acc: 0.861\n",
            "Validation loss decreased (0.364419 --> 0.362757).  Saving model ...\n",
            "Epoch: 121/1000  Training Loss: 0.416  Training Acc: 0.831  Test Loss: 0.362  Test Acc: 0.858\n",
            "Validation loss decreased (0.362757 --> 0.362145).  Saving model ...\n",
            "Epoch: 122/1000  Training Loss: 0.416  Training Acc: 0.837  Test Loss: 0.362  Test Acc: 0.859\n",
            "Validation loss decreased (0.362145 --> 0.361982).  Saving model ...\n",
            "Epoch: 123/1000  Training Loss: 0.412  Training Acc: 0.835  Test Loss: 0.362  Test Acc: 0.858\n",
            "Validation loss decreased (0.361982 --> 0.361785).  Saving model ...\n",
            "Epoch: 124/1000  Training Loss: 0.408  Training Acc: 0.844  Test Loss: 0.361  Test Acc: 0.859\n",
            "Validation loss decreased (0.361785 --> 0.360949).  Saving model ...\n",
            "Epoch: 125/1000  Training Loss: 0.412  Training Acc: 0.838  Test Loss: 0.360  Test Acc: 0.861\n",
            "Validation loss decreased (0.360949 --> 0.359516).  Saving model ...\n",
            "Epoch: 126/1000  Training Loss: 0.413  Training Acc: 0.836  Test Loss: 0.358  Test Acc: 0.862\n",
            "Validation loss decreased (0.359516 --> 0.357790).  Saving model ...\n",
            "Epoch: 127/1000  Training Loss: 0.402  Training Acc: 0.844  Test Loss: 0.357  Test Acc: 0.864\n",
            "Validation loss decreased (0.357790 --> 0.356800).  Saving model ...\n",
            "Epoch: 128/1000  Training Loss: 0.414  Training Acc: 0.837  Test Loss: 0.357  Test Acc: 0.864\n",
            "Epoch: 129/1000  Training Loss: 0.404  Training Acc: 0.837  Test Loss: 0.357  Test Acc: 0.863\n",
            "Validation loss decreased (0.356800 --> 0.356631).  Saving model ...\n",
            "Epoch: 130/1000  Training Loss: 0.406  Training Acc: 0.843  Test Loss: 0.355  Test Acc: 0.866\n",
            "Validation loss decreased (0.356631 --> 0.354867).  Saving model ...\n",
            "Epoch: 131/1000  Training Loss: 0.398  Training Acc: 0.841  Test Loss: 0.353  Test Acc: 0.867\n",
            "Validation loss decreased (0.354867 --> 0.352867).  Saving model ...\n",
            "Epoch: 132/1000  Training Loss: 0.400  Training Acc: 0.840  Test Loss: 0.352  Test Acc: 0.866\n",
            "Validation loss decreased (0.352867 --> 0.352126).  Saving model ...\n",
            "Epoch: 133/1000  Training Loss: 0.399  Training Acc: 0.842  Test Loss: 0.352  Test Acc: 0.864\n",
            "Validation loss decreased (0.352126 --> 0.351630).  Saving model ...\n",
            "Epoch: 134/1000  Training Loss: 0.394  Training Acc: 0.842  Test Loss: 0.351  Test Acc: 0.866\n",
            "Validation loss decreased (0.351630 --> 0.350871).  Saving model ...\n",
            "Epoch: 135/1000  Training Loss: 0.397  Training Acc: 0.842  Test Loss: 0.350  Test Acc: 0.868\n",
            "Validation loss decreased (0.350871 --> 0.350232).  Saving model ...\n",
            "Epoch: 136/1000  Training Loss: 0.401  Training Acc: 0.841  Test Loss: 0.349  Test Acc: 0.876\n",
            "Validation loss decreased (0.350232 --> 0.349314).  Saving model ...\n",
            "Epoch: 137/1000  Training Loss: 0.393  Training Acc: 0.845  Test Loss: 0.348  Test Acc: 0.871\n",
            "Validation loss decreased (0.349314 --> 0.348267).  Saving model ...\n",
            "Epoch: 138/1000  Training Loss: 0.398  Training Acc: 0.844  Test Loss: 0.347  Test Acc: 0.871\n",
            "Validation loss decreased (0.348267 --> 0.346931).  Saving model ...\n",
            "Epoch: 139/1000  Training Loss: 0.394  Training Acc: 0.846  Test Loss: 0.346  Test Acc: 0.873\n",
            "Validation loss decreased (0.346931 --> 0.345901).  Saving model ...\n",
            "Epoch: 140/1000  Training Loss: 0.391  Training Acc: 0.844  Test Loss: 0.345  Test Acc: 0.873\n",
            "Validation loss decreased (0.345901 --> 0.344986).  Saving model ...\n",
            "Epoch: 141/1000  Training Loss: 0.388  Training Acc: 0.850  Test Loss: 0.344  Test Acc: 0.876\n",
            "Validation loss decreased (0.344986 --> 0.344181).  Saving model ...\n",
            "Epoch: 142/1000  Training Loss: 0.384  Training Acc: 0.848  Test Loss: 0.343  Test Acc: 0.874\n",
            "Validation loss decreased (0.344181 --> 0.343452).  Saving model ...\n",
            "Epoch: 143/1000  Training Loss: 0.381  Training Acc: 0.847  Test Loss: 0.343  Test Acc: 0.873\n",
            "Validation loss decreased (0.343452 --> 0.343070).  Saving model ...\n",
            "Epoch: 144/1000  Training Loss: 0.386  Training Acc: 0.848  Test Loss: 0.343  Test Acc: 0.873\n",
            "Validation loss decreased (0.343070 --> 0.342781).  Saving model ...\n",
            "Epoch: 145/1000  Training Loss: 0.383  Training Acc: 0.847  Test Loss: 0.343  Test Acc: 0.872\n",
            "Validation loss decreased (0.342781 --> 0.342672).  Saving model ...\n",
            "Epoch: 146/1000  Training Loss: 0.382  Training Acc: 0.853  Test Loss: 0.343  Test Acc: 0.873\n",
            "Epoch: 147/1000  Training Loss: 0.390  Training Acc: 0.844  Test Loss: 0.343  Test Acc: 0.876\n",
            "Epoch: 148/1000  Training Loss: 0.375  Training Acc: 0.851  Test Loss: 0.343  Test Acc: 0.876\n",
            "Epoch: 149/1000  Training Loss: 0.383  Training Acc: 0.849  Test Loss: 0.342  Test Acc: 0.874\n",
            "Validation loss decreased (0.342672 --> 0.342043).  Saving model ...\n",
            "Epoch: 150/1000  Training Loss: 0.378  Training Acc: 0.849  Test Loss: 0.342  Test Acc: 0.875\n",
            "Validation loss decreased (0.342043 --> 0.341552).  Saving model ...\n",
            "Epoch: 151/1000  Training Loss: 0.380  Training Acc: 0.849  Test Loss: 0.342  Test Acc: 0.877\n",
            "Epoch: 152/1000  Training Loss: 0.380  Training Acc: 0.850  Test Loss: 0.341  Test Acc: 0.876\n",
            "Validation loss decreased (0.341552 --> 0.341276).  Saving model ...\n",
            "Epoch: 153/1000  Training Loss: 0.378  Training Acc: 0.850  Test Loss: 0.340  Test Acc: 0.876\n",
            "Validation loss decreased (0.341276 --> 0.340138).  Saving model ...\n",
            "Epoch: 154/1000  Training Loss: 0.373  Training Acc: 0.852  Test Loss: 0.339  Test Acc: 0.875\n",
            "Validation loss decreased (0.340138 --> 0.339045).  Saving model ...\n",
            "Epoch: 155/1000  Training Loss: 0.381  Training Acc: 0.851  Test Loss: 0.338  Test Acc: 0.875\n",
            "Validation loss decreased (0.339045 --> 0.338401).  Saving model ...\n",
            "Epoch: 156/1000  Training Loss: 0.374  Training Acc: 0.849  Test Loss: 0.338  Test Acc: 0.876\n",
            "Validation loss decreased (0.338401 --> 0.337683).  Saving model ...\n",
            "Epoch: 157/1000  Training Loss: 0.370  Training Acc: 0.851  Test Loss: 0.338  Test Acc: 0.874\n",
            "Epoch: 158/1000  Training Loss: 0.378  Training Acc: 0.850  Test Loss: 0.337  Test Acc: 0.871\n",
            "Validation loss decreased (0.337683 --> 0.337287).  Saving model ...\n",
            "Epoch: 159/1000  Training Loss: 0.372  Training Acc: 0.848  Test Loss: 0.337  Test Acc: 0.868\n",
            "Validation loss decreased (0.337287 --> 0.336706).  Saving model ...\n",
            "Epoch: 160/1000  Training Loss: 0.362  Training Acc: 0.858  Test Loss: 0.334  Test Acc: 0.872\n",
            "Validation loss decreased (0.336706 --> 0.333676).  Saving model ...\n",
            "Epoch: 161/1000  Training Loss: 0.359  Training Acc: 0.859  Test Loss: 0.333  Test Acc: 0.877\n",
            "Validation loss decreased (0.333676 --> 0.332924).  Saving model ...\n",
            "Epoch: 162/1000  Training Loss: 0.362  Training Acc: 0.857  Test Loss: 0.333  Test Acc: 0.873\n",
            "Validation loss decreased (0.332924 --> 0.332855).  Saving model ...\n",
            "Epoch: 163/1000  Training Loss: 0.356  Training Acc: 0.859  Test Loss: 0.335  Test Acc: 0.873\n",
            "Epoch: 164/1000  Training Loss: 0.362  Training Acc: 0.852  Test Loss: 0.335  Test Acc: 0.872\n",
            "Epoch: 165/1000  Training Loss: 0.363  Training Acc: 0.859  Test Loss: 0.333  Test Acc: 0.874\n",
            "Epoch: 166/1000  Training Loss: 0.361  Training Acc: 0.859  Test Loss: 0.331  Test Acc: 0.875\n",
            "Validation loss decreased (0.332855 --> 0.331424).  Saving model ...\n",
            "Epoch: 167/1000  Training Loss: 0.370  Training Acc: 0.855  Test Loss: 0.331  Test Acc: 0.877\n",
            "Validation loss decreased (0.331424 --> 0.330807).  Saving model ...\n",
            "Epoch: 168/1000  Training Loss: 0.359  Training Acc: 0.860  Test Loss: 0.330  Test Acc: 0.874\n",
            "Validation loss decreased (0.330807 --> 0.330056).  Saving model ...\n",
            "Epoch: 169/1000  Training Loss: 0.353  Training Acc: 0.859  Test Loss: 0.330  Test Acc: 0.873\n",
            "Epoch: 170/1000  Training Loss: 0.357  Training Acc: 0.856  Test Loss: 0.330  Test Acc: 0.877\n",
            "Validation loss decreased (0.330056 --> 0.329665).  Saving model ...\n",
            "Epoch: 171/1000  Training Loss: 0.366  Training Acc: 0.856  Test Loss: 0.329  Test Acc: 0.877\n",
            "Validation loss decreased (0.329665 --> 0.328579).  Saving model ...\n",
            "Epoch: 172/1000  Training Loss: 0.356  Training Acc: 0.860  Test Loss: 0.328  Test Acc: 0.875\n",
            "Validation loss decreased (0.328579 --> 0.328237).  Saving model ...\n",
            "Epoch: 173/1000  Training Loss: 0.352  Training Acc: 0.862  Test Loss: 0.327  Test Acc: 0.874\n",
            "Validation loss decreased (0.328237 --> 0.327442).  Saving model ...\n",
            "Epoch: 174/1000  Training Loss: 0.356  Training Acc: 0.859  Test Loss: 0.326  Test Acc: 0.875\n",
            "Validation loss decreased (0.327442 --> 0.326429).  Saving model ...\n",
            "Epoch: 175/1000  Training Loss: 0.351  Training Acc: 0.862  Test Loss: 0.325  Test Acc: 0.875\n",
            "Validation loss decreased (0.326429 --> 0.325256).  Saving model ...\n",
            "Epoch: 176/1000  Training Loss: 0.353  Training Acc: 0.862  Test Loss: 0.325  Test Acc: 0.876\n",
            "Validation loss decreased (0.325256 --> 0.324811).  Saving model ...\n",
            "Epoch: 177/1000  Training Loss: 0.353  Training Acc: 0.856  Test Loss: 0.324  Test Acc: 0.877\n",
            "Validation loss decreased (0.324811 --> 0.324454).  Saving model ...\n",
            "Epoch: 178/1000  Training Loss: 0.346  Training Acc: 0.860  Test Loss: 0.323  Test Acc: 0.876\n",
            "Validation loss decreased (0.324454 --> 0.323214).  Saving model ...\n",
            "Epoch: 179/1000  Training Loss: 0.351  Training Acc: 0.859  Test Loss: 0.323  Test Acc: 0.875\n",
            "Epoch: 180/1000  Training Loss: 0.347  Training Acc: 0.863  Test Loss: 0.324  Test Acc: 0.874\n",
            "Epoch: 181/1000  Training Loss: 0.351  Training Acc: 0.861  Test Loss: 0.324  Test Acc: 0.876\n",
            "Epoch: 182/1000  Training Loss: 0.362  Training Acc: 0.859  Test Loss: 0.324  Test Acc: 0.876\n",
            "Epoch: 183/1000  Training Loss: 0.353  Training Acc: 0.859  Test Loss: 0.325  Test Acc: 0.876\n",
            "Epoch: 184/1000  Training Loss: 0.347  Training Acc: 0.864  Test Loss: 0.325  Test Acc: 0.879\n",
            "Epoch: 185/1000  Training Loss: 0.343  Training Acc: 0.862  Test Loss: 0.324  Test Acc: 0.880\n",
            "Epoch: 186/1000  Training Loss: 0.337  Training Acc: 0.867  Test Loss: 0.323  Test Acc: 0.878\n",
            "Validation loss decreased (0.323214 --> 0.323003).  Saving model ...\n",
            "Epoch: 187/1000  Training Loss: 0.344  Training Acc: 0.863  Test Loss: 0.322  Test Acc: 0.877\n",
            "Validation loss decreased (0.323003 --> 0.322377).  Saving model ...\n",
            "Epoch: 188/1000  Training Loss: 0.347  Training Acc: 0.858  Test Loss: 0.321  Test Acc: 0.879\n",
            "Validation loss decreased (0.322377 --> 0.321125).  Saving model ...\n",
            "Epoch: 189/1000  Training Loss: 0.345  Training Acc: 0.861  Test Loss: 0.321  Test Acc: 0.880\n",
            "Validation loss decreased (0.321125 --> 0.320523).  Saving model ...\n",
            "Epoch: 190/1000  Training Loss: 0.349  Training Acc: 0.864  Test Loss: 0.320  Test Acc: 0.880\n",
            "Validation loss decreased (0.320523 --> 0.319908).  Saving model ...\n",
            "Epoch: 191/1000  Training Loss: 0.346  Training Acc: 0.863  Test Loss: 0.319  Test Acc: 0.879\n",
            "Validation loss decreased (0.319908 --> 0.318760).  Saving model ...\n",
            "Epoch: 192/1000  Training Loss: 0.341  Training Acc: 0.864  Test Loss: 0.318  Test Acc: 0.878\n",
            "Validation loss decreased (0.318760 --> 0.317545).  Saving model ...\n",
            "Epoch: 193/1000  Training Loss: 0.331  Training Acc: 0.869  Test Loss: 0.317  Test Acc: 0.877\n",
            "Validation loss decreased (0.317545 --> 0.316669).  Saving model ...\n",
            "Epoch: 194/1000  Training Loss: 0.338  Training Acc: 0.865  Test Loss: 0.317  Test Acc: 0.876\n",
            "Validation loss decreased (0.316669 --> 0.316638).  Saving model ...\n",
            "Epoch: 195/1000  Training Loss: 0.337  Training Acc: 0.867  Test Loss: 0.317  Test Acc: 0.878\n",
            "Epoch: 196/1000  Training Loss: 0.345  Training Acc: 0.862  Test Loss: 0.317  Test Acc: 0.880\n",
            "Epoch: 197/1000  Training Loss: 0.347  Training Acc: 0.865  Test Loss: 0.317  Test Acc: 0.879\n",
            "Epoch: 198/1000  Training Loss: 0.326  Training Acc: 0.872  Test Loss: 0.317  Test Acc: 0.877\n",
            "Epoch: 199/1000  Training Loss: 0.330  Training Acc: 0.868  Test Loss: 0.317  Test Acc: 0.875\n",
            "Epoch: 200/1000  Training Loss: 0.335  Training Acc: 0.866  Test Loss: 0.318  Test Acc: 0.876\n",
            "Epoch: 201/1000  Training Loss: 0.333  Training Acc: 0.863  Test Loss: 0.318  Test Acc: 0.877\n",
            "Epoch: 202/1000  Training Loss: 0.330  Training Acc: 0.866  Test Loss: 0.317  Test Acc: 0.878\n",
            "Epoch: 203/1000  Training Loss: 0.336  Training Acc: 0.866  Test Loss: 0.316  Test Acc: 0.881\n",
            "Validation loss decreased (0.316638 --> 0.316331).  Saving model ...\n",
            "Epoch: 204/1000  Training Loss: 0.337  Training Acc: 0.864  Test Loss: 0.316  Test Acc: 0.880\n",
            "Validation loss decreased (0.316331 --> 0.316223).  Saving model ...\n",
            "Epoch: 205/1000  Training Loss: 0.334  Training Acc: 0.867  Test Loss: 0.318  Test Acc: 0.876\n",
            "Epoch: 206/1000  Training Loss: 0.335  Training Acc: 0.870  Test Loss: 0.317  Test Acc: 0.877\n",
            "Epoch: 207/1000  Training Loss: 0.326  Training Acc: 0.873  Test Loss: 0.315  Test Acc: 0.877\n",
            "Validation loss decreased (0.316223 --> 0.314517).  Saving model ...\n",
            "Epoch: 208/1000  Training Loss: 0.329  Training Acc: 0.875  Test Loss: 0.314  Test Acc: 0.875\n",
            "Validation loss decreased (0.314517 --> 0.313635).  Saving model ...\n",
            "Epoch: 209/1000  Training Loss: 0.321  Training Acc: 0.876  Test Loss: 0.313  Test Acc: 0.877\n",
            "Validation loss decreased (0.313635 --> 0.313152).  Saving model ...\n",
            "Epoch: 210/1000  Training Loss: 0.332  Training Acc: 0.868  Test Loss: 0.313  Test Acc: 0.875\n",
            "Validation loss decreased (0.313152 --> 0.312927).  Saving model ...\n",
            "Epoch: 211/1000  Training Loss: 0.328  Training Acc: 0.867  Test Loss: 0.312  Test Acc: 0.877\n",
            "Validation loss decreased (0.312927 --> 0.312163).  Saving model ...\n",
            "Epoch: 212/1000  Training Loss: 0.319  Training Acc: 0.871  Test Loss: 0.312  Test Acc: 0.877\n",
            "Epoch: 213/1000  Training Loss: 0.325  Training Acc: 0.875  Test Loss: 0.312  Test Acc: 0.874\n",
            "Epoch: 214/1000  Training Loss: 0.325  Training Acc: 0.869  Test Loss: 0.312  Test Acc: 0.873\n",
            "Validation loss decreased (0.312163 --> 0.312035).  Saving model ...\n",
            "Epoch: 215/1000  Training Loss: 0.317  Training Acc: 0.872  Test Loss: 0.312  Test Acc: 0.877\n",
            "Epoch: 216/1000  Training Loss: 0.331  Training Acc: 0.870  Test Loss: 0.312  Test Acc: 0.876\n",
            "Validation loss decreased (0.312035 --> 0.311983).  Saving model ...\n",
            "Epoch: 217/1000  Training Loss: 0.326  Training Acc: 0.869  Test Loss: 0.313  Test Acc: 0.876\n",
            "Epoch: 218/1000  Training Loss: 0.322  Training Acc: 0.873  Test Loss: 0.313  Test Acc: 0.873\n",
            "Epoch: 219/1000  Training Loss: 0.322  Training Acc: 0.872  Test Loss: 0.312  Test Acc: 0.876\n",
            "Epoch: 220/1000  Training Loss: 0.313  Training Acc: 0.874  Test Loss: 0.311  Test Acc: 0.878\n",
            "Validation loss decreased (0.311983 --> 0.311117).  Saving model ...\n",
            "Epoch: 221/1000  Training Loss: 0.329  Training Acc: 0.870  Test Loss: 0.310  Test Acc: 0.878\n",
            "Validation loss decreased (0.311117 --> 0.310149).  Saving model ...\n",
            "Epoch: 222/1000  Training Loss: 0.325  Training Acc: 0.870  Test Loss: 0.310  Test Acc: 0.880\n",
            "Validation loss decreased (0.310149 --> 0.309922).  Saving model ...\n",
            "Epoch: 223/1000  Training Loss: 0.324  Training Acc: 0.873  Test Loss: 0.310  Test Acc: 0.880\n",
            "Epoch: 224/1000  Training Loss: 0.321  Training Acc: 0.875  Test Loss: 0.309  Test Acc: 0.877\n",
            "Validation loss decreased (0.309922 --> 0.308963).  Saving model ...\n",
            "Epoch: 225/1000  Training Loss: 0.321  Training Acc: 0.868  Test Loss: 0.309  Test Acc: 0.878\n",
            "Validation loss decreased (0.308963 --> 0.308525).  Saving model ...\n",
            "Epoch: 226/1000  Training Loss: 0.316  Training Acc: 0.873  Test Loss: 0.310  Test Acc: 0.881\n",
            "Epoch: 227/1000  Training Loss: 0.321  Training Acc: 0.871  Test Loss: 0.309  Test Acc: 0.880\n",
            "Epoch: 228/1000  Training Loss: 0.320  Training Acc: 0.871  Test Loss: 0.309  Test Acc: 0.876\n",
            "Epoch: 229/1000  Training Loss: 0.326  Training Acc: 0.869  Test Loss: 0.308  Test Acc: 0.877\n",
            "Validation loss decreased (0.308525 --> 0.308444).  Saving model ...\n",
            "Epoch: 230/1000  Training Loss: 0.312  Training Acc: 0.878  Test Loss: 0.308  Test Acc: 0.877\n",
            "Validation loss decreased (0.308444 --> 0.307689).  Saving model ...\n",
            "Epoch: 231/1000  Training Loss: 0.307  Training Acc: 0.874  Test Loss: 0.309  Test Acc: 0.879\n",
            "Epoch: 232/1000  Training Loss: 0.320  Training Acc: 0.871  Test Loss: 0.309  Test Acc: 0.882\n",
            "Epoch: 233/1000  Training Loss: 0.312  Training Acc: 0.881  Test Loss: 0.308  Test Acc: 0.879\n",
            "Epoch: 234/1000  Training Loss: 0.308  Training Acc: 0.875  Test Loss: 0.308  Test Acc: 0.877\n",
            "Validation loss decreased (0.307689 --> 0.307523).  Saving model ...\n",
            "Epoch: 235/1000  Training Loss: 0.310  Training Acc: 0.877  Test Loss: 0.309  Test Acc: 0.881\n",
            "Epoch: 236/1000  Training Loss: 0.309  Training Acc: 0.875  Test Loss: 0.311  Test Acc: 0.884\n",
            "Epoch: 237/1000  Training Loss: 0.304  Training Acc: 0.880  Test Loss: 0.311  Test Acc: 0.877\n",
            "Epoch: 238/1000  Training Loss: 0.311  Training Acc: 0.878  Test Loss: 0.311  Test Acc: 0.880\n",
            "Epoch: 239/1000  Training Loss: 0.310  Training Acc: 0.877  Test Loss: 0.310  Test Acc: 0.882\n",
            "Epoch: 240/1000  Training Loss: 0.307  Training Acc: 0.876  Test Loss: 0.309  Test Acc: 0.879\n",
            "Epoch: 241/1000  Training Loss: 0.306  Training Acc: 0.879  Test Loss: 0.307  Test Acc: 0.879\n",
            "Validation loss decreased (0.307523 --> 0.307026).  Saving model ...\n",
            "Epoch: 242/1000  Training Loss: 0.306  Training Acc: 0.878  Test Loss: 0.308  Test Acc: 0.879\n",
            "Epoch: 243/1000  Training Loss: 0.304  Training Acc: 0.879  Test Loss: 0.310  Test Acc: 0.882\n",
            "Epoch: 244/1000  Training Loss: 0.306  Training Acc: 0.880  Test Loss: 0.310  Test Acc: 0.879\n",
            "Epoch: 245/1000  Training Loss: 0.305  Training Acc: 0.877  Test Loss: 0.310  Test Acc: 0.876\n",
            "Epoch: 246/1000  Training Loss: 0.302  Training Acc: 0.878  Test Loss: 0.309  Test Acc: 0.877\n",
            "Epoch: 247/1000  Training Loss: 0.301  Training Acc: 0.877  Test Loss: 0.308  Test Acc: 0.877\n",
            "Epoch: 248/1000  Training Loss: 0.298  Training Acc: 0.883  Test Loss: 0.308  Test Acc: 0.882\n",
            "Epoch: 249/1000  Training Loss: 0.304  Training Acc: 0.883  Test Loss: 0.306  Test Acc: 0.882\n",
            "Validation loss decreased (0.307026 --> 0.306402).  Saving model ...\n",
            "Epoch: 250/1000  Training Loss: 0.303  Training Acc: 0.879  Test Loss: 0.305  Test Acc: 0.880\n",
            "Validation loss decreased (0.306402 --> 0.305429).  Saving model ...\n",
            "Epoch: 251/1000  Training Loss: 0.295  Training Acc: 0.882  Test Loss: 0.305  Test Acc: 0.881\n",
            "Validation loss decreased (0.305429 --> 0.305258).  Saving model ...\n",
            "Epoch: 252/1000  Training Loss: 0.307  Training Acc: 0.876  Test Loss: 0.305  Test Acc: 0.882\n",
            "Validation loss decreased (0.305258 --> 0.305219).  Saving model ...\n",
            "Epoch: 253/1000  Training Loss: 0.301  Training Acc: 0.881  Test Loss: 0.305  Test Acc: 0.880\n",
            "Epoch: 254/1000  Training Loss: 0.295  Training Acc: 0.882  Test Loss: 0.306  Test Acc: 0.879\n",
            "Epoch: 255/1000  Training Loss: 0.297  Training Acc: 0.886  Test Loss: 0.308  Test Acc: 0.878\n",
            "Epoch: 256/1000  Training Loss: 0.302  Training Acc: 0.879  Test Loss: 0.309  Test Acc: 0.877\n",
            "Epoch: 257/1000  Training Loss: 0.298  Training Acc: 0.879  Test Loss: 0.309  Test Acc: 0.882\n",
            "Epoch: 258/1000  Training Loss: 0.299  Training Acc: 0.881  Test Loss: 0.312  Test Acc: 0.879\n",
            "Epoch: 259/1000  Training Loss: 0.292  Training Acc: 0.883  Test Loss: 0.312  Test Acc: 0.879\n",
            "Epoch: 260/1000  Training Loss: 0.303  Training Acc: 0.884  Test Loss: 0.310  Test Acc: 0.881\n",
            "Epoch: 261/1000  Training Loss: 0.300  Training Acc: 0.881  Test Loss: 0.308  Test Acc: 0.879\n",
            "Epoch: 262/1000  Training Loss: 0.290  Training Acc: 0.885  Test Loss: 0.308  Test Acc: 0.882\n",
            "Epoch: 263/1000  Training Loss: 0.294  Training Acc: 0.886  Test Loss: 0.305  Test Acc: 0.883\n",
            "Validation loss decreased (0.305219 --> 0.304995).  Saving model ...\n",
            "Epoch: 264/1000  Training Loss: 0.295  Training Acc: 0.881  Test Loss: 0.303  Test Acc: 0.883\n",
            "Validation loss decreased (0.304995 --> 0.303340).  Saving model ...\n",
            "Epoch: 265/1000  Training Loss: 0.293  Training Acc: 0.882  Test Loss: 0.303  Test Acc: 0.883\n",
            "Validation loss decreased (0.303340 --> 0.303192).  Saving model ...\n",
            "Epoch: 266/1000  Training Loss: 0.295  Training Acc: 0.883  Test Loss: 0.305  Test Acc: 0.878\n",
            "Epoch: 267/1000  Training Loss: 0.291  Training Acc: 0.877  Test Loss: 0.304  Test Acc: 0.879\n",
            "Epoch: 268/1000  Training Loss: 0.284  Training Acc: 0.889  Test Loss: 0.305  Test Acc: 0.885\n",
            "Epoch: 269/1000  Training Loss: 0.294  Training Acc: 0.882  Test Loss: 0.306  Test Acc: 0.885\n",
            "Epoch: 270/1000  Training Loss: 0.290  Training Acc: 0.887  Test Loss: 0.307  Test Acc: 0.883\n",
            "Epoch: 271/1000  Training Loss: 0.282  Training Acc: 0.892  Test Loss: 0.306  Test Acc: 0.884\n",
            "Epoch: 272/1000  Training Loss: 0.288  Training Acc: 0.884  Test Loss: 0.305  Test Acc: 0.884\n",
            "Epoch: 273/1000  Training Loss: 0.294  Training Acc: 0.880  Test Loss: 0.303  Test Acc: 0.882\n",
            "Validation loss decreased (0.303192 --> 0.302614).  Saving model ...\n",
            "Epoch: 274/1000  Training Loss: 0.288  Training Acc: 0.887  Test Loss: 0.302  Test Acc: 0.887\n",
            "Validation loss decreased (0.302614 --> 0.301572).  Saving model ...\n",
            "Epoch: 275/1000  Training Loss: 0.283  Training Acc: 0.891  Test Loss: 0.301  Test Acc: 0.885\n",
            "Validation loss decreased (0.301572 --> 0.300849).  Saving model ...\n",
            "Epoch: 276/1000  Training Loss: 0.286  Training Acc: 0.885  Test Loss: 0.300  Test Acc: 0.882\n",
            "Validation loss decreased (0.300849 --> 0.300472).  Saving model ...\n",
            "Epoch: 277/1000  Training Loss: 0.290  Training Acc: 0.887  Test Loss: 0.300  Test Acc: 0.882\n",
            "Validation loss decreased (0.300472 --> 0.300133).  Saving model ...\n",
            "Epoch: 278/1000  Training Loss: 0.286  Training Acc: 0.887  Test Loss: 0.302  Test Acc: 0.879\n",
            "Epoch: 279/1000  Training Loss: 0.285  Training Acc: 0.889  Test Loss: 0.303  Test Acc: 0.882\n",
            "Epoch: 280/1000  Training Loss: 0.291  Training Acc: 0.886  Test Loss: 0.305  Test Acc: 0.882\n",
            "Epoch: 281/1000  Training Loss: 0.288  Training Acc: 0.886  Test Loss: 0.306  Test Acc: 0.885\n",
            "Epoch: 282/1000  Training Loss: 0.285  Training Acc: 0.884  Test Loss: 0.306  Test Acc: 0.883\n",
            "Epoch: 283/1000  Training Loss: 0.281  Training Acc: 0.885  Test Loss: 0.306  Test Acc: 0.886\n",
            "Epoch: 284/1000  Training Loss: 0.271  Training Acc: 0.895  Test Loss: 0.306  Test Acc: 0.886\n",
            "Epoch: 285/1000  Training Loss: 0.287  Training Acc: 0.887  Test Loss: 0.305  Test Acc: 0.887\n",
            "Epoch: 286/1000  Training Loss: 0.278  Training Acc: 0.891  Test Loss: 0.304  Test Acc: 0.885\n",
            "Epoch: 287/1000  Training Loss: 0.286  Training Acc: 0.885  Test Loss: 0.302  Test Acc: 0.884\n",
            "Epoch: 288/1000  Training Loss: 0.282  Training Acc: 0.889  Test Loss: 0.301  Test Acc: 0.882\n",
            "Epoch: 289/1000  Training Loss: 0.284  Training Acc: 0.888  Test Loss: 0.299  Test Acc: 0.881\n",
            "Validation loss decreased (0.300133 --> 0.299227).  Saving model ...\n",
            "Epoch: 290/1000  Training Loss: 0.274  Training Acc: 0.891  Test Loss: 0.298  Test Acc: 0.882\n",
            "Validation loss decreased (0.299227 --> 0.298075).  Saving model ...\n",
            "Epoch: 291/1000  Training Loss: 0.282  Training Acc: 0.889  Test Loss: 0.299  Test Acc: 0.884\n",
            "Epoch: 292/1000  Training Loss: 0.274  Training Acc: 0.891  Test Loss: 0.300  Test Acc: 0.882\n",
            "Epoch: 293/1000  Training Loss: 0.281  Training Acc: 0.889  Test Loss: 0.302  Test Acc: 0.881\n",
            "Epoch: 294/1000  Training Loss: 0.278  Training Acc: 0.894  Test Loss: 0.304  Test Acc: 0.879\n",
            "Epoch: 295/1000  Training Loss: 0.275  Training Acc: 0.892  Test Loss: 0.304  Test Acc: 0.879\n",
            "Epoch: 296/1000  Training Loss: 0.269  Training Acc: 0.893  Test Loss: 0.304  Test Acc: 0.878\n",
            "Epoch: 297/1000  Training Loss: 0.280  Training Acc: 0.888  Test Loss: 0.306  Test Acc: 0.878\n",
            "Epoch: 298/1000  Training Loss: 0.275  Training Acc: 0.889  Test Loss: 0.305  Test Acc: 0.882\n",
            "Epoch: 299/1000  Training Loss: 0.274  Training Acc: 0.887  Test Loss: 0.305  Test Acc: 0.877\n",
            "Epoch: 300/1000  Training Loss: 0.282  Training Acc: 0.886  Test Loss: 0.306  Test Acc: 0.876\n",
            "Epoch: 301/1000  Training Loss: 0.282  Training Acc: 0.889  Test Loss: 0.307  Test Acc: 0.876\n",
            "Epoch: 302/1000  Training Loss: 0.282  Training Acc: 0.886  Test Loss: 0.305  Test Acc: 0.879\n",
            "Epoch: 303/1000  Training Loss: 0.269  Training Acc: 0.893  Test Loss: 0.304  Test Acc: 0.883\n",
            "Epoch: 304/1000  Training Loss: 0.279  Training Acc: 0.891  Test Loss: 0.304  Test Acc: 0.885\n",
            "Epoch: 305/1000  Training Loss: 0.271  Training Acc: 0.892  Test Loss: 0.305  Test Acc: 0.883\n",
            "Epoch: 306/1000  Training Loss: 0.273  Training Acc: 0.893  Test Loss: 0.308  Test Acc: 0.881\n",
            "Epoch: 307/1000  Training Loss: 0.272  Training Acc: 0.894  Test Loss: 0.306  Test Acc: 0.882\n",
            "Epoch: 308/1000  Training Loss: 0.270  Training Acc: 0.892  Test Loss: 0.306  Test Acc: 0.887\n",
            "Epoch: 309/1000  Training Loss: 0.274  Training Acc: 0.891  Test Loss: 0.306  Test Acc: 0.886\n",
            "Epoch: 310/1000  Training Loss: 0.273  Training Acc: 0.894  Test Loss: 0.305  Test Acc: 0.888\n",
            "Epoch: 311/1000  Training Loss: 0.268  Training Acc: 0.896  Test Loss: 0.303  Test Acc: 0.886\n",
            "Epoch: 312/1000  Training Loss: 0.260  Training Acc: 0.892  Test Loss: 0.302  Test Acc: 0.882\n",
            "Epoch: 313/1000  Training Loss: 0.270  Training Acc: 0.895  Test Loss: 0.302  Test Acc: 0.882\n",
            "Epoch: 314/1000  Training Loss: 0.263  Training Acc: 0.896  Test Loss: 0.301  Test Acc: 0.887\n",
            "Epoch: 315/1000  Training Loss: 0.270  Training Acc: 0.893  Test Loss: 0.302  Test Acc: 0.887\n",
            "Epoch: 316/1000  Training Loss: 0.262  Training Acc: 0.897  Test Loss: 0.302  Test Acc: 0.885\n",
            "Epoch: 317/1000  Training Loss: 0.277  Training Acc: 0.892  Test Loss: 0.303  Test Acc: 0.887\n",
            "Epoch: 318/1000  Training Loss: 0.264  Training Acc: 0.898  Test Loss: 0.303  Test Acc: 0.887\n",
            "Epoch: 319/1000  Training Loss: 0.264  Training Acc: 0.895  Test Loss: 0.303  Test Acc: 0.886\n",
            "Epoch: 320/1000  Training Loss: 0.271  Training Acc: 0.896  Test Loss: 0.303  Test Acc: 0.887\n",
            "Epoch: 321/1000  Training Loss: 0.272  Training Acc: 0.894  Test Loss: 0.303  Test Acc: 0.888\n",
            "Epoch: 322/1000  Training Loss: 0.265  Training Acc: 0.897  Test Loss: 0.302  Test Acc: 0.888\n",
            "Epoch: 323/1000  Training Loss: 0.262  Training Acc: 0.897  Test Loss: 0.303  Test Acc: 0.886\n",
            "Epoch: 324/1000  Training Loss: 0.272  Training Acc: 0.893  Test Loss: 0.304  Test Acc: 0.885\n",
            "Epoch: 325/1000  Training Loss: 0.270  Training Acc: 0.894  Test Loss: 0.304  Test Acc: 0.888\n",
            "Epoch: 326/1000  Training Loss: 0.264  Training Acc: 0.895  Test Loss: 0.304  Test Acc: 0.887\n",
            "Epoch: 327/1000  Training Loss: 0.262  Training Acc: 0.898  Test Loss: 0.306  Test Acc: 0.886\n",
            "Epoch: 328/1000  Training Loss: 0.253  Training Acc: 0.900  Test Loss: 0.306  Test Acc: 0.887\n",
            "Epoch: 329/1000  Training Loss: 0.257  Training Acc: 0.902  Test Loss: 0.308  Test Acc: 0.882\n",
            "Epoch: 330/1000  Training Loss: 0.258  Training Acc: 0.900  Test Loss: 0.308  Test Acc: 0.882\n",
            "Epoch: 331/1000  Training Loss: 0.254  Training Acc: 0.900  Test Loss: 0.308  Test Acc: 0.881\n",
            "Epoch: 332/1000  Training Loss: 0.259  Training Acc: 0.894  Test Loss: 0.308  Test Acc: 0.879\n",
            "Epoch: 333/1000  Training Loss: 0.261  Training Acc: 0.899  Test Loss: 0.305  Test Acc: 0.880\n",
            "Epoch: 334/1000  Training Loss: 0.255  Training Acc: 0.897  Test Loss: 0.304  Test Acc: 0.882\n",
            "Epoch: 335/1000  Training Loss: 0.262  Training Acc: 0.897  Test Loss: 0.306  Test Acc: 0.880\n",
            "Epoch: 336/1000  Training Loss: 0.261  Training Acc: 0.894  Test Loss: 0.306  Test Acc: 0.879\n",
            "Epoch: 337/1000  Training Loss: 0.254  Training Acc: 0.901  Test Loss: 0.304  Test Acc: 0.882\n",
            "Epoch: 338/1000  Training Loss: 0.254  Training Acc: 0.898  Test Loss: 0.304  Test Acc: 0.882\n",
            "Epoch: 339/1000  Training Loss: 0.258  Training Acc: 0.895  Test Loss: 0.305  Test Acc: 0.883\n",
            "Epoch: 340/1000  Training Loss: 0.251  Training Acc: 0.901  Test Loss: 0.307  Test Acc: 0.883\n",
            "Epoch: 341/1000  Training Loss: 0.257  Training Acc: 0.896  Test Loss: 0.309  Test Acc: 0.885\n",
            "Epoch: 342/1000  Training Loss: 0.250  Training Acc: 0.898  Test Loss: 0.309  Test Acc: 0.886\n",
            "Epoch: 343/1000  Training Loss: 0.243  Training Acc: 0.901  Test Loss: 0.307  Test Acc: 0.887\n",
            "Epoch: 344/1000  Training Loss: 0.248  Training Acc: 0.900  Test Loss: 0.305  Test Acc: 0.887\n",
            "Epoch: 345/1000  Training Loss: 0.255  Training Acc: 0.899  Test Loss: 0.302  Test Acc: 0.887\n",
            "Epoch: 346/1000  Training Loss: 0.250  Training Acc: 0.899  Test Loss: 0.301  Test Acc: 0.888\n",
            "Epoch: 347/1000  Training Loss: 0.243  Training Acc: 0.904  Test Loss: 0.300  Test Acc: 0.887\n",
            "Epoch: 348/1000  Training Loss: 0.254  Training Acc: 0.900  Test Loss: 0.300  Test Acc: 0.885\n",
            "Epoch: 349/1000  Training Loss: 0.253  Training Acc: 0.899  Test Loss: 0.302  Test Acc: 0.877\n",
            "Epoch: 350/1000  Training Loss: 0.247  Training Acc: 0.904  Test Loss: 0.305  Test Acc: 0.887\n",
            "Epoch: 351/1000  Training Loss: 0.255  Training Acc: 0.897  Test Loss: 0.307  Test Acc: 0.883\n",
            "Epoch: 352/1000  Training Loss: 0.250  Training Acc: 0.899  Test Loss: 0.307  Test Acc: 0.883\n",
            "Epoch: 353/1000  Training Loss: 0.252  Training Acc: 0.899  Test Loss: 0.311  Test Acc: 0.878\n",
            "Epoch: 354/1000  Training Loss: 0.253  Training Acc: 0.898  Test Loss: 0.309  Test Acc: 0.880\n",
            "Epoch: 355/1000  Training Loss: 0.254  Training Acc: 0.898  Test Loss: 0.309  Test Acc: 0.880\n",
            "Epoch: 356/1000  Training Loss: 0.250  Training Acc: 0.899  Test Loss: 0.308  Test Acc: 0.878\n",
            "Epoch: 357/1000  Training Loss: 0.252  Training Acc: 0.900  Test Loss: 0.311  Test Acc: 0.882\n",
            "Epoch: 358/1000  Training Loss: 0.247  Training Acc: 0.902  Test Loss: 0.310  Test Acc: 0.884\n",
            "Epoch: 359/1000  Training Loss: 0.248  Training Acc: 0.902  Test Loss: 0.305  Test Acc: 0.887\n",
            "Epoch: 360/1000  Training Loss: 0.249  Training Acc: 0.901  Test Loss: 0.305  Test Acc: 0.883\n",
            "Epoch: 361/1000  Training Loss: 0.248  Training Acc: 0.901  Test Loss: 0.306  Test Acc: 0.886\n",
            "Epoch: 362/1000  Training Loss: 0.238  Training Acc: 0.909  Test Loss: 0.308  Test Acc: 0.885\n",
            "Epoch: 363/1000  Training Loss: 0.242  Training Acc: 0.902  Test Loss: 0.305  Test Acc: 0.887\n",
            "Epoch: 364/1000  Training Loss: 0.237  Training Acc: 0.905  Test Loss: 0.305  Test Acc: 0.888\n",
            "Epoch: 365/1000  Training Loss: 0.246  Training Acc: 0.902  Test Loss: 0.305  Test Acc: 0.890\n",
            "Epoch: 366/1000  Training Loss: 0.241  Training Acc: 0.902  Test Loss: 0.304  Test Acc: 0.887\n",
            "Epoch: 367/1000  Training Loss: 0.248  Training Acc: 0.900  Test Loss: 0.303  Test Acc: 0.884\n",
            "Epoch: 368/1000  Training Loss: 0.242  Training Acc: 0.903  Test Loss: 0.300  Test Acc: 0.890\n",
            "Epoch: 369/1000  Training Loss: 0.237  Training Acc: 0.908  Test Loss: 0.299  Test Acc: 0.893\n",
            "Epoch: 370/1000  Training Loss: 0.244  Training Acc: 0.906  Test Loss: 0.298  Test Acc: 0.896\n",
            "Validation loss decreased (0.298075 --> 0.297810).  Saving model ...\n",
            "Epoch: 371/1000  Training Loss: 0.235  Training Acc: 0.906  Test Loss: 0.298  Test Acc: 0.890\n",
            "Epoch: 372/1000  Training Loss: 0.251  Training Acc: 0.898  Test Loss: 0.298  Test Acc: 0.888\n",
            "Epoch: 373/1000  Training Loss: 0.238  Training Acc: 0.907  Test Loss: 0.300  Test Acc: 0.889\n",
            "Epoch: 374/1000  Training Loss: 0.241  Training Acc: 0.901  Test Loss: 0.302  Test Acc: 0.889\n",
            "Epoch: 375/1000  Training Loss: 0.245  Training Acc: 0.904  Test Loss: 0.302  Test Acc: 0.895\n",
            "Epoch: 376/1000  Training Loss: 0.248  Training Acc: 0.900  Test Loss: 0.304  Test Acc: 0.893\n",
            "Epoch: 377/1000  Training Loss: 0.239  Training Acc: 0.905  Test Loss: 0.305  Test Acc: 0.892\n",
            "Epoch: 378/1000  Training Loss: 0.238  Training Acc: 0.907  Test Loss: 0.306  Test Acc: 0.894\n",
            "Epoch: 379/1000  Training Loss: 0.240  Training Acc: 0.908  Test Loss: 0.307  Test Acc: 0.891\n",
            "Epoch: 380/1000  Training Loss: 0.237  Training Acc: 0.906  Test Loss: 0.309  Test Acc: 0.887\n",
            "Epoch: 381/1000  Training Loss: 0.235  Training Acc: 0.909  Test Loss: 0.309  Test Acc: 0.887\n",
            "Epoch: 382/1000  Training Loss: 0.238  Training Acc: 0.905  Test Loss: 0.308  Test Acc: 0.889\n",
            "Epoch: 383/1000  Training Loss: 0.236  Training Acc: 0.907  Test Loss: 0.307  Test Acc: 0.890\n",
            "Epoch: 384/1000  Training Loss: 0.235  Training Acc: 0.903  Test Loss: 0.307  Test Acc: 0.889\n",
            "Epoch: 385/1000  Training Loss: 0.235  Training Acc: 0.909  Test Loss: 0.308  Test Acc: 0.889\n",
            "Epoch: 386/1000  Training Loss: 0.233  Training Acc: 0.907  Test Loss: 0.307  Test Acc: 0.889\n",
            "Epoch: 387/1000  Training Loss: 0.235  Training Acc: 0.908  Test Loss: 0.305  Test Acc: 0.893\n",
            "Epoch: 388/1000  Training Loss: 0.229  Training Acc: 0.907  Test Loss: 0.303  Test Acc: 0.892\n",
            "Epoch: 389/1000  Training Loss: 0.233  Training Acc: 0.907  Test Loss: 0.302  Test Acc: 0.894\n",
            "Epoch: 390/1000  Training Loss: 0.233  Training Acc: 0.909  Test Loss: 0.302  Test Acc: 0.894\n",
            "Epoch: 391/1000  Training Loss: 0.229  Training Acc: 0.911  Test Loss: 0.303  Test Acc: 0.894\n",
            "Epoch: 392/1000  Training Loss: 0.235  Training Acc: 0.909  Test Loss: 0.302  Test Acc: 0.896\n",
            "Epoch: 393/1000  Training Loss: 0.234  Training Acc: 0.908  Test Loss: 0.302  Test Acc: 0.893\n",
            "Epoch: 394/1000  Training Loss: 0.228  Training Acc: 0.909  Test Loss: 0.304  Test Acc: 0.893\n",
            "Epoch: 395/1000  Training Loss: 0.237  Training Acc: 0.909  Test Loss: 0.307  Test Acc: 0.890\n",
            "Epoch: 396/1000  Training Loss: 0.227  Training Acc: 0.908  Test Loss: 0.310  Test Acc: 0.892\n",
            "Epoch: 397/1000  Training Loss: 0.232  Training Acc: 0.909  Test Loss: 0.310  Test Acc: 0.892\n",
            "Epoch: 398/1000  Training Loss: 0.231  Training Acc: 0.907  Test Loss: 0.309  Test Acc: 0.893\n",
            "Epoch: 399/1000  Training Loss: 0.232  Training Acc: 0.905  Test Loss: 0.309  Test Acc: 0.892\n",
            "Epoch: 400/1000  Training Loss: 0.234  Training Acc: 0.905  Test Loss: 0.306  Test Acc: 0.892\n",
            "Epoch: 401/1000  Training Loss: 0.231  Training Acc: 0.910  Test Loss: 0.304  Test Acc: 0.889\n",
            "Epoch: 402/1000  Training Loss: 0.235  Training Acc: 0.908  Test Loss: 0.303  Test Acc: 0.890\n",
            "Epoch: 403/1000  Training Loss: 0.225  Training Acc: 0.911  Test Loss: 0.302  Test Acc: 0.890\n",
            "Epoch: 404/1000  Training Loss: 0.223  Training Acc: 0.912  Test Loss: 0.303  Test Acc: 0.889\n",
            "Epoch: 405/1000  Training Loss: 0.233  Training Acc: 0.907  Test Loss: 0.305  Test Acc: 0.890\n",
            "Epoch: 406/1000  Training Loss: 0.224  Training Acc: 0.913  Test Loss: 0.308  Test Acc: 0.889\n",
            "Epoch: 407/1000  Training Loss: 0.226  Training Acc: 0.912  Test Loss: 0.310  Test Acc: 0.888\n",
            "Epoch: 408/1000  Training Loss: 0.221  Training Acc: 0.907  Test Loss: 0.311  Test Acc: 0.887\n",
            "Epoch: 409/1000  Training Loss: 0.226  Training Acc: 0.910  Test Loss: 0.310  Test Acc: 0.889\n",
            "Epoch: 410/1000  Training Loss: 0.232  Training Acc: 0.910  Test Loss: 0.309  Test Acc: 0.887\n",
            "Epoch: 411/1000  Training Loss: 0.235  Training Acc: 0.908  Test Loss: 0.307  Test Acc: 0.887\n",
            "Epoch: 412/1000  Training Loss: 0.217  Training Acc: 0.912  Test Loss: 0.304  Test Acc: 0.885\n",
            "Epoch: 413/1000  Training Loss: 0.223  Training Acc: 0.914  Test Loss: 0.302  Test Acc: 0.888\n",
            "Epoch: 414/1000  Training Loss: 0.226  Training Acc: 0.912  Test Loss: 0.302  Test Acc: 0.882\n",
            "Epoch: 415/1000  Training Loss: 0.225  Training Acc: 0.914  Test Loss: 0.302  Test Acc: 0.884\n",
            "Epoch: 416/1000  Training Loss: 0.224  Training Acc: 0.911  Test Loss: 0.303  Test Acc: 0.886\n",
            "Epoch: 417/1000  Training Loss: 0.222  Training Acc: 0.912  Test Loss: 0.306  Test Acc: 0.887\n",
            "Epoch: 418/1000  Training Loss: 0.226  Training Acc: 0.910  Test Loss: 0.310  Test Acc: 0.888\n",
            "Epoch: 419/1000  Training Loss: 0.228  Training Acc: 0.913  Test Loss: 0.310  Test Acc: 0.887\n",
            "Epoch: 420/1000  Training Loss: 0.224  Training Acc: 0.911  Test Loss: 0.309  Test Acc: 0.887\n",
            "Epoch: 421/1000  Training Loss: 0.228  Training Acc: 0.910  Test Loss: 0.307  Test Acc: 0.885\n",
            "Epoch: 422/1000  Training Loss: 0.223  Training Acc: 0.908  Test Loss: 0.305  Test Acc: 0.889\n",
            "Epoch: 423/1000  Training Loss: 0.226  Training Acc: 0.911  Test Loss: 0.302  Test Acc: 0.889\n",
            "Epoch: 424/1000  Training Loss: 0.218  Training Acc: 0.915  Test Loss: 0.300  Test Acc: 0.892\n",
            "Epoch: 425/1000  Training Loss: 0.219  Training Acc: 0.914  Test Loss: 0.301  Test Acc: 0.893\n",
            "Epoch: 426/1000  Training Loss: 0.227  Training Acc: 0.910  Test Loss: 0.301  Test Acc: 0.893\n",
            "Epoch: 427/1000  Training Loss: 0.227  Training Acc: 0.910  Test Loss: 0.302  Test Acc: 0.890\n",
            "Epoch: 428/1000  Training Loss: 0.219  Training Acc: 0.913  Test Loss: 0.305  Test Acc: 0.887\n",
            "Epoch: 429/1000  Training Loss: 0.220  Training Acc: 0.909  Test Loss: 0.307  Test Acc: 0.886\n",
            "Epoch: 430/1000  Training Loss: 0.216  Training Acc: 0.916  Test Loss: 0.309  Test Acc: 0.887\n",
            "Epoch: 431/1000  Training Loss: 0.221  Training Acc: 0.911  Test Loss: 0.310  Test Acc: 0.888\n",
            "Epoch: 432/1000  Training Loss: 0.209  Training Acc: 0.917  Test Loss: 0.311  Test Acc: 0.890\n",
            "Epoch: 433/1000  Training Loss: 0.221  Training Acc: 0.910  Test Loss: 0.311  Test Acc: 0.889\n",
            "Epoch: 434/1000  Training Loss: 0.216  Training Acc: 0.916  Test Loss: 0.312  Test Acc: 0.882\n",
            "Epoch: 435/1000  Training Loss: 0.212  Training Acc: 0.918  Test Loss: 0.311  Test Acc: 0.887\n",
            "Epoch: 436/1000  Training Loss: 0.217  Training Acc: 0.914  Test Loss: 0.310  Test Acc: 0.890\n",
            "Epoch: 437/1000  Training Loss: 0.216  Training Acc: 0.917  Test Loss: 0.311  Test Acc: 0.888\n",
            "Epoch: 438/1000  Training Loss: 0.210  Training Acc: 0.921  Test Loss: 0.312  Test Acc: 0.890\n",
            "Epoch: 439/1000  Training Loss: 0.213  Training Acc: 0.917  Test Loss: 0.313  Test Acc: 0.887\n",
            "Epoch: 440/1000  Training Loss: 0.219  Training Acc: 0.909  Test Loss: 0.311  Test Acc: 0.883\n",
            "Epoch: 441/1000  Training Loss: 0.209  Training Acc: 0.919  Test Loss: 0.310  Test Acc: 0.891\n",
            "Epoch: 442/1000  Training Loss: 0.209  Training Acc: 0.920  Test Loss: 0.309  Test Acc: 0.892\n",
            "Epoch: 443/1000  Training Loss: 0.216  Training Acc: 0.912  Test Loss: 0.308  Test Acc: 0.892\n",
            "Epoch: 444/1000  Training Loss: 0.217  Training Acc: 0.916  Test Loss: 0.308  Test Acc: 0.890\n",
            "Epoch: 445/1000  Training Loss: 0.216  Training Acc: 0.914  Test Loss: 0.309  Test Acc: 0.891\n",
            "Epoch: 446/1000  Training Loss: 0.212  Training Acc: 0.917  Test Loss: 0.311  Test Acc: 0.890\n",
            "Epoch: 447/1000  Training Loss: 0.223  Training Acc: 0.913  Test Loss: 0.312  Test Acc: 0.886\n",
            "Epoch: 448/1000  Training Loss: 0.218  Training Acc: 0.916  Test Loss: 0.312  Test Acc: 0.886\n",
            "Epoch: 449/1000  Training Loss: 0.215  Training Acc: 0.915  Test Loss: 0.311  Test Acc: 0.887\n",
            "Epoch: 450/1000  Training Loss: 0.212  Training Acc: 0.920  Test Loss: 0.310  Test Acc: 0.890\n",
            "Epoch: 451/1000  Training Loss: 0.206  Training Acc: 0.918  Test Loss: 0.309  Test Acc: 0.892\n",
            "Epoch: 452/1000  Training Loss: 0.210  Training Acc: 0.919  Test Loss: 0.308  Test Acc: 0.891\n",
            "Epoch: 453/1000  Training Loss: 0.203  Training Acc: 0.918  Test Loss: 0.308  Test Acc: 0.889\n",
            "Epoch: 454/1000  Training Loss: 0.219  Training Acc: 0.915  Test Loss: 0.311  Test Acc: 0.891\n",
            "Epoch: 455/1000  Training Loss: 0.205  Training Acc: 0.916  Test Loss: 0.313  Test Acc: 0.890\n",
            "Epoch: 456/1000  Training Loss: 0.209  Training Acc: 0.917  Test Loss: 0.315  Test Acc: 0.887\n",
            "Epoch: 457/1000  Training Loss: 0.213  Training Acc: 0.913  Test Loss: 0.315  Test Acc: 0.887\n",
            "Epoch: 458/1000  Training Loss: 0.209  Training Acc: 0.920  Test Loss: 0.316  Test Acc: 0.888\n",
            "Epoch: 459/1000  Training Loss: 0.205  Training Acc: 0.922  Test Loss: 0.315  Test Acc: 0.890\n",
            "Epoch: 460/1000  Training Loss: 0.209  Training Acc: 0.916  Test Loss: 0.314  Test Acc: 0.888\n",
            "Epoch: 461/1000  Training Loss: 0.213  Training Acc: 0.914  Test Loss: 0.313  Test Acc: 0.887\n",
            "Epoch: 462/1000  Training Loss: 0.200  Training Acc: 0.921  Test Loss: 0.314  Test Acc: 0.891\n",
            "Epoch: 463/1000  Training Loss: 0.203  Training Acc: 0.917  Test Loss: 0.315  Test Acc: 0.890\n",
            "Epoch: 464/1000  Training Loss: 0.207  Training Acc: 0.918  Test Loss: 0.317  Test Acc: 0.892\n",
            "Epoch: 465/1000  Training Loss: 0.207  Training Acc: 0.920  Test Loss: 0.315  Test Acc: 0.892\n",
            "Epoch: 466/1000  Training Loss: 0.209  Training Acc: 0.918  Test Loss: 0.315  Test Acc: 0.888\n",
            "Epoch: 467/1000  Training Loss: 0.208  Training Acc: 0.918  Test Loss: 0.317  Test Acc: 0.887\n",
            "Epoch: 468/1000  Training Loss: 0.206  Training Acc: 0.919  Test Loss: 0.315  Test Acc: 0.885\n",
            "Epoch: 469/1000  Training Loss: 0.201  Training Acc: 0.922  Test Loss: 0.316  Test Acc: 0.886\n",
            "Epoch: 470/1000  Training Loss: 0.208  Training Acc: 0.915  Test Loss: 0.318  Test Acc: 0.887\n",
            "Epoch: 471/1000  Training Loss: 0.199  Training Acc: 0.920  Test Loss: 0.321  Test Acc: 0.885\n",
            "Epoch: 472/1000  Training Loss: 0.213  Training Acc: 0.913  Test Loss: 0.319  Test Acc: 0.880\n",
            "Epoch: 473/1000  Training Loss: 0.202  Training Acc: 0.921  Test Loss: 0.314  Test Acc: 0.877\n",
            "Epoch: 474/1000  Training Loss: 0.200  Training Acc: 0.922  Test Loss: 0.312  Test Acc: 0.882\n",
            "Epoch: 475/1000  Training Loss: 0.204  Training Acc: 0.922  Test Loss: 0.312  Test Acc: 0.883\n",
            "Epoch: 476/1000  Training Loss: 0.209  Training Acc: 0.917  Test Loss: 0.312  Test Acc: 0.887\n",
            "Epoch: 477/1000  Training Loss: 0.206  Training Acc: 0.918  Test Loss: 0.313  Test Acc: 0.885\n",
            "Epoch: 478/1000  Training Loss: 0.204  Training Acc: 0.920  Test Loss: 0.315  Test Acc: 0.886\n",
            "Epoch: 479/1000  Training Loss: 0.203  Training Acc: 0.922  Test Loss: 0.317  Test Acc: 0.887\n",
            "Epoch: 480/1000  Training Loss: 0.202  Training Acc: 0.922  Test Loss: 0.319  Test Acc: 0.887\n",
            "Epoch: 481/1000  Training Loss: 0.200  Training Acc: 0.922  Test Loss: 0.319  Test Acc: 0.887\n",
            "Epoch: 482/1000  Training Loss: 0.199  Training Acc: 0.921  Test Loss: 0.318  Test Acc: 0.890\n",
            "Epoch: 483/1000  Training Loss: 0.208  Training Acc: 0.917  Test Loss: 0.317  Test Acc: 0.893\n",
            "Epoch: 484/1000  Training Loss: 0.204  Training Acc: 0.919  Test Loss: 0.316  Test Acc: 0.892\n",
            "Epoch: 485/1000  Training Loss: 0.199  Training Acc: 0.920  Test Loss: 0.315  Test Acc: 0.887\n",
            "Epoch: 486/1000  Training Loss: 0.199  Training Acc: 0.920  Test Loss: 0.316  Test Acc: 0.885\n",
            "Epoch: 487/1000  Training Loss: 0.202  Training Acc: 0.922  Test Loss: 0.317  Test Acc: 0.886\n",
            "Epoch: 488/1000  Training Loss: 0.202  Training Acc: 0.923  Test Loss: 0.318  Test Acc: 0.888\n",
            "Epoch: 489/1000  Training Loss: 0.197  Training Acc: 0.924  Test Loss: 0.317  Test Acc: 0.883\n",
            "Epoch: 490/1000  Training Loss: 0.201  Training Acc: 0.921  Test Loss: 0.317  Test Acc: 0.879\n",
            "Epoch: 491/1000  Training Loss: 0.198  Training Acc: 0.919  Test Loss: 0.317  Test Acc: 0.884\n",
            "Epoch: 492/1000  Training Loss: 0.205  Training Acc: 0.918  Test Loss: 0.318  Test Acc: 0.883\n",
            "Epoch: 493/1000  Training Loss: 0.193  Training Acc: 0.926  Test Loss: 0.320  Test Acc: 0.891\n",
            "Epoch: 494/1000  Training Loss: 0.195  Training Acc: 0.925  Test Loss: 0.321  Test Acc: 0.889\n",
            "Epoch: 495/1000  Training Loss: 0.198  Training Acc: 0.925  Test Loss: 0.321  Test Acc: 0.885\n",
            "Epoch: 496/1000  Training Loss: 0.193  Training Acc: 0.925  Test Loss: 0.321  Test Acc: 0.886\n",
            "Epoch: 497/1000  Training Loss: 0.199  Training Acc: 0.919  Test Loss: 0.320  Test Acc: 0.886\n",
            "Epoch: 498/1000  Training Loss: 0.196  Training Acc: 0.921  Test Loss: 0.317  Test Acc: 0.887\n",
            "Epoch: 499/1000  Training Loss: 0.196  Training Acc: 0.922  Test Loss: 0.315  Test Acc: 0.889\n",
            "Epoch: 500/1000  Training Loss: 0.191  Training Acc: 0.924  Test Loss: 0.315  Test Acc: 0.887\n",
            "Epoch: 501/1000  Training Loss: 0.197  Training Acc: 0.922  Test Loss: 0.315  Test Acc: 0.884\n",
            "Epoch: 502/1000  Training Loss: 0.195  Training Acc: 0.924  Test Loss: 0.314  Test Acc: 0.887\n",
            "Epoch: 503/1000  Training Loss: 0.191  Training Acc: 0.926  Test Loss: 0.314  Test Acc: 0.890\n",
            "Epoch: 504/1000  Training Loss: 0.195  Training Acc: 0.924  Test Loss: 0.317  Test Acc: 0.887\n",
            "Epoch: 505/1000  Training Loss: 0.188  Training Acc: 0.927  Test Loss: 0.322  Test Acc: 0.887\n",
            "Epoch: 506/1000  Training Loss: 0.185  Training Acc: 0.928  Test Loss: 0.324  Test Acc: 0.888\n",
            "Epoch: 507/1000  Training Loss: 0.195  Training Acc: 0.924  Test Loss: 0.323  Test Acc: 0.887\n",
            "Epoch: 508/1000  Training Loss: 0.193  Training Acc: 0.923  Test Loss: 0.324  Test Acc: 0.885\n",
            "Epoch: 509/1000  Training Loss: 0.189  Training Acc: 0.924  Test Loss: 0.325  Test Acc: 0.881\n",
            "Epoch: 510/1000  Training Loss: 0.197  Training Acc: 0.922  Test Loss: 0.324  Test Acc: 0.880\n",
            "Epoch: 511/1000  Training Loss: 0.190  Training Acc: 0.923  Test Loss: 0.322  Test Acc: 0.882\n",
            "Epoch: 512/1000  Training Loss: 0.184  Training Acc: 0.925  Test Loss: 0.319  Test Acc: 0.882\n",
            "Epoch: 513/1000  Training Loss: 0.196  Training Acc: 0.923  Test Loss: 0.316  Test Acc: 0.885\n",
            "Epoch: 514/1000  Training Loss: 0.188  Training Acc: 0.926  Test Loss: 0.314  Test Acc: 0.888\n",
            "Epoch: 515/1000  Training Loss: 0.197  Training Acc: 0.922  Test Loss: 0.313  Test Acc: 0.887\n",
            "Epoch: 516/1000  Training Loss: 0.180  Training Acc: 0.932  Test Loss: 0.314  Test Acc: 0.886\n",
            "Epoch: 517/1000  Training Loss: 0.192  Training Acc: 0.924  Test Loss: 0.315  Test Acc: 0.887\n",
            "Epoch: 518/1000  Training Loss: 0.194  Training Acc: 0.925  Test Loss: 0.318  Test Acc: 0.887\n",
            "Epoch: 519/1000  Training Loss: 0.198  Training Acc: 0.920  Test Loss: 0.319  Test Acc: 0.887\n",
            "Epoch: 520/1000  Training Loss: 0.190  Training Acc: 0.923  Test Loss: 0.317  Test Acc: 0.893\n",
            "Epoch: 521/1000  Training Loss: 0.193  Training Acc: 0.924  Test Loss: 0.317  Test Acc: 0.887\n",
            "Epoch: 522/1000  Training Loss: 0.192  Training Acc: 0.925  Test Loss: 0.318  Test Acc: 0.886\n",
            "Epoch: 523/1000  Training Loss: 0.186  Training Acc: 0.926  Test Loss: 0.318  Test Acc: 0.884\n",
            "Epoch: 524/1000  Training Loss: 0.189  Training Acc: 0.924  Test Loss: 0.321  Test Acc: 0.892\n",
            "Epoch: 525/1000  Training Loss: 0.187  Training Acc: 0.928  Test Loss: 0.323  Test Acc: 0.890\n",
            "Epoch: 526/1000  Training Loss: 0.193  Training Acc: 0.922  Test Loss: 0.320  Test Acc: 0.893\n",
            "Epoch: 527/1000  Training Loss: 0.184  Training Acc: 0.926  Test Loss: 0.316  Test Acc: 0.888\n",
            "Epoch: 528/1000  Training Loss: 0.189  Training Acc: 0.924  Test Loss: 0.312  Test Acc: 0.892\n",
            "Epoch: 529/1000  Training Loss: 0.187  Training Acc: 0.925  Test Loss: 0.312  Test Acc: 0.892\n",
            "Epoch: 530/1000  Training Loss: 0.190  Training Acc: 0.927  Test Loss: 0.314  Test Acc: 0.892\n",
            "Epoch: 531/1000  Training Loss: 0.192  Training Acc: 0.925  Test Loss: 0.312  Test Acc: 0.890\n",
            "Epoch: 532/1000  Training Loss: 0.181  Training Acc: 0.931  Test Loss: 0.314  Test Acc: 0.888\n",
            "Epoch: 533/1000  Training Loss: 0.187  Training Acc: 0.928  Test Loss: 0.318  Test Acc: 0.890\n",
            "Epoch: 534/1000  Training Loss: 0.185  Training Acc: 0.928  Test Loss: 0.321  Test Acc: 0.888\n",
            "Epoch: 535/1000  Training Loss: 0.181  Training Acc: 0.929  Test Loss: 0.321  Test Acc: 0.885\n",
            "Epoch: 536/1000  Training Loss: 0.187  Training Acc: 0.926  Test Loss: 0.321  Test Acc: 0.887\n",
            "Epoch: 537/1000  Training Loss: 0.190  Training Acc: 0.925  Test Loss: 0.323  Test Acc: 0.884\n",
            "Epoch: 538/1000  Training Loss: 0.182  Training Acc: 0.933  Test Loss: 0.321  Test Acc: 0.885\n",
            "Epoch: 539/1000  Training Loss: 0.192  Training Acc: 0.926  Test Loss: 0.318  Test Acc: 0.882\n",
            "Epoch: 540/1000  Training Loss: 0.188  Training Acc: 0.929  Test Loss: 0.316  Test Acc: 0.882\n",
            "Epoch: 541/1000  Training Loss: 0.189  Training Acc: 0.923  Test Loss: 0.318  Test Acc: 0.883\n",
            "Epoch: 542/1000  Training Loss: 0.189  Training Acc: 0.930  Test Loss: 0.318  Test Acc: 0.883\n",
            "Epoch: 543/1000  Training Loss: 0.178  Training Acc: 0.928  Test Loss: 0.318  Test Acc: 0.887\n",
            "Epoch: 544/1000  Training Loss: 0.181  Training Acc: 0.928  Test Loss: 0.321  Test Acc: 0.892\n",
            "Epoch: 545/1000  Training Loss: 0.184  Training Acc: 0.930  Test Loss: 0.323  Test Acc: 0.889\n",
            "Epoch: 546/1000  Training Loss: 0.186  Training Acc: 0.927  Test Loss: 0.324  Test Acc: 0.888\n",
            "Epoch: 547/1000  Training Loss: 0.186  Training Acc: 0.922  Test Loss: 0.324  Test Acc: 0.887\n",
            "Epoch: 548/1000  Training Loss: 0.180  Training Acc: 0.932  Test Loss: 0.323  Test Acc: 0.887\n",
            "Epoch: 549/1000  Training Loss: 0.179  Training Acc: 0.930  Test Loss: 0.323  Test Acc: 0.887\n",
            "Epoch: 550/1000  Training Loss: 0.184  Training Acc: 0.928  Test Loss: 0.318  Test Acc: 0.886\n",
            "Epoch: 551/1000  Training Loss: 0.178  Training Acc: 0.928  Test Loss: 0.314  Test Acc: 0.889\n",
            "Epoch: 552/1000  Training Loss: 0.179  Training Acc: 0.928  Test Loss: 0.312  Test Acc: 0.892\n",
            "Epoch: 553/1000  Training Loss: 0.179  Training Acc: 0.932  Test Loss: 0.312  Test Acc: 0.893\n",
            "Epoch: 554/1000  Training Loss: 0.185  Training Acc: 0.929  Test Loss: 0.314  Test Acc: 0.891\n",
            "Epoch: 555/1000  Training Loss: 0.177  Training Acc: 0.931  Test Loss: 0.317  Test Acc: 0.890\n",
            "Epoch: 556/1000  Training Loss: 0.179  Training Acc: 0.931  Test Loss: 0.319  Test Acc: 0.885\n",
            "Epoch: 557/1000  Training Loss: 0.178  Training Acc: 0.929  Test Loss: 0.318  Test Acc: 0.888\n",
            "Epoch: 558/1000  Training Loss: 0.180  Training Acc: 0.930  Test Loss: 0.316  Test Acc: 0.890\n",
            "Epoch: 559/1000  Training Loss: 0.177  Training Acc: 0.930  Test Loss: 0.314  Test Acc: 0.889\n",
            "Epoch: 560/1000  Training Loss: 0.183  Training Acc: 0.926  Test Loss: 0.312  Test Acc: 0.888\n",
            "Epoch: 561/1000  Training Loss: 0.178  Training Acc: 0.928  Test Loss: 0.311  Test Acc: 0.892\n",
            "Epoch: 562/1000  Training Loss: 0.176  Training Acc: 0.934  Test Loss: 0.309  Test Acc: 0.889\n",
            "Epoch: 563/1000  Training Loss: 0.185  Training Acc: 0.928  Test Loss: 0.310  Test Acc: 0.886\n",
            "Epoch: 564/1000  Training Loss: 0.175  Training Acc: 0.933  Test Loss: 0.309  Test Acc: 0.888\n",
            "Epoch: 565/1000  Training Loss: 0.183  Training Acc: 0.928  Test Loss: 0.310  Test Acc: 0.887\n",
            "Epoch: 566/1000  Training Loss: 0.179  Training Acc: 0.933  Test Loss: 0.313  Test Acc: 0.889\n",
            "Epoch: 567/1000  Training Loss: 0.177  Training Acc: 0.934  Test Loss: 0.317  Test Acc: 0.887\n",
            "Epoch: 568/1000  Training Loss: 0.175  Training Acc: 0.929  Test Loss: 0.324  Test Acc: 0.887\n",
            "Epoch: 569/1000  Training Loss: 0.184  Training Acc: 0.933  Test Loss: 0.330  Test Acc: 0.888\n",
            "Epoch: 570/1000  Training Loss: 0.171  Training Acc: 0.932  Test Loss: 0.332  Test Acc: 0.886\n",
            "Epoch: 571/1000  Training Loss: 0.173  Training Acc: 0.934  Test Loss: 0.331  Test Acc: 0.887\n",
            "Epoch: 572/1000  Training Loss: 0.176  Training Acc: 0.931  Test Loss: 0.328  Test Acc: 0.889\n",
            "Epoch: 573/1000  Training Loss: 0.177  Training Acc: 0.931  Test Loss: 0.325  Test Acc: 0.887\n",
            "Epoch: 574/1000  Training Loss: 0.181  Training Acc: 0.926  Test Loss: 0.321  Test Acc: 0.886\n",
            "Epoch: 575/1000  Training Loss: 0.177  Training Acc: 0.930  Test Loss: 0.318  Test Acc: 0.887\n",
            "Epoch: 576/1000  Training Loss: 0.173  Training Acc: 0.930  Test Loss: 0.320  Test Acc: 0.887\n",
            "Epoch: 577/1000  Training Loss: 0.170  Training Acc: 0.934  Test Loss: 0.324  Test Acc: 0.882\n",
            "Epoch: 578/1000  Training Loss: 0.178  Training Acc: 0.929  Test Loss: 0.328  Test Acc: 0.882\n",
            "Epoch: 579/1000  Training Loss: 0.174  Training Acc: 0.931  Test Loss: 0.329  Test Acc: 0.886\n",
            "Epoch: 580/1000  Training Loss: 0.174  Training Acc: 0.933  Test Loss: 0.329  Test Acc: 0.887\n",
            "Epoch: 581/1000  Training Loss: 0.171  Training Acc: 0.932  Test Loss: 0.328  Test Acc: 0.888\n",
            "Epoch: 582/1000  Training Loss: 0.170  Training Acc: 0.936  Test Loss: 0.327  Test Acc: 0.888\n",
            "Epoch: 583/1000  Training Loss: 0.169  Training Acc: 0.935  Test Loss: 0.326  Test Acc: 0.886\n",
            "Epoch: 584/1000  Training Loss: 0.164  Training Acc: 0.938  Test Loss: 0.327  Test Acc: 0.887\n",
            "Epoch: 585/1000  Training Loss: 0.176  Training Acc: 0.936  Test Loss: 0.328  Test Acc: 0.886\n",
            "Epoch: 586/1000  Training Loss: 0.179  Training Acc: 0.930  Test Loss: 0.328  Test Acc: 0.887\n",
            "Epoch: 587/1000  Training Loss: 0.174  Training Acc: 0.934  Test Loss: 0.328  Test Acc: 0.887\n",
            "Epoch: 588/1000  Training Loss: 0.174  Training Acc: 0.933  Test Loss: 0.330  Test Acc: 0.890\n",
            "Epoch: 589/1000  Training Loss: 0.174  Training Acc: 0.935  Test Loss: 0.329  Test Acc: 0.888\n",
            "Epoch: 590/1000  Training Loss: 0.168  Training Acc: 0.934  Test Loss: 0.328  Test Acc: 0.889\n",
            "Epoch: 591/1000  Training Loss: 0.170  Training Acc: 0.936  Test Loss: 0.327  Test Acc: 0.886\n",
            "Epoch: 592/1000  Training Loss: 0.176  Training Acc: 0.929  Test Loss: 0.327  Test Acc: 0.886\n",
            "Epoch: 593/1000  Training Loss: 0.175  Training Acc: 0.934  Test Loss: 0.327  Test Acc: 0.888\n",
            "Epoch: 594/1000  Training Loss: 0.175  Training Acc: 0.936  Test Loss: 0.327  Test Acc: 0.891\n",
            "Epoch: 595/1000  Training Loss: 0.170  Training Acc: 0.932  Test Loss: 0.326  Test Acc: 0.887\n",
            "Epoch: 596/1000  Training Loss: 0.177  Training Acc: 0.933  Test Loss: 0.327  Test Acc: 0.889\n",
            "Epoch: 597/1000  Training Loss: 0.172  Training Acc: 0.935  Test Loss: 0.326  Test Acc: 0.891\n",
            "Epoch: 598/1000  Training Loss: 0.174  Training Acc: 0.934  Test Loss: 0.327  Test Acc: 0.892\n",
            "Epoch: 599/1000  Training Loss: 0.170  Training Acc: 0.932  Test Loss: 0.328  Test Acc: 0.892\n",
            "Epoch: 600/1000  Training Loss: 0.172  Training Acc: 0.936  Test Loss: 0.328  Test Acc: 0.896\n",
            "Epoch: 601/1000  Training Loss: 0.179  Training Acc: 0.934  Test Loss: 0.330  Test Acc: 0.890\n",
            "Epoch: 602/1000  Training Loss: 0.172  Training Acc: 0.931  Test Loss: 0.330  Test Acc: 0.887\n",
            "Epoch: 603/1000  Training Loss: 0.173  Training Acc: 0.931  Test Loss: 0.331  Test Acc: 0.886\n",
            "Epoch: 604/1000  Training Loss: 0.171  Training Acc: 0.930  Test Loss: 0.333  Test Acc: 0.884\n",
            "Epoch: 605/1000  Training Loss: 0.174  Training Acc: 0.931  Test Loss: 0.334  Test Acc: 0.888\n",
            "Epoch: 606/1000  Training Loss: 0.170  Training Acc: 0.934  Test Loss: 0.337  Test Acc: 0.887\n",
            "Epoch: 607/1000  Training Loss: 0.173  Training Acc: 0.934  Test Loss: 0.336  Test Acc: 0.890\n",
            "Epoch: 608/1000  Training Loss: 0.172  Training Acc: 0.930  Test Loss: 0.333  Test Acc: 0.892\n",
            "Epoch: 609/1000  Training Loss: 0.171  Training Acc: 0.936  Test Loss: 0.330  Test Acc: 0.891\n",
            "Epoch: 610/1000  Training Loss: 0.168  Training Acc: 0.937  Test Loss: 0.331  Test Acc: 0.892\n",
            "Epoch: 611/1000  Training Loss: 0.178  Training Acc: 0.932  Test Loss: 0.331  Test Acc: 0.892\n",
            "Epoch: 612/1000  Training Loss: 0.167  Training Acc: 0.935  Test Loss: 0.332  Test Acc: 0.892\n",
            "Epoch: 613/1000  Training Loss: 0.174  Training Acc: 0.931  Test Loss: 0.331  Test Acc: 0.893\n",
            "Epoch: 614/1000  Training Loss: 0.164  Training Acc: 0.936  Test Loss: 0.331  Test Acc: 0.889\n",
            "Epoch: 615/1000  Training Loss: 0.172  Training Acc: 0.934  Test Loss: 0.332  Test Acc: 0.883\n",
            "Epoch: 616/1000  Training Loss: 0.163  Training Acc: 0.936  Test Loss: 0.333  Test Acc: 0.882\n",
            "Epoch: 617/1000  Training Loss: 0.165  Training Acc: 0.938  Test Loss: 0.333  Test Acc: 0.882\n",
            "Epoch: 618/1000  Training Loss: 0.162  Training Acc: 0.934  Test Loss: 0.333  Test Acc: 0.882\n",
            "Epoch: 619/1000  Training Loss: 0.164  Training Acc: 0.936  Test Loss: 0.332  Test Acc: 0.879\n",
            "Epoch: 620/1000  Training Loss: 0.171  Training Acc: 0.934  Test Loss: 0.332  Test Acc: 0.882\n",
            "Epoch: 621/1000  Training Loss: 0.162  Training Acc: 0.937  Test Loss: 0.333  Test Acc: 0.882\n",
            "Epoch: 622/1000  Training Loss: 0.157  Training Acc: 0.942  Test Loss: 0.333  Test Acc: 0.887\n",
            "Epoch: 623/1000  Training Loss: 0.163  Training Acc: 0.936  Test Loss: 0.336  Test Acc: 0.885\n",
            "Epoch: 624/1000  Training Loss: 0.171  Training Acc: 0.936  Test Loss: 0.340  Test Acc: 0.879\n",
            "Epoch: 625/1000  Training Loss: 0.161  Training Acc: 0.939  Test Loss: 0.345  Test Acc: 0.880\n",
            "Epoch: 626/1000  Training Loss: 0.167  Training Acc: 0.933  Test Loss: 0.345  Test Acc: 0.882\n",
            "Epoch: 627/1000  Training Loss: 0.167  Training Acc: 0.936  Test Loss: 0.341  Test Acc: 0.882\n",
            "Epoch: 628/1000  Training Loss: 0.163  Training Acc: 0.939  Test Loss: 0.336  Test Acc: 0.882\n",
            "Epoch: 629/1000  Training Loss: 0.171  Training Acc: 0.932  Test Loss: 0.332  Test Acc: 0.885\n",
            "Epoch: 630/1000  Training Loss: 0.162  Training Acc: 0.936  Test Loss: 0.332  Test Acc: 0.883\n",
            "Epoch: 631/1000  Training Loss: 0.162  Training Acc: 0.938  Test Loss: 0.333  Test Acc: 0.889\n",
            "Epoch: 632/1000  Training Loss: 0.167  Training Acc: 0.935  Test Loss: 0.334  Test Acc: 0.891\n",
            "Epoch: 633/1000  Training Loss: 0.163  Training Acc: 0.936  Test Loss: 0.335  Test Acc: 0.887\n",
            "Epoch: 634/1000  Training Loss: 0.163  Training Acc: 0.937  Test Loss: 0.336  Test Acc: 0.887\n",
            "Epoch: 635/1000  Training Loss: 0.156  Training Acc: 0.942  Test Loss: 0.337  Test Acc: 0.890\n",
            "Epoch: 636/1000  Training Loss: 0.162  Training Acc: 0.938  Test Loss: 0.335  Test Acc: 0.889\n",
            "Epoch: 637/1000  Training Loss: 0.168  Training Acc: 0.935  Test Loss: 0.333  Test Acc: 0.887\n",
            "Epoch: 638/1000  Training Loss: 0.156  Training Acc: 0.941  Test Loss: 0.332  Test Acc: 0.889\n",
            "Epoch: 639/1000  Training Loss: 0.159  Training Acc: 0.939  Test Loss: 0.331  Test Acc: 0.892\n",
            "Epoch: 640/1000  Training Loss: 0.164  Training Acc: 0.935  Test Loss: 0.333  Test Acc: 0.894\n",
            "Epoch: 641/1000  Training Loss: 0.153  Training Acc: 0.941  Test Loss: 0.334  Test Acc: 0.893\n",
            "Epoch: 642/1000  Training Loss: 0.165  Training Acc: 0.934  Test Loss: 0.332  Test Acc: 0.889\n",
            "Epoch: 643/1000  Training Loss: 0.160  Training Acc: 0.938  Test Loss: 0.330  Test Acc: 0.887\n",
            "Epoch: 644/1000  Training Loss: 0.170  Training Acc: 0.931  Test Loss: 0.329  Test Acc: 0.886\n",
            "Epoch: 645/1000  Training Loss: 0.153  Training Acc: 0.940  Test Loss: 0.332  Test Acc: 0.889\n",
            "Epoch: 646/1000  Training Loss: 0.160  Training Acc: 0.938  Test Loss: 0.336  Test Acc: 0.892\n",
            "Epoch: 647/1000  Training Loss: 0.156  Training Acc: 0.939  Test Loss: 0.341  Test Acc: 0.888\n",
            "Epoch: 648/1000  Training Loss: 0.161  Training Acc: 0.940  Test Loss: 0.342  Test Acc: 0.884\n",
            "Epoch: 649/1000  Training Loss: 0.169  Training Acc: 0.935  Test Loss: 0.338  Test Acc: 0.887\n",
            "Epoch: 650/1000  Training Loss: 0.158  Training Acc: 0.940  Test Loss: 0.337  Test Acc: 0.889\n",
            "Epoch: 651/1000  Training Loss: 0.159  Training Acc: 0.938  Test Loss: 0.337  Test Acc: 0.886\n",
            "Epoch: 652/1000  Training Loss: 0.157  Training Acc: 0.938  Test Loss: 0.339  Test Acc: 0.885\n",
            "Epoch: 653/1000  Training Loss: 0.165  Training Acc: 0.939  Test Loss: 0.341  Test Acc: 0.882\n",
            "Epoch: 654/1000  Training Loss: 0.155  Training Acc: 0.938  Test Loss: 0.342  Test Acc: 0.883\n",
            "Epoch: 655/1000  Training Loss: 0.167  Training Acc: 0.935  Test Loss: 0.341  Test Acc: 0.884\n",
            "Epoch: 656/1000  Training Loss: 0.166  Training Acc: 0.936  Test Loss: 0.340  Test Acc: 0.883\n",
            "Epoch: 657/1000  Training Loss: 0.157  Training Acc: 0.939  Test Loss: 0.339  Test Acc: 0.887\n",
            "Epoch: 658/1000  Training Loss: 0.160  Training Acc: 0.938  Test Loss: 0.339  Test Acc: 0.887\n",
            "Epoch: 659/1000  Training Loss: 0.161  Training Acc: 0.940  Test Loss: 0.339  Test Acc: 0.887\n",
            "Epoch: 660/1000  Training Loss: 0.161  Training Acc: 0.941  Test Loss: 0.340  Test Acc: 0.892\n",
            "Epoch: 661/1000  Training Loss: 0.157  Training Acc: 0.940  Test Loss: 0.342  Test Acc: 0.891\n",
            "Epoch: 662/1000  Training Loss: 0.159  Training Acc: 0.940  Test Loss: 0.339  Test Acc: 0.888\n",
            "Epoch: 663/1000  Training Loss: 0.150  Training Acc: 0.941  Test Loss: 0.339  Test Acc: 0.889\n",
            "Epoch: 664/1000  Training Loss: 0.157  Training Acc: 0.937  Test Loss: 0.336  Test Acc: 0.888\n",
            "Epoch: 665/1000  Training Loss: 0.149  Training Acc: 0.940  Test Loss: 0.336  Test Acc: 0.893\n",
            "Epoch: 666/1000  Training Loss: 0.156  Training Acc: 0.939  Test Loss: 0.337  Test Acc: 0.896\n",
            "Epoch: 667/1000  Training Loss: 0.165  Training Acc: 0.936  Test Loss: 0.335  Test Acc: 0.887\n",
            "Epoch: 668/1000  Training Loss: 0.155  Training Acc: 0.939  Test Loss: 0.335  Test Acc: 0.887\n",
            "Epoch: 669/1000  Training Loss: 0.156  Training Acc: 0.937  Test Loss: 0.335  Test Acc: 0.886\n",
            "Epoch: 670/1000  Training Loss: 0.152  Training Acc: 0.942  Test Loss: 0.333  Test Acc: 0.887\n",
            "Epoch: 671/1000  Training Loss: 0.156  Training Acc: 0.942  Test Loss: 0.333  Test Acc: 0.890\n",
            "Epoch: 672/1000  Training Loss: 0.149  Training Acc: 0.944  Test Loss: 0.333  Test Acc: 0.892\n",
            "Epoch: 673/1000  Training Loss: 0.152  Training Acc: 0.942  Test Loss: 0.335  Test Acc: 0.890\n",
            "Epoch: 674/1000  Training Loss: 0.158  Training Acc: 0.940  Test Loss: 0.338  Test Acc: 0.888\n",
            "Epoch: 675/1000  Training Loss: 0.146  Training Acc: 0.942  Test Loss: 0.340  Test Acc: 0.888\n",
            "Epoch: 676/1000  Training Loss: 0.161  Training Acc: 0.939  Test Loss: 0.342  Test Acc: 0.888\n",
            "Epoch: 677/1000  Training Loss: 0.151  Training Acc: 0.944  Test Loss: 0.344  Test Acc: 0.889\n",
            "Epoch: 678/1000  Training Loss: 0.156  Training Acc: 0.940  Test Loss: 0.345  Test Acc: 0.888\n",
            "Epoch: 679/1000  Training Loss: 0.151  Training Acc: 0.943  Test Loss: 0.344  Test Acc: 0.887\n",
            "Epoch: 680/1000  Training Loss: 0.147  Training Acc: 0.943  Test Loss: 0.343  Test Acc: 0.888\n",
            "Epoch: 681/1000  Training Loss: 0.157  Training Acc: 0.936  Test Loss: 0.341  Test Acc: 0.888\n",
            "Epoch: 682/1000  Training Loss: 0.158  Training Acc: 0.939  Test Loss: 0.338  Test Acc: 0.889\n",
            "Epoch: 683/1000  Training Loss: 0.148  Training Acc: 0.943  Test Loss: 0.335  Test Acc: 0.893\n",
            "Epoch: 684/1000  Training Loss: 0.147  Training Acc: 0.945  Test Loss: 0.335  Test Acc: 0.894\n",
            "Epoch: 685/1000  Training Loss: 0.156  Training Acc: 0.938  Test Loss: 0.336  Test Acc: 0.889\n",
            "Epoch: 686/1000  Training Loss: 0.156  Training Acc: 0.942  Test Loss: 0.336  Test Acc: 0.892\n",
            "Epoch: 687/1000  Training Loss: 0.151  Training Acc: 0.938  Test Loss: 0.336  Test Acc: 0.891\n",
            "Epoch: 688/1000  Training Loss: 0.151  Training Acc: 0.943  Test Loss: 0.335  Test Acc: 0.890\n",
            "Epoch: 689/1000  Training Loss: 0.147  Training Acc: 0.944  Test Loss: 0.333  Test Acc: 0.887\n",
            "Epoch: 690/1000  Training Loss: 0.149  Training Acc: 0.941  Test Loss: 0.331  Test Acc: 0.887\n",
            "Epoch: 691/1000  Training Loss: 0.149  Training Acc: 0.944  Test Loss: 0.330  Test Acc: 0.883\n",
            "Epoch: 692/1000  Training Loss: 0.148  Training Acc: 0.943  Test Loss: 0.333  Test Acc: 0.885\n",
            "Epoch: 693/1000  Training Loss: 0.152  Training Acc: 0.939  Test Loss: 0.339  Test Acc: 0.887\n",
            "Epoch: 694/1000  Training Loss: 0.155  Training Acc: 0.941  Test Loss: 0.342  Test Acc: 0.884\n",
            "Epoch: 695/1000  Training Loss: 0.149  Training Acc: 0.942  Test Loss: 0.344  Test Acc: 0.887\n",
            "Epoch: 696/1000  Training Loss: 0.150  Training Acc: 0.944  Test Loss: 0.344  Test Acc: 0.891\n",
            "Epoch: 697/1000  Training Loss: 0.150  Training Acc: 0.942  Test Loss: 0.343  Test Acc: 0.891\n",
            "Epoch: 698/1000  Training Loss: 0.151  Training Acc: 0.942  Test Loss: 0.342  Test Acc: 0.892\n",
            "Epoch: 699/1000  Training Loss: 0.155  Training Acc: 0.937  Test Loss: 0.341  Test Acc: 0.891\n",
            "Epoch: 700/1000  Training Loss: 0.145  Training Acc: 0.944  Test Loss: 0.343  Test Acc: 0.894\n",
            "Epoch: 701/1000  Training Loss: 0.147  Training Acc: 0.944  Test Loss: 0.343  Test Acc: 0.893\n",
            "Epoch: 702/1000  Training Loss: 0.148  Training Acc: 0.945  Test Loss: 0.342  Test Acc: 0.892\n",
            "Epoch: 703/1000  Training Loss: 0.157  Training Acc: 0.940  Test Loss: 0.337  Test Acc: 0.890\n",
            "Epoch: 704/1000  Training Loss: 0.146  Training Acc: 0.946  Test Loss: 0.337  Test Acc: 0.892\n",
            "Epoch: 705/1000  Training Loss: 0.150  Training Acc: 0.944  Test Loss: 0.341  Test Acc: 0.892\n",
            "Epoch: 706/1000  Training Loss: 0.149  Training Acc: 0.943  Test Loss: 0.343  Test Acc: 0.890\n",
            "Epoch: 707/1000  Training Loss: 0.156  Training Acc: 0.943  Test Loss: 0.343  Test Acc: 0.887\n",
            "Epoch: 708/1000  Training Loss: 0.160  Training Acc: 0.937  Test Loss: 0.344  Test Acc: 0.887\n",
            "Epoch: 709/1000  Training Loss: 0.150  Training Acc: 0.941  Test Loss: 0.346  Test Acc: 0.889\n",
            "Epoch: 710/1000  Training Loss: 0.143  Training Acc: 0.943  Test Loss: 0.348  Test Acc: 0.890\n",
            "Epoch: 711/1000  Training Loss: 0.148  Training Acc: 0.943  Test Loss: 0.349  Test Acc: 0.889\n",
            "Epoch: 712/1000  Training Loss: 0.146  Training Acc: 0.943  Test Loss: 0.349  Test Acc: 0.891\n",
            "Epoch: 713/1000  Training Loss: 0.149  Training Acc: 0.939  Test Loss: 0.349  Test Acc: 0.893\n",
            "Epoch: 714/1000  Training Loss: 0.151  Training Acc: 0.944  Test Loss: 0.348  Test Acc: 0.892\n",
            "Epoch: 715/1000  Training Loss: 0.151  Training Acc: 0.943  Test Loss: 0.348  Test Acc: 0.892\n",
            "Epoch: 716/1000  Training Loss: 0.153  Training Acc: 0.941  Test Loss: 0.349  Test Acc: 0.891\n",
            "Epoch: 717/1000  Training Loss: 0.155  Training Acc: 0.940  Test Loss: 0.349  Test Acc: 0.891\n",
            "Epoch: 718/1000  Training Loss: 0.142  Training Acc: 0.944  Test Loss: 0.348  Test Acc: 0.891\n",
            "Epoch: 719/1000  Training Loss: 0.148  Training Acc: 0.942  Test Loss: 0.347  Test Acc: 0.889\n",
            "Epoch: 720/1000  Training Loss: 0.150  Training Acc: 0.941  Test Loss: 0.346  Test Acc: 0.887\n",
            "Epoch: 721/1000  Training Loss: 0.138  Training Acc: 0.947  Test Loss: 0.345  Test Acc: 0.886\n",
            "Epoch: 722/1000  Training Loss: 0.147  Training Acc: 0.943  Test Loss: 0.343  Test Acc: 0.889\n",
            "Epoch: 723/1000  Training Loss: 0.141  Training Acc: 0.946  Test Loss: 0.342  Test Acc: 0.893\n",
            "Epoch: 724/1000  Training Loss: 0.144  Training Acc: 0.947  Test Loss: 0.342  Test Acc: 0.895\n",
            "Epoch: 725/1000  Training Loss: 0.141  Training Acc: 0.944  Test Loss: 0.344  Test Acc: 0.895\n",
            "Epoch: 726/1000  Training Loss: 0.145  Training Acc: 0.944  Test Loss: 0.347  Test Acc: 0.893\n",
            "Epoch: 727/1000  Training Loss: 0.151  Training Acc: 0.942  Test Loss: 0.350  Test Acc: 0.892\n",
            "Epoch: 728/1000  Training Loss: 0.145  Training Acc: 0.945  Test Loss: 0.351  Test Acc: 0.893\n",
            "Epoch: 729/1000  Training Loss: 0.151  Training Acc: 0.938  Test Loss: 0.352  Test Acc: 0.892\n",
            "Epoch: 730/1000  Training Loss: 0.138  Training Acc: 0.947  Test Loss: 0.354  Test Acc: 0.887\n",
            "Epoch: 731/1000  Training Loss: 0.141  Training Acc: 0.947  Test Loss: 0.357  Test Acc: 0.887\n",
            "Epoch: 732/1000  Training Loss: 0.149  Training Acc: 0.942  Test Loss: 0.358  Test Acc: 0.886\n",
            "Epoch: 733/1000  Training Loss: 0.155  Training Acc: 0.941  Test Loss: 0.357  Test Acc: 0.887\n",
            "Epoch: 734/1000  Training Loss: 0.139  Training Acc: 0.947  Test Loss: 0.357  Test Acc: 0.883\n",
            "Epoch: 735/1000  Training Loss: 0.149  Training Acc: 0.943  Test Loss: 0.356  Test Acc: 0.885\n",
            "Epoch: 736/1000  Training Loss: 0.137  Training Acc: 0.948  Test Loss: 0.355  Test Acc: 0.887\n",
            "Epoch: 737/1000  Training Loss: 0.133  Training Acc: 0.950  Test Loss: 0.354  Test Acc: 0.893\n",
            "Epoch: 738/1000  Training Loss: 0.148  Training Acc: 0.945  Test Loss: 0.353  Test Acc: 0.891\n",
            "Epoch: 739/1000  Training Loss: 0.143  Training Acc: 0.946  Test Loss: 0.353  Test Acc: 0.888\n",
            "Epoch: 740/1000  Training Loss: 0.144  Training Acc: 0.947  Test Loss: 0.353  Test Acc: 0.892\n",
            "Epoch: 741/1000  Training Loss: 0.147  Training Acc: 0.946  Test Loss: 0.354  Test Acc: 0.888\n",
            "Epoch: 742/1000  Training Loss: 0.150  Training Acc: 0.944  Test Loss: 0.355  Test Acc: 0.885\n",
            "Epoch: 743/1000  Training Loss: 0.144  Training Acc: 0.944  Test Loss: 0.356  Test Acc: 0.882\n",
            "Epoch: 744/1000  Training Loss: 0.131  Training Acc: 0.952  Test Loss: 0.358  Test Acc: 0.882\n",
            "Epoch: 745/1000  Training Loss: 0.146  Training Acc: 0.946  Test Loss: 0.359  Test Acc: 0.883\n",
            "Epoch: 746/1000  Training Loss: 0.136  Training Acc: 0.945  Test Loss: 0.360  Test Acc: 0.886\n",
            "Epoch: 747/1000  Training Loss: 0.139  Training Acc: 0.948  Test Loss: 0.361  Test Acc: 0.886\n",
            "Epoch: 748/1000  Training Loss: 0.142  Training Acc: 0.944  Test Loss: 0.364  Test Acc: 0.886\n",
            "Epoch: 749/1000  Training Loss: 0.135  Training Acc: 0.947  Test Loss: 0.365  Test Acc: 0.884\n",
            "Epoch: 750/1000  Training Loss: 0.135  Training Acc: 0.947  Test Loss: 0.366  Test Acc: 0.885\n",
            "Epoch: 751/1000  Training Loss: 0.139  Training Acc: 0.947  Test Loss: 0.368  Test Acc: 0.883\n",
            "Epoch: 752/1000  Training Loss: 0.152  Training Acc: 0.939  Test Loss: 0.367  Test Acc: 0.881\n",
            "Epoch: 753/1000  Training Loss: 0.139  Training Acc: 0.946  Test Loss: 0.365  Test Acc: 0.883\n",
            "Epoch: 754/1000  Training Loss: 0.140  Training Acc: 0.946  Test Loss: 0.363  Test Acc: 0.884\n",
            "Epoch: 755/1000  Training Loss: 0.141  Training Acc: 0.949  Test Loss: 0.361  Test Acc: 0.882\n",
            "Epoch: 756/1000  Training Loss: 0.141  Training Acc: 0.946  Test Loss: 0.360  Test Acc: 0.884\n",
            "Epoch: 757/1000  Training Loss: 0.151  Training Acc: 0.942  Test Loss: 0.359  Test Acc: 0.886\n",
            "Epoch: 758/1000  Training Loss: 0.143  Training Acc: 0.944  Test Loss: 0.358  Test Acc: 0.887\n",
            "Epoch: 759/1000  Training Loss: 0.140  Training Acc: 0.945  Test Loss: 0.359  Test Acc: 0.887\n",
            "Epoch: 760/1000  Training Loss: 0.146  Training Acc: 0.945  Test Loss: 0.359  Test Acc: 0.887\n",
            "Epoch: 761/1000  Training Loss: 0.140  Training Acc: 0.949  Test Loss: 0.360  Test Acc: 0.887\n",
            "Epoch: 762/1000  Training Loss: 0.145  Training Acc: 0.946  Test Loss: 0.361  Test Acc: 0.889\n",
            "Epoch: 763/1000  Training Loss: 0.131  Training Acc: 0.950  Test Loss: 0.364  Test Acc: 0.887\n",
            "Epoch: 764/1000  Training Loss: 0.140  Training Acc: 0.946  Test Loss: 0.370  Test Acc: 0.886\n",
            "Epoch: 765/1000  Training Loss: 0.137  Training Acc: 0.948  Test Loss: 0.376  Test Acc: 0.887\n",
            "Epoch: 766/1000  Training Loss: 0.138  Training Acc: 0.947  Test Loss: 0.377  Test Acc: 0.888\n",
            "Epoch: 767/1000  Training Loss: 0.138  Training Acc: 0.949  Test Loss: 0.376  Test Acc: 0.888\n",
            "Epoch: 768/1000  Training Loss: 0.134  Training Acc: 0.949  Test Loss: 0.372  Test Acc: 0.887\n",
            "Epoch: 769/1000  Training Loss: 0.152  Training Acc: 0.943  Test Loss: 0.367  Test Acc: 0.887\n",
            "Epoch: 770/1000  Training Loss: 0.136  Training Acc: 0.951  Test Loss: 0.366  Test Acc: 0.892\n",
            "Epoch: 771/1000  Training Loss: 0.134  Training Acc: 0.951  Test Loss: 0.365  Test Acc: 0.891\n",
            "Epoch: 772/1000  Training Loss: 0.133  Training Acc: 0.948  Test Loss: 0.366  Test Acc: 0.890\n",
            "Epoch: 773/1000  Training Loss: 0.135  Training Acc: 0.947  Test Loss: 0.365  Test Acc: 0.885\n",
            "Epoch: 774/1000  Training Loss: 0.133  Training Acc: 0.948  Test Loss: 0.367  Test Acc: 0.883\n",
            "Epoch: 775/1000  Training Loss: 0.136  Training Acc: 0.947  Test Loss: 0.369  Test Acc: 0.879\n",
            "Epoch: 776/1000  Training Loss: 0.139  Training Acc: 0.946  Test Loss: 0.367  Test Acc: 0.882\n",
            "Epoch: 777/1000  Training Loss: 0.137  Training Acc: 0.945  Test Loss: 0.364  Test Acc: 0.884\n",
            "Epoch: 778/1000  Training Loss: 0.142  Training Acc: 0.948  Test Loss: 0.361  Test Acc: 0.886\n",
            "Epoch: 779/1000  Training Loss: 0.127  Training Acc: 0.951  Test Loss: 0.360  Test Acc: 0.888\n",
            "Epoch: 780/1000  Training Loss: 0.136  Training Acc: 0.948  Test Loss: 0.361  Test Acc: 0.889\n",
            "Epoch: 781/1000  Training Loss: 0.143  Training Acc: 0.944  Test Loss: 0.360  Test Acc: 0.892\n",
            "Epoch: 782/1000  Training Loss: 0.133  Training Acc: 0.949  Test Loss: 0.361  Test Acc: 0.892\n",
            "Epoch: 783/1000  Training Loss: 0.142  Training Acc: 0.944  Test Loss: 0.362  Test Acc: 0.895\n",
            "Epoch: 784/1000  Training Loss: 0.131  Training Acc: 0.951  Test Loss: 0.362  Test Acc: 0.895\n",
            "Epoch: 785/1000  Training Loss: 0.140  Training Acc: 0.948  Test Loss: 0.362  Test Acc: 0.892\n",
            "Epoch: 786/1000  Training Loss: 0.134  Training Acc: 0.946  Test Loss: 0.362  Test Acc: 0.890\n",
            "Epoch: 787/1000  Training Loss: 0.139  Training Acc: 0.946  Test Loss: 0.364  Test Acc: 0.888\n",
            "Epoch: 788/1000  Training Loss: 0.138  Training Acc: 0.945  Test Loss: 0.365  Test Acc: 0.892\n",
            "Epoch: 789/1000  Training Loss: 0.136  Training Acc: 0.949  Test Loss: 0.366  Test Acc: 0.892\n",
            "Epoch: 790/1000  Training Loss: 0.140  Training Acc: 0.948  Test Loss: 0.367  Test Acc: 0.892\n",
            "Epoch: 791/1000  Training Loss: 0.131  Training Acc: 0.950  Test Loss: 0.367  Test Acc: 0.889\n",
            "Epoch: 792/1000  Training Loss: 0.133  Training Acc: 0.951  Test Loss: 0.370  Test Acc: 0.885\n",
            "Epoch: 793/1000  Training Loss: 0.138  Training Acc: 0.951  Test Loss: 0.372  Test Acc: 0.886\n",
            "Epoch: 794/1000  Training Loss: 0.128  Training Acc: 0.953  Test Loss: 0.375  Test Acc: 0.888\n",
            "Epoch: 795/1000  Training Loss: 0.136  Training Acc: 0.948  Test Loss: 0.376  Test Acc: 0.887\n",
            "Epoch: 796/1000  Training Loss: 0.135  Training Acc: 0.948  Test Loss: 0.377  Test Acc: 0.890\n",
            "Epoch: 797/1000  Training Loss: 0.133  Training Acc: 0.950  Test Loss: 0.378  Test Acc: 0.891\n",
            "Epoch: 798/1000  Training Loss: 0.135  Training Acc: 0.950  Test Loss: 0.376  Test Acc: 0.890\n",
            "Epoch: 799/1000  Training Loss: 0.139  Training Acc: 0.947  Test Loss: 0.371  Test Acc: 0.891\n",
            "Epoch: 800/1000  Training Loss: 0.136  Training Acc: 0.946  Test Loss: 0.367  Test Acc: 0.890\n",
            "Epoch: 801/1000  Training Loss: 0.126  Training Acc: 0.954  Test Loss: 0.366  Test Acc: 0.887\n",
            "Epoch: 802/1000  Training Loss: 0.132  Training Acc: 0.953  Test Loss: 0.365  Test Acc: 0.888\n",
            "Epoch: 803/1000  Training Loss: 0.132  Training Acc: 0.946  Test Loss: 0.364  Test Acc: 0.888\n",
            "Epoch: 804/1000  Training Loss: 0.125  Training Acc: 0.953  Test Loss: 0.364  Test Acc: 0.887\n",
            "Epoch: 805/1000  Training Loss: 0.133  Training Acc: 0.950  Test Loss: 0.366  Test Acc: 0.890\n",
            "Epoch: 806/1000  Training Loss: 0.146  Training Acc: 0.945  Test Loss: 0.366  Test Acc: 0.886\n",
            "Epoch: 807/1000  Training Loss: 0.129  Training Acc: 0.950  Test Loss: 0.364  Test Acc: 0.889\n",
            "Epoch: 808/1000  Training Loss: 0.133  Training Acc: 0.950  Test Loss: 0.364  Test Acc: 0.893\n",
            "Epoch: 809/1000  Training Loss: 0.126  Training Acc: 0.950  Test Loss: 0.365  Test Acc: 0.890\n",
            "Epoch: 810/1000  Training Loss: 0.137  Training Acc: 0.949  Test Loss: 0.365  Test Acc: 0.892\n",
            "Epoch: 811/1000  Training Loss: 0.134  Training Acc: 0.948  Test Loss: 0.366  Test Acc: 0.895\n",
            "Epoch: 812/1000  Training Loss: 0.132  Training Acc: 0.953  Test Loss: 0.365  Test Acc: 0.892\n",
            "Epoch: 813/1000  Training Loss: 0.134  Training Acc: 0.951  Test Loss: 0.365  Test Acc: 0.893\n",
            "Epoch: 814/1000  Training Loss: 0.119  Training Acc: 0.955  Test Loss: 0.365  Test Acc: 0.894\n",
            "Epoch: 815/1000  Training Loss: 0.130  Training Acc: 0.949  Test Loss: 0.364  Test Acc: 0.892\n",
            "Epoch: 816/1000  Training Loss: 0.131  Training Acc: 0.950  Test Loss: 0.363  Test Acc: 0.892\n",
            "Epoch: 817/1000  Training Loss: 0.128  Training Acc: 0.949  Test Loss: 0.363  Test Acc: 0.891\n",
            "Epoch: 818/1000  Training Loss: 0.133  Training Acc: 0.955  Test Loss: 0.363  Test Acc: 0.890\n",
            "Epoch: 819/1000  Training Loss: 0.131  Training Acc: 0.948  Test Loss: 0.364  Test Acc: 0.890\n",
            "Epoch: 820/1000  Training Loss: 0.131  Training Acc: 0.948  Test Loss: 0.367  Test Acc: 0.888\n",
            "Epoch: 821/1000  Training Loss: 0.129  Training Acc: 0.952  Test Loss: 0.370  Test Acc: 0.887\n",
            "Epoch: 822/1000  Training Loss: 0.140  Training Acc: 0.944  Test Loss: 0.371  Test Acc: 0.885\n",
            "Epoch: 823/1000  Training Loss: 0.137  Training Acc: 0.947  Test Loss: 0.371  Test Acc: 0.886\n",
            "Epoch: 824/1000  Training Loss: 0.127  Training Acc: 0.954  Test Loss: 0.371  Test Acc: 0.886\n",
            "Epoch: 825/1000  Training Loss: 0.127  Training Acc: 0.951  Test Loss: 0.370  Test Acc: 0.886\n",
            "Epoch: 826/1000  Training Loss: 0.123  Training Acc: 0.954  Test Loss: 0.368  Test Acc: 0.885\n",
            "Epoch: 827/1000  Training Loss: 0.127  Training Acc: 0.950  Test Loss: 0.367  Test Acc: 0.884\n",
            "Epoch: 828/1000  Training Loss: 0.130  Training Acc: 0.950  Test Loss: 0.369  Test Acc: 0.888\n",
            "Epoch: 829/1000  Training Loss: 0.138  Training Acc: 0.947  Test Loss: 0.370  Test Acc: 0.887\n",
            "Epoch: 830/1000  Training Loss: 0.124  Training Acc: 0.955  Test Loss: 0.374  Test Acc: 0.887\n",
            "Epoch: 831/1000  Training Loss: 0.129  Training Acc: 0.948  Test Loss: 0.377  Test Acc: 0.886\n",
            "Epoch: 832/1000  Training Loss: 0.132  Training Acc: 0.950  Test Loss: 0.376  Test Acc: 0.888\n",
            "Epoch: 833/1000  Training Loss: 0.128  Training Acc: 0.949  Test Loss: 0.373  Test Acc: 0.883\n",
            "Epoch: 834/1000  Training Loss: 0.125  Training Acc: 0.953  Test Loss: 0.371  Test Acc: 0.887\n",
            "Epoch: 835/1000  Training Loss: 0.127  Training Acc: 0.953  Test Loss: 0.370  Test Acc: 0.887\n",
            "Epoch: 836/1000  Training Loss: 0.128  Training Acc: 0.950  Test Loss: 0.370  Test Acc: 0.885\n",
            "Epoch: 837/1000  Training Loss: 0.133  Training Acc: 0.949  Test Loss: 0.369  Test Acc: 0.885\n",
            "Epoch: 838/1000  Training Loss: 0.128  Training Acc: 0.946  Test Loss: 0.369  Test Acc: 0.888\n",
            "Epoch: 839/1000  Training Loss: 0.127  Training Acc: 0.952  Test Loss: 0.368  Test Acc: 0.889\n",
            "Epoch: 840/1000  Training Loss: 0.132  Training Acc: 0.949  Test Loss: 0.366  Test Acc: 0.893\n",
            "Epoch: 841/1000  Training Loss: 0.129  Training Acc: 0.951  Test Loss: 0.364  Test Acc: 0.892\n",
            "Epoch: 842/1000  Training Loss: 0.133  Training Acc: 0.950  Test Loss: 0.361  Test Acc: 0.892\n",
            "Epoch: 843/1000  Training Loss: 0.133  Training Acc: 0.948  Test Loss: 0.359  Test Acc: 0.893\n",
            "Epoch: 844/1000  Training Loss: 0.127  Training Acc: 0.951  Test Loss: 0.360  Test Acc: 0.892\n",
            "Epoch: 845/1000  Training Loss: 0.131  Training Acc: 0.951  Test Loss: 0.361  Test Acc: 0.893\n",
            "Epoch: 846/1000  Training Loss: 0.127  Training Acc: 0.952  Test Loss: 0.364  Test Acc: 0.890\n",
            "Epoch: 847/1000  Training Loss: 0.134  Training Acc: 0.947  Test Loss: 0.366  Test Acc: 0.892\n",
            "Epoch: 848/1000  Training Loss: 0.126  Training Acc: 0.950  Test Loss: 0.369  Test Acc: 0.893\n",
            "Epoch: 849/1000  Training Loss: 0.130  Training Acc: 0.951  Test Loss: 0.371  Test Acc: 0.889\n",
            "Epoch: 850/1000  Training Loss: 0.127  Training Acc: 0.951  Test Loss: 0.371  Test Acc: 0.892\n",
            "Epoch: 851/1000  Training Loss: 0.123  Training Acc: 0.952  Test Loss: 0.371  Test Acc: 0.891\n",
            "Epoch: 852/1000  Training Loss: 0.127  Training Acc: 0.950  Test Loss: 0.370  Test Acc: 0.892\n",
            "Epoch: 853/1000  Training Loss: 0.133  Training Acc: 0.951  Test Loss: 0.368  Test Acc: 0.892\n",
            "Epoch: 854/1000  Training Loss: 0.135  Training Acc: 0.950  Test Loss: 0.367  Test Acc: 0.886\n",
            "Epoch: 855/1000  Training Loss: 0.132  Training Acc: 0.949  Test Loss: 0.363  Test Acc: 0.886\n",
            "Epoch: 856/1000  Training Loss: 0.125  Training Acc: 0.955  Test Loss: 0.359  Test Acc: 0.890\n",
            "Epoch: 857/1000  Training Loss: 0.129  Training Acc: 0.954  Test Loss: 0.356  Test Acc: 0.888\n",
            "Epoch: 858/1000  Training Loss: 0.120  Training Acc: 0.955  Test Loss: 0.357  Test Acc: 0.891\n",
            "Epoch: 859/1000  Training Loss: 0.134  Training Acc: 0.950  Test Loss: 0.357  Test Acc: 0.891\n",
            "Epoch: 860/1000  Training Loss: 0.127  Training Acc: 0.950  Test Loss: 0.362  Test Acc: 0.887\n",
            "Epoch: 861/1000  Training Loss: 0.118  Training Acc: 0.955  Test Loss: 0.367  Test Acc: 0.886\n",
            "Epoch: 862/1000  Training Loss: 0.127  Training Acc: 0.951  Test Loss: 0.370  Test Acc: 0.886\n",
            "Epoch: 863/1000  Training Loss: 0.130  Training Acc: 0.952  Test Loss: 0.372  Test Acc: 0.887\n",
            "Epoch: 864/1000  Training Loss: 0.125  Training Acc: 0.952  Test Loss: 0.373  Test Acc: 0.890\n",
            "Epoch: 865/1000  Training Loss: 0.120  Training Acc: 0.953  Test Loss: 0.372  Test Acc: 0.892\n",
            "Epoch: 866/1000  Training Loss: 0.124  Training Acc: 0.954  Test Loss: 0.371  Test Acc: 0.888\n",
            "Epoch: 867/1000  Training Loss: 0.123  Training Acc: 0.957  Test Loss: 0.371  Test Acc: 0.888\n",
            "Epoch: 868/1000  Training Loss: 0.128  Training Acc: 0.950  Test Loss: 0.373  Test Acc: 0.892\n",
            "Epoch: 869/1000  Training Loss: 0.130  Training Acc: 0.950  Test Loss: 0.377  Test Acc: 0.892\n",
            "Epoch: 870/1000  Training Loss: 0.126  Training Acc: 0.953  Test Loss: 0.377  Test Acc: 0.892\n",
            "Epoch: 871/1000  Training Loss: 0.130  Training Acc: 0.951  Test Loss: 0.372  Test Acc: 0.889\n",
            "Epoch: 872/1000  Training Loss: 0.129  Training Acc: 0.949  Test Loss: 0.372  Test Acc: 0.887\n",
            "Epoch: 873/1000  Training Loss: 0.133  Training Acc: 0.950  Test Loss: 0.368  Test Acc: 0.887\n",
            "Epoch: 874/1000  Training Loss: 0.121  Training Acc: 0.954  Test Loss: 0.365  Test Acc: 0.892\n",
            "Epoch: 875/1000  Training Loss: 0.123  Training Acc: 0.952  Test Loss: 0.366  Test Acc: 0.892\n",
            "Epoch: 876/1000  Training Loss: 0.118  Training Acc: 0.952  Test Loss: 0.368  Test Acc: 0.892\n",
            "Epoch: 877/1000  Training Loss: 0.130  Training Acc: 0.949  Test Loss: 0.373  Test Acc: 0.887\n",
            "Epoch: 878/1000  Training Loss: 0.124  Training Acc: 0.952  Test Loss: 0.375  Test Acc: 0.886\n",
            "Epoch: 879/1000  Training Loss: 0.134  Training Acc: 0.949  Test Loss: 0.372  Test Acc: 0.887\n",
            "Epoch: 880/1000  Training Loss: 0.123  Training Acc: 0.953  Test Loss: 0.372  Test Acc: 0.889\n",
            "Epoch: 881/1000  Training Loss: 0.121  Training Acc: 0.955  Test Loss: 0.376  Test Acc: 0.887\n",
            "Epoch: 882/1000  Training Loss: 0.128  Training Acc: 0.952  Test Loss: 0.377  Test Acc: 0.888\n",
            "Epoch: 883/1000  Training Loss: 0.124  Training Acc: 0.952  Test Loss: 0.378  Test Acc: 0.889\n",
            "Epoch: 884/1000  Training Loss: 0.128  Training Acc: 0.952  Test Loss: 0.377  Test Acc: 0.889\n",
            "Epoch: 885/1000  Training Loss: 0.126  Training Acc: 0.951  Test Loss: 0.373  Test Acc: 0.889\n",
            "Epoch: 886/1000  Training Loss: 0.121  Training Acc: 0.956  Test Loss: 0.369  Test Acc: 0.893\n",
            "Epoch: 887/1000  Training Loss: 0.128  Training Acc: 0.954  Test Loss: 0.367  Test Acc: 0.892\n",
            "Epoch: 888/1000  Training Loss: 0.120  Training Acc: 0.953  Test Loss: 0.367  Test Acc: 0.892\n",
            "Epoch: 889/1000  Training Loss: 0.127  Training Acc: 0.953  Test Loss: 0.368  Test Acc: 0.890\n",
            "Epoch: 890/1000  Training Loss: 0.116  Training Acc: 0.957  Test Loss: 0.368  Test Acc: 0.888\n",
            "Epoch: 891/1000  Training Loss: 0.128  Training Acc: 0.954  Test Loss: 0.370  Test Acc: 0.891\n",
            "Epoch: 892/1000  Training Loss: 0.122  Training Acc: 0.954  Test Loss: 0.373  Test Acc: 0.892\n",
            "Epoch: 893/1000  Training Loss: 0.117  Training Acc: 0.952  Test Loss: 0.375  Test Acc: 0.892\n",
            "Epoch: 894/1000  Training Loss: 0.113  Training Acc: 0.957  Test Loss: 0.375  Test Acc: 0.892\n",
            "Epoch: 895/1000  Training Loss: 0.125  Training Acc: 0.953  Test Loss: 0.376  Test Acc: 0.886\n",
            "Epoch: 896/1000  Training Loss: 0.115  Training Acc: 0.960  Test Loss: 0.380  Test Acc: 0.882\n",
            "Epoch: 897/1000  Training Loss: 0.125  Training Acc: 0.954  Test Loss: 0.380  Test Acc: 0.889\n",
            "Epoch: 898/1000  Training Loss: 0.127  Training Acc: 0.951  Test Loss: 0.380  Test Acc: 0.890\n",
            "Epoch: 899/1000  Training Loss: 0.123  Training Acc: 0.954  Test Loss: 0.379  Test Acc: 0.891\n",
            "Epoch: 900/1000  Training Loss: 0.130  Training Acc: 0.952  Test Loss: 0.374  Test Acc: 0.892\n",
            "Epoch: 901/1000  Training Loss: 0.122  Training Acc: 0.953  Test Loss: 0.371  Test Acc: 0.892\n",
            "Epoch: 902/1000  Training Loss: 0.123  Training Acc: 0.953  Test Loss: 0.370  Test Acc: 0.892\n",
            "Epoch: 903/1000  Training Loss: 0.117  Training Acc: 0.958  Test Loss: 0.370  Test Acc: 0.889\n",
            "Epoch: 904/1000  Training Loss: 0.122  Training Acc: 0.954  Test Loss: 0.370  Test Acc: 0.889\n",
            "Epoch: 905/1000  Training Loss: 0.117  Training Acc: 0.955  Test Loss: 0.371  Test Acc: 0.890\n",
            "Epoch: 906/1000  Training Loss: 0.129  Training Acc: 0.953  Test Loss: 0.371  Test Acc: 0.892\n",
            "Epoch: 907/1000  Training Loss: 0.119  Training Acc: 0.955  Test Loss: 0.373  Test Acc: 0.885\n",
            "Epoch: 908/1000  Training Loss: 0.120  Training Acc: 0.955  Test Loss: 0.374  Test Acc: 0.886\n",
            "Epoch: 909/1000  Training Loss: 0.127  Training Acc: 0.952  Test Loss: 0.369  Test Acc: 0.889\n",
            "Epoch: 910/1000  Training Loss: 0.123  Training Acc: 0.956  Test Loss: 0.368  Test Acc: 0.892\n",
            "Epoch: 911/1000  Training Loss: 0.131  Training Acc: 0.951  Test Loss: 0.368  Test Acc: 0.890\n",
            "Epoch: 912/1000  Training Loss: 0.121  Training Acc: 0.952  Test Loss: 0.369  Test Acc: 0.893\n",
            "Epoch: 913/1000  Training Loss: 0.123  Training Acc: 0.954  Test Loss: 0.371  Test Acc: 0.893\n",
            "Epoch: 914/1000  Training Loss: 0.121  Training Acc: 0.952  Test Loss: 0.373  Test Acc: 0.891\n",
            "Epoch: 915/1000  Training Loss: 0.115  Training Acc: 0.957  Test Loss: 0.374  Test Acc: 0.894\n",
            "Epoch: 916/1000  Training Loss: 0.128  Training Acc: 0.951  Test Loss: 0.375  Test Acc: 0.896\n",
            "Epoch: 917/1000  Training Loss: 0.120  Training Acc: 0.953  Test Loss: 0.375  Test Acc: 0.897\n",
            "Epoch: 918/1000  Training Loss: 0.119  Training Acc: 0.954  Test Loss: 0.374  Test Acc: 0.895\n",
            "Epoch: 919/1000  Training Loss: 0.120  Training Acc: 0.954  Test Loss: 0.373  Test Acc: 0.894\n",
            "Epoch: 920/1000  Training Loss: 0.129  Training Acc: 0.952  Test Loss: 0.371  Test Acc: 0.892\n",
            "Epoch: 921/1000  Training Loss: 0.118  Training Acc: 0.954  Test Loss: 0.370  Test Acc: 0.892\n",
            "Epoch: 922/1000  Training Loss: 0.121  Training Acc: 0.955  Test Loss: 0.370  Test Acc: 0.892\n",
            "Epoch: 923/1000  Training Loss: 0.122  Training Acc: 0.954  Test Loss: 0.371  Test Acc: 0.894\n",
            "Epoch: 924/1000  Training Loss: 0.126  Training Acc: 0.953  Test Loss: 0.373  Test Acc: 0.893\n",
            "Epoch: 925/1000  Training Loss: 0.118  Training Acc: 0.958  Test Loss: 0.374  Test Acc: 0.893\n",
            "Epoch: 926/1000  Training Loss: 0.110  Training Acc: 0.961  Test Loss: 0.376  Test Acc: 0.893\n",
            "Epoch: 927/1000  Training Loss: 0.115  Training Acc: 0.957  Test Loss: 0.378  Test Acc: 0.895\n",
            "Epoch: 928/1000  Training Loss: 0.120  Training Acc: 0.954  Test Loss: 0.381  Test Acc: 0.891\n",
            "Epoch: 929/1000  Training Loss: 0.112  Training Acc: 0.959  Test Loss: 0.385  Test Acc: 0.887\n",
            "Epoch: 930/1000  Training Loss: 0.116  Training Acc: 0.954  Test Loss: 0.387  Test Acc: 0.885\n",
            "Epoch: 931/1000  Training Loss: 0.119  Training Acc: 0.955  Test Loss: 0.387  Test Acc: 0.888\n",
            "Epoch: 932/1000  Training Loss: 0.112  Training Acc: 0.957  Test Loss: 0.384  Test Acc: 0.889\n",
            "Epoch: 933/1000  Training Loss: 0.124  Training Acc: 0.954  Test Loss: 0.381  Test Acc: 0.892\n",
            "Epoch: 934/1000  Training Loss: 0.118  Training Acc: 0.953  Test Loss: 0.378  Test Acc: 0.893\n",
            "Epoch: 935/1000  Training Loss: 0.125  Training Acc: 0.952  Test Loss: 0.375  Test Acc: 0.894\n",
            "Epoch: 936/1000  Training Loss: 0.122  Training Acc: 0.956  Test Loss: 0.373  Test Acc: 0.894\n",
            "Epoch: 937/1000  Training Loss: 0.118  Training Acc: 0.955  Test Loss: 0.373  Test Acc: 0.892\n",
            "Epoch: 938/1000  Training Loss: 0.115  Training Acc: 0.957  Test Loss: 0.374  Test Acc: 0.893\n",
            "Epoch: 939/1000  Training Loss: 0.120  Training Acc: 0.953  Test Loss: 0.375  Test Acc: 0.893\n",
            "Epoch: 940/1000  Training Loss: 0.121  Training Acc: 0.955  Test Loss: 0.375  Test Acc: 0.892\n",
            "Epoch: 941/1000  Training Loss: 0.123  Training Acc: 0.950  Test Loss: 0.375  Test Acc: 0.894\n",
            "Epoch: 942/1000  Training Loss: 0.114  Training Acc: 0.956  Test Loss: 0.376  Test Acc: 0.895\n",
            "Epoch: 943/1000  Training Loss: 0.118  Training Acc: 0.955  Test Loss: 0.376  Test Acc: 0.894\n",
            "Epoch: 944/1000  Training Loss: 0.118  Training Acc: 0.955  Test Loss: 0.375  Test Acc: 0.892\n",
            "Epoch: 945/1000  Training Loss: 0.120  Training Acc: 0.956  Test Loss: 0.373  Test Acc: 0.892\n",
            "Epoch: 946/1000  Training Loss: 0.120  Training Acc: 0.955  Test Loss: 0.372  Test Acc: 0.891\n",
            "Epoch: 947/1000  Training Loss: 0.119  Training Acc: 0.956  Test Loss: 0.371  Test Acc: 0.890\n",
            "Epoch: 948/1000  Training Loss: 0.117  Training Acc: 0.957  Test Loss: 0.369  Test Acc: 0.892\n",
            "Epoch: 949/1000  Training Loss: 0.110  Training Acc: 0.960  Test Loss: 0.370  Test Acc: 0.891\n",
            "Epoch: 950/1000  Training Loss: 0.116  Training Acc: 0.958  Test Loss: 0.373  Test Acc: 0.890\n",
            "Epoch: 951/1000  Training Loss: 0.112  Training Acc: 0.959  Test Loss: 0.376  Test Acc: 0.892\n",
            "Epoch: 952/1000  Training Loss: 0.114  Training Acc: 0.957  Test Loss: 0.378  Test Acc: 0.894\n",
            "Epoch: 953/1000  Training Loss: 0.121  Training Acc: 0.953  Test Loss: 0.377  Test Acc: 0.895\n",
            "Epoch: 954/1000  Training Loss: 0.111  Training Acc: 0.958  Test Loss: 0.374  Test Acc: 0.892\n",
            "Epoch: 955/1000  Training Loss: 0.122  Training Acc: 0.953  Test Loss: 0.372  Test Acc: 0.893\n",
            "Epoch: 956/1000  Training Loss: 0.115  Training Acc: 0.954  Test Loss: 0.371  Test Acc: 0.891\n",
            "Epoch: 957/1000  Training Loss: 0.118  Training Acc: 0.955  Test Loss: 0.369  Test Acc: 0.891\n",
            "Epoch: 958/1000  Training Loss: 0.115  Training Acc: 0.957  Test Loss: 0.368  Test Acc: 0.893\n",
            "Epoch: 959/1000  Training Loss: 0.117  Training Acc: 0.957  Test Loss: 0.367  Test Acc: 0.891\n",
            "Epoch: 960/1000  Training Loss: 0.112  Training Acc: 0.955  Test Loss: 0.367  Test Acc: 0.892\n",
            "Epoch: 961/1000  Training Loss: 0.117  Training Acc: 0.955  Test Loss: 0.366  Test Acc: 0.891\n",
            "Epoch: 962/1000  Training Loss: 0.119  Training Acc: 0.956  Test Loss: 0.366  Test Acc: 0.891\n",
            "Epoch: 963/1000  Training Loss: 0.108  Training Acc: 0.959  Test Loss: 0.368  Test Acc: 0.889\n",
            "Epoch: 964/1000  Training Loss: 0.123  Training Acc: 0.952  Test Loss: 0.369  Test Acc: 0.890\n",
            "Epoch: 965/1000  Training Loss: 0.116  Training Acc: 0.957  Test Loss: 0.370  Test Acc: 0.889\n",
            "Epoch: 966/1000  Training Loss: 0.115  Training Acc: 0.956  Test Loss: 0.373  Test Acc: 0.889\n",
            "Epoch: 967/1000  Training Loss: 0.117  Training Acc: 0.954  Test Loss: 0.377  Test Acc: 0.892\n",
            "Epoch: 968/1000  Training Loss: 0.122  Training Acc: 0.953  Test Loss: 0.380  Test Acc: 0.892\n",
            "Epoch: 969/1000  Training Loss: 0.116  Training Acc: 0.957  Test Loss: 0.379  Test Acc: 0.891\n",
            "Epoch: 970/1000  Training Loss: 0.111  Training Acc: 0.959  Test Loss: 0.378  Test Acc: 0.890\n",
            "Epoch: 971/1000  Training Loss: 0.109  Training Acc: 0.960  Test Loss: 0.378  Test Acc: 0.889\n",
            "Epoch: 972/1000  Training Loss: 0.123  Training Acc: 0.955  Test Loss: 0.379  Test Acc: 0.891\n",
            "Epoch: 973/1000  Training Loss: 0.115  Training Acc: 0.955  Test Loss: 0.382  Test Acc: 0.892\n",
            "Epoch: 974/1000  Training Loss: 0.114  Training Acc: 0.956  Test Loss: 0.388  Test Acc: 0.893\n",
            "Epoch: 975/1000  Training Loss: 0.115  Training Acc: 0.955  Test Loss: 0.392  Test Acc: 0.894\n",
            "Epoch: 976/1000  Training Loss: 0.117  Training Acc: 0.958  Test Loss: 0.392  Test Acc: 0.894\n",
            "Epoch: 977/1000  Training Loss: 0.119  Training Acc: 0.953  Test Loss: 0.391  Test Acc: 0.892\n",
            "Epoch: 978/1000  Training Loss: 0.116  Training Acc: 0.954  Test Loss: 0.388  Test Acc: 0.892\n",
            "Epoch: 979/1000  Training Loss: 0.113  Training Acc: 0.958  Test Loss: 0.385  Test Acc: 0.892\n",
            "Epoch: 980/1000  Training Loss: 0.108  Training Acc: 0.958  Test Loss: 0.384  Test Acc: 0.893\n",
            "Epoch: 981/1000  Training Loss: 0.109  Training Acc: 0.959  Test Loss: 0.383  Test Acc: 0.893\n",
            "Epoch: 982/1000  Training Loss: 0.108  Training Acc: 0.959  Test Loss: 0.382  Test Acc: 0.889\n",
            "Epoch: 983/1000  Training Loss: 0.112  Training Acc: 0.956  Test Loss: 0.384  Test Acc: 0.886\n",
            "Epoch: 984/1000  Training Loss: 0.112  Training Acc: 0.958  Test Loss: 0.386  Test Acc: 0.888\n",
            "Epoch: 985/1000  Training Loss: 0.112  Training Acc: 0.957  Test Loss: 0.390  Test Acc: 0.891\n",
            "Epoch: 986/1000  Training Loss: 0.114  Training Acc: 0.958  Test Loss: 0.393  Test Acc: 0.892\n",
            "Epoch: 987/1000  Training Loss: 0.117  Training Acc: 0.955  Test Loss: 0.390  Test Acc: 0.892\n",
            "Epoch: 988/1000  Training Loss: 0.114  Training Acc: 0.957  Test Loss: 0.385  Test Acc: 0.887\n",
            "Epoch: 989/1000  Training Loss: 0.124  Training Acc: 0.954  Test Loss: 0.381  Test Acc: 0.890\n",
            "Epoch: 990/1000  Training Loss: 0.121  Training Acc: 0.954  Test Loss: 0.380  Test Acc: 0.893\n",
            "Epoch: 991/1000  Training Loss: 0.115  Training Acc: 0.956  Test Loss: 0.381  Test Acc: 0.897\n",
            "Epoch: 992/1000  Training Loss: 0.106  Training Acc: 0.958  Test Loss: 0.383  Test Acc: 0.897\n",
            "Epoch: 993/1000  Training Loss: 0.115  Training Acc: 0.959  Test Loss: 0.381  Test Acc: 0.896\n",
            "Epoch: 994/1000  Training Loss: 0.112  Training Acc: 0.960  Test Loss: 0.377  Test Acc: 0.895\n",
            "Epoch: 995/1000  Training Loss: 0.105  Training Acc: 0.961  Test Loss: 0.378  Test Acc: 0.889\n",
            "Epoch: 996/1000  Training Loss: 0.113  Training Acc: 0.958  Test Loss: 0.381  Test Acc: 0.885\n",
            "Epoch: 997/1000  Training Loss: 0.114  Training Acc: 0.959  Test Loss: 0.384  Test Acc: 0.883\n",
            "Epoch: 998/1000  Training Loss: 0.110  Training Acc: 0.956  Test Loss: 0.384  Test Acc: 0.886\n",
            "Epoch: 999/1000  Training Loss: 0.112  Training Acc: 0.959  Test Loss: 0.385  Test Acc: 0.888\n",
            "Epoch: 1000/1000  Training Loss: 0.108  Training Acc: 0.959  Test Loss: 0.388  Test Acc: 0.887\n"
          ],
          "name": "stdout"
        },
        {
          "output_type": "display_data",
          "data": {
            "image/png": "[encoded data removed]",
            "text/plain": [
              "<Figure size 576x396 with 1 Axes>"
            ]
          },
          "metadata": {
            "tags": []
          }
        }
      ]
    },
    {
      "metadata": {
        "id": "ARLLxwEGwezr",
        "colab_type": "code",
        "colab": {}
      },
      "cell_type": "code",
      "source": [
        ""
      ],
      "execution_count": 0,
      "outputs": []
    },
    {
      "metadata": {
        "id": "oZMJt7m4Jkoe",
        "colab_type": "text"
      },
      "cell_type": "markdown",
      "source": [
        "# Test "
      ]
    },
    {
      "metadata": {
        "id": "jslc49DeJllM",
        "colab_type": "code",
        "colab": {
          "base_uri": "https://localhost:8080/",
          "height": 17812
        },
        "outputId": "a33186e1-fe74-4389-d650-99381a985690"
      },
      "cell_type": "code",
      "source": [
        "import torch\n",
        "import torch.utils.data as utils\n",
        "\n",
        "test_tensor_x = torch.stack([transform(torch.Tensor(i)) for i in test_img]) \n",
        "\n",
        "\n",
        "test_data = utils.TensorDataset(test_tensor_x)\n",
        "testingloader = utils.DataLoader(test_data, batch_size = 2000)\n",
        "\n",
        "\n",
        "\n",
        "\n",
        "\n",
        "with torch.no_grad():\n",
        "  model.eval()\n",
        "  for [images] in testingloader:\n",
        "      images = images.cuda()\n",
        "      log_ps = model(images)\n",
        "      ps = torch.exp(log_ps)\n",
        "      top_p, top_class = ps.topk(1, dim=1)\n",
        "\n",
        "\n",
        "preds = list(top_class.cpu().numpy().reshape(-1))\n",
        "preds"
      ],
      "execution_count": 40,
      "outputs": [
        {
          "output_type": "execute_result",
          "data": {
            "text/plain": [
              "[1,\n",
              " 1,\n",
              " 3,\n",
              " 0,\n",
              " 3,\n",
              " 1,\n",
              " 3,\n",
              " 0,\n",
              " 0,\n",
              " 0,\n",
              " 1,\n",
              " 3,\n",
              " 1,\n",
              " 0,\n",
              " 3,\n",
              " 1,\n",
              " 3,\n",
              " 3,\n",
              " 1,\n",
              " 0,\n",
              " 3,\n",
              " 0,\n",
              " 3,\n",
              " 1,\n",
              " 1,\n",
              " 0,\n",
              " 1,\n",
              " 3,\n",
              " 3,\n",
              " 1,\n",
              " 1,\n",
              " 3,\n",
              " 1,\n",
              " 3,\n",
              " 1,\n",
              " 3,\n",
              " 1,\n",
              " 0,\n",
              " 0,\n",
              " 3,\n",
              " 3,\n",
              " 3,\n",
              " 1,\n",
              " 0,\n",
              " 0,\n",
              " 3,\n",
              " 3,\n",
              " 3,\n",
              " 3,\n",
              " 1,\n",
              " 1,\n",
              " 0,\n",
              " 3,\n",
              " 1,\n",
              " 1,\n",
              " 0,\n",
              " 0,\n",
              " 0,\n",
              " 1,\n",
              " 3,\n",
              " 3,\n",
              " 1,\n",
              " 0,\n",
              " 3,\n",
              " 3,\n",
              " 1,\n",
              " 1,\n",
              " 1,\n",
              " 1,\n",
              " 3,\n",
              " 3,\n",
              " 1,\n",
              " 0,\n",
              " 3,\n",
              " 3,\n",
              " 3,\n",
              " 0,\n",
              " 1,\n",
              " 1,\n",
              " 1,\n",
              " 0,\n",
              " 3,\n",
              " 3,\n",
              " 3,\n",
              " 3,\n",
              " 1,\n",
              " 0,\n",
              " 0,\n",
              " 0,\n",
              " 3,\n",
              " 1,\n",
              " 2,\n",
              " 0,\n",
              " 0,\n",
              " 3,\n",
              " 1,\n",
              " 0,\n",
              " 3,\n",
              " 3,\n",
              " 3,\n",
              " 0,\n",
              " 1,\n",
              " 3,\n",
              " 3,\n",
              " 1,\n",
              " 3,\n",
              " 0,\n",
              " 3,\n",
              " 3,\n",
              " 0,\n",
              " 3,\n",
              " 0,\n",
              " 3,\n",
              " 0,\n",
              " 2,\n",
              " 1,\n",
              " 3,\n",
              " 1,\n",
              " 0,\n",
              " 0,\n",
              " 1,\n",
              " 0,\n",
              " 1,\n",
              " 3,\n",
              " 1,\n",
              " 3,\n",
              " 3,\n",
              " 3,\n",
              " 1,\n",
              " 3,\n",
              " 1,\n",
              " 1,\n",
              " 3,\n",
              " 1,\n",
              " 0,\n",
              " 1,\n",
              " 1,\n",
              " 0,\n",
              " 3,\n",
              " 1,\n",
              " 1,\n",
              " 1,\n",
              " 0,\n",
              " 0,\n",
              " 1,\n",
              " 1,\n",
              " 3,\n",
              " 1,\n",
              " 1,\n",
              " 1,\n",
              " 0,\n",
              " 0,\n",
              " 3,\n",
              " 0,\n",
              " 0,\n",
              " 3,\n",
              " 0,\n",
              " 1,\n",
              " 3,\n",
              " 1,\n",
              " 0,\n",
              " 3,\n",
              " 3,\n",
              " 0,\n",
              " 3,\n",
              " 1,\n",
              " 1,\n",
              " 3,\n",
              " 3,\n",
              " 0,\n",
              " 3,\n",
              " 0,\n",
              " 1,\n",
              " 0,\n",
              " 1,\n",
              " 3,\n",
              " 0,\n",
              " 0,\n",
              " 1,\n",
              " 0,\n",
              " 1,\n",
              " 3,\n",
              " 1,\n",
              " 1,\n",
              " 3,\n",
              " 1,\n",
              " 0,\n",
              " 3,\n",
              " 3,\n",
              " 3,\n",
              " 3,\n",
              " 1,\n",
              " 0,\n",
              " 3,\n",
              " 1,\n",
              " 3,\n",
              " 0,\n",
              " 1,\n",
              " 0,\n",
              " 1,\n",
              " 0,\n",
              " 3,\n",
              " 3,\n",
              " 1,\n",
              " 1,\n",
              " 0,\n",
              " 1,\n",
              " 1,\n",
              " 3,\n",
              " 0,\n",
              " 3,\n",
              " 0,\n",
              " 0,\n",
              " 0,\n",
              " 3,\n",
              " 1,\n",
              " 0,\n",
              " 1,\n",
              " 0,\n",
              " 1,\n",
              " 0,\n",
              " 1,\n",
              " 1,\n",
              " 1,\n",
              " 3,\n",
              " 0,\n",
              " 3,\n",
              " 0,\n",
              " 1,\n",
              " 3,\n",
              " 3,\n",
              " 1,\n",
              " 3,\n",
              " 0,\n",
              " 3,\n",
              " 3,\n",
              " 0,\n",
              " 3,\n",
              " 1,\n",
              " 0,\n",
              " 0,\n",
              " 1,\n",
              " 1,\n",
              " 0,\n",
              " 1,\n",
              " 2,\n",
              " 3,\n",
              " 1,\n",
              " 3,\n",
              " 0,\n",
              " 3,\n",
              " 3,\n",
              " 3,\n",
              " 1,\n",
              " 3,\n",
              " 3,\n",
              " 3,\n",
              " 3,\n",
              " 2,\n",
              " 3,\n",
              " 3,\n",
              " 1,\n",
              " 3,\n",
              " 3,\n",
              " 1,\n",
              " 3,\n",
              " 3,\n",
              " 3,\n",
              " 3,\n",
              " 1,\n",
              " 1,\n",
              " 3,\n",
              " 1,\n",
              " 1,\n",
              " 1,\n",
              " 1,\n",
              " 3,\n",
              " 3,\n",
              " 0,\n",
              " 3,\n",
              " 3,\n",
              " 1,\n",
              " 1,\n",
              " 0,\n",
              " 1,\n",
              " 0,\n",
              " 1,\n",
              " 1,\n",
              " 1,\n",
              " 1,\n",
              " 1,\n",
              " 0,\n",
              " 1,\n",
              " 1,\n",
              " 3,\n",
              " 1,\n",
              " 3,\n",
              " 1,\n",
              " 1,\n",
              " 0,\n",
              " 1,\n",
              " 2,\n",
              " 0,\n",
              " 3,\n",
              " 1,\n",
              " 1,\n",
              " 3,\n",
              " 3,\n",
              " 1,\n",
              " 3,\n",
              " 0,\n",
              " 3,\n",
              " 3,\n",
              " 3,\n",
              " 1,\n",
              " 0,\n",
              " 1,\n",
              " 1,\n",
              " 0,\n",
              " 0,\n",
              " 0,\n",
              " 1,\n",
              " 1,\n",
              " 3,\n",
              " 3,\n",
              " 3,\n",
              " 0,\n",
              " 3,\n",
              " 0,\n",
              " 1,\n",
              " 3,\n",
              " 3,\n",
              " 0,\n",
              " 3,\n",
              " 1,\n",
              " 3,\n",
              " 3,\n",
              " 3,\n",
              " 1,\n",
              " 3,\n",
              " 0,\n",
              " 3,\n",
              " 3,\n",
              " 3,\n",
              " 0,\n",
              " 1,\n",
              " 0,\n",
              " 3,\n",
              " 1,\n",
              " 3,\n",
              " 3,\n",
              " 0,\n",
              " 1,\n",
              " 1,\n",
              " 1,\n",
              " 1,\n",
              " 3,\n",
              " 2,\n",
              " 3,\n",
              " 0,\n",
              " 2,\n",
              " 1,\n",
              " 1,\n",
              " 3,\n",
              " 0,\n",
              " 3,\n",
              " 1,\n",
              " 1,\n",
              " 1,\n",
              " 3,\n",
              " 1,\n",
              " 0,\n",
              " 1,\n",
              " 1,\n",
              " 1,\n",
              " 0,\n",
              " 1,\n",
              " 3,\n",
              " 1,\n",
              " 3,\n",
              " 1,\n",
              " 0,\n",
              " 0,\n",
              " 1,\n",
              " 1,\n",
              " 0,\n",
              " 1,\n",
              " 3,\n",
              " 0,\n",
              " 3,\n",
              " 3,\n",
              " 0,\n",
              " 1,\n",
              " 3,\n",
              " 0,\n",
              " 1,\n",
              " 1,\n",
              " 1,\n",
              " 3,\n",
              " 0,\n",
              " 1,\n",
              " 1,\n",
              " 3,\n",
              " 1,\n",
              " 0,\n",
              " 0,\n",
              " 3,\n",
              " 1,\n",
              " 3,\n",
              " 3,\n",
              " 1,\n",
              " 0,\n",
              " 1,\n",
              " 0,\n",
              " 3,\n",
              " 0,\n",
              " 1,\n",
              " 3,\n",
              " 3,\n",
              " 1,\n",
              " 3,\n",
              " 0,\n",
              " 3,\n",
              " 1,\n",
              " 3,\n",
              " 1,\n",
              " 2,\n",
              " 3,\n",
              " 3,\n",
              " 3,\n",
              " 3,\n",
              " 1,\n",
              " 3,\n",
              " 1,\n",
              " 3,\n",
              " 3,\n",
              " 0,\n",
              " 1,\n",
              " 0,\n",
              " 0,\n",
              " 0,\n",
              " 0,\n",
              " 1,\n",
              " 3,\n",
              " 3,\n",
              " 1,\n",
              " 3,\n",
              " 3,\n",
              " 3,\n",
              " 3,\n",
              " 1,\n",
              " 0,\n",
              " 3,\n",
              " 3,\n",
              " 3,\n",
              " 0,\n",
              " 3,\n",
              " 1,\n",
              " 3,\n",
              " 1,\n",
              " 1,\n",
              " 0,\n",
              " 0,\n",
              " 0,\n",
              " 1,\n",
              " 3,\n",
              " 1,\n",
              " 3,\n",
              " 1,\n",
              " 1,\n",
              " 3,\n",
              " 0,\n",
              " 0,\n",
              " 1,\n",
              " 2,\n",
              " 3,\n",
              " 0,\n",
              " 2,\n",
              " 3,\n",
              " 1,\n",
              " 3,\n",
              " 3,\n",
              " 3,\n",
              " 3,\n",
              " 3,\n",
              " 1,\n",
              " 1,\n",
              " 0,\n",
              " 1,\n",
              " 0,\n",
              " 3,\n",
              " 3,\n",
              " 1,\n",
              " 3,\n",
              " 1,\n",
              " 3,\n",
              " 0,\n",
              " 1,\n",
              " 0,\n",
              " 3,\n",
              " 1,\n",
              " 1,\n",
              " 3,\n",
              " 1,\n",
              " 3,\n",
              " 3,\n",
              " 1,\n",
              " 1,\n",
              " 0,\n",
              " 1,\n",
              " 1,\n",
              " 1,\n",
              " 1,\n",
              " 1,\n",
              " 1,\n",
              " 1,\n",
              " 1,\n",
              " 1,\n",
              " 1,\n",
              " 1,\n",
              " 1,\n",
              " 1,\n",
              " 1,\n",
              " 1,\n",
              " 1,\n",
              " 1,\n",
              " 1,\n",
              " 1,\n",
              " 1,\n",
              " 1,\n",
              " 1,\n",
              " 1,\n",
              " 1,\n",
              " 1,\n",
              " 1,\n",
              " 1,\n",
              " 1,\n",
              " 1,\n",
              " 1,\n",
              " 1,\n",
              " 1,\n",
              " 3,\n",
              " 1,\n",
              " 1,\n",
              " 1,\n",
              " 3,\n",
              " 1,\n",
              " 1,\n",
              " 1,\n",
              " 1,\n",
              " 1,\n",
              " 3,\n",
              " 1,\n",
              " 1,\n",
              " 3,\n",
              " 3,\n",
              " 1,\n",
              " 1,\n",
              " 1,\n",
              " 1,\n",
              " 1,\n",
              " 1,\n",
              " 3,\n",
              " 1,\n",
              " 1,\n",
              " 1,\n",
              " 1,\n",
              " 1,\n",
              " 1,\n",
              " 0,\n",
              " 3,\n",
              " 1,\n",
              " 1,\n",
              " 1,\n",
              " 1,\n",
              " 1,\n",
              " 1,\n",
              " 1,\n",
              " 1,\n",
              " 1,\n",
              " 1,\n",
              " 3,\n",
              " 1,\n",
              " 1,\n",
              " 1,\n",
              " 1,\n",
              " 1,\n",
              " 1,\n",
              " 1,\n",
              " 1,\n",
              " 1,\n",
              " 1,\n",
              " 2,\n",
              " 1,\n",
              " 1,\n",
              " 1,\n",
              " 1,\n",
              " 3,\n",
              " 1,\n",
              " 1,\n",
              " 1,\n",
              " 3,\n",
              " 1,\n",
              " 1,\n",
              " 1,\n",
              " 1,\n",
              " 1,\n",
              " 1,\n",
              " 1,\n",
              " 1,\n",
              " 1,\n",
              " 1,\n",
              " 1,\n",
              " 1,\n",
              " 1,\n",
              " 1,\n",
              " 1,\n",
              " 1,\n",
              " 1,\n",
              " 1,\n",
              " 3,\n",
              " 1,\n",
              " 1,\n",
              " 1,\n",
              " 1,\n",
              " 3,\n",
              " 3,\n",
              " 3,\n",
              " 1,\n",
              " 1,\n",
              " 3,\n",
              " 3,\n",
              " 1,\n",
              " 1,\n",
              " 1,\n",
              " 1,\n",
              " 1,\n",
              " 0,\n",
              " 3,\n",
              " 3,\n",
              " 1,\n",
              " 1,\n",
              " 1,\n",
              " 1,\n",
              " 1,\n",
              " 1,\n",
              " 1,\n",
              " 1,\n",
              " 3,\n",
              " 1,\n",
              " 1,\n",
              " 1,\n",
              " 1,\n",
              " 1,\n",
              " 3,\n",
              " 1,\n",
              " 3,\n",
              " 1,\n",
              " 3,\n",
              " 1,\n",
              " 3,\n",
              " 1,\n",
              " 1,\n",
              " 1,\n",
              " 1,\n",
              " 1,\n",
              " 3,\n",
              " 3,\n",
              " 3,\n",
              " 1,\n",
              " 1,\n",
              " 1,\n",
              " 1,\n",
              " 1,\n",
              " 3,\n",
              " 1,\n",
              " 1,\n",
              " 1,\n",
              " 1,\n",
              " 3,\n",
              " 3,\n",
              " 1,\n",
              " 1,\n",
              " 1,\n",
              " 1,\n",
              " 1,\n",
              " 1,\n",
              " 1,\n",
              " 1,\n",
              " 1,\n",
              " 1,\n",
              " 1,\n",
              " 1,\n",
              " 3,\n",
              " 1,\n",
              " 1,\n",
              " 1,\n",
              " 1,\n",
              " 1,\n",
              " 1,\n",
              " 3,\n",
              " 1,\n",
              " 1,\n",
              " 1,\n",
              " 1,\n",
              " 1,\n",
              " 1,\n",
              " 1,\n",
              " 1,\n",
              " 3,\n",
              " 0,\n",
              " 3,\n",
              " 1,\n",
              " 1,\n",
              " 1,\n",
              " 1,\n",
              " 3,\n",
              " 1,\n",
              " 3,\n",
              " 2,\n",
              " 1,\n",
              " 1,\n",
              " 1,\n",
              " 1,\n",
              " 1,\n",
              " 3,\n",
              " 1,\n",
              " 1,\n",
              " 1,\n",
              " 1,\n",
              " 1,\n",
              " 1,\n",
              " 1,\n",
              " 1,\n",
              " 1,\n",
              " 1,\n",
              " 1,\n",
              " 1,\n",
              " 3,\n",
              " 1,\n",
              " 1,\n",
              " 1,\n",
              " 1,\n",
              " 3,\n",
              " 3,\n",
              " 3,\n",
              " 1,\n",
              " 1,\n",
              " 1,\n",
              " 1,\n",
              " 3,\n",
              " 1,\n",
              " 1,\n",
              " 1,\n",
              " 1,\n",
              " 1,\n",
              " 1,\n",
              " 1,\n",
              " 1,\n",
              " 1,\n",
              " 1,\n",
              " 1,\n",
              " 3,\n",
              " 3,\n",
              " 1,\n",
              " 1,\n",
              " 1,\n",
              " 3,\n",
              " 3,\n",
              " 1,\n",
              " 3,\n",
              " 1,\n",
              " 1,\n",
              " 1,\n",
              " 1,\n",
              " 1,\n",
              " 3,\n",
              " 1,\n",
              " 3,\n",
              " 3,\n",
              " 1,\n",
              " 1,\n",
              " 1,\n",
              " 1,\n",
              " 1,\n",
              " 3,\n",
              " 3,\n",
              " 1,\n",
              " 1,\n",
              " 1,\n",
              " 1,\n",
              " 1,\n",
              " 1,\n",
              " 1,\n",
              " 1,\n",
              " 1,\n",
              " 3,\n",
              " 1,\n",
              " 3,\n",
              " 1,\n",
              " 1,\n",
              " 1,\n",
              " 3,\n",
              " 1,\n",
              " 1,\n",
              " 3,\n",
              " 1,\n",
              " 1,\n",
              " 1,\n",
              " 3,\n",
              " 1,\n",
              " 1,\n",
              " 1,\n",
              " 1,\n",
              " 1,\n",
              " 1,\n",
              " 3,\n",
              " 1,\n",
              " 1,\n",
              " 1,\n",
              " 1,\n",
              " 1,\n",
              " 1,\n",
              " 3,\n",
              " 1,\n",
              " 3,\n",
              " 1,\n",
              " 1,\n",
              " 1,\n",
              " 1,\n",
              " 1,\n",
              " 1,\n",
              " 2,\n",
              " 3,\n",
              " 3,\n",
              " 1,\n",
              " 1,\n",
              " 1,\n",
              " 1,\n",
              " 1,\n",
              " 1,\n",
              " 1,\n",
              " 1,\n",
              " 1,\n",
              " 3,\n",
              " 1,\n",
              " 1,\n",
              " 1,\n",
              " 1,\n",
              " 3,\n",
              " 1,\n",
              " 1,\n",
              " 3,\n",
              " 1,\n",
              " 1,\n",
              " 3,\n",
              " 1,\n",
              " 1,\n",
              " 1,\n",
              " 1,\n",
              " 3,\n",
              " 2,\n",
              " 1,\n",
              " 1,\n",
              " 1,\n",
              " 1,\n",
              " 2,\n",
              " 1,\n",
              " 1,\n",
              " 1,\n",
              " 3,\n",
              " 3,\n",
              " 1,\n",
              " 0,\n",
              " 2,\n",
              " 3,\n",
              " 1,\n",
              " 3,\n",
              " 3,\n",
              " 1,\n",
              " 1,\n",
              " 1,\n",
              " 1,\n",
              " 3,\n",
              " 1,\n",
              " 1,\n",
              " 1,\n",
              " 1,\n",
              " 1,\n",
              " 1,\n",
              " 3,\n",
              " 1,\n",
              " 1,\n",
              " 1,\n",
              " 1,\n",
              " 1,\n",
              " 1,\n",
              " 1,\n",
              " 1,\n",
              " 3,\n",
              " 3,\n",
              " 2,\n",
              " 1,\n",
              " 3,\n",
              " 1,\n",
              " 1,\n",
              " 3,\n",
              " 0,\n",
              " 1,\n",
              " 1,\n",
              " 1,\n",
              " 1,\n",
              " 1,\n",
              " 1,\n",
              " 1,\n",
              " 3,\n",
              " 1,\n",
              " 0,\n",
              " 1,\n",
              " 1,\n",
              " 1,\n",
              " 1,\n",
              " 1,\n",
              " 1,\n",
              " 1,\n",
              " 3,\n",
              " 1,\n",
              " 1,\n",
              " 1,\n",
              " 1,\n",
              " 1,\n",
              " 1,\n",
              " 1,\n",
              " 1,\n",
              " 1,\n",
              " 1,\n",
              " 1,\n",
              " 1,\n",
              " 1,\n",
              " 1,\n",
              " 1,\n",
              " 1,\n",
              " 1,\n",
              " 1,\n",
              " 1,\n",
              " 1,\n",
              " 3,\n",
              " 1,\n",
              " 1,\n",
              " 1,\n",
              " 1,\n",
              " 1,\n",
              " 1,\n",
              " 1,\n",
              " 1,\n",
              " 3,\n",
              " 1,\n",
              " 1,\n",
              " 1,\n",
              " 1,\n",
              " 1,\n",
              " 1,\n",
              " 1,\n",
              " 1,\n",
              " 1,\n",
              " 1,\n",
              " 1,\n",
              " 3,\n",
              " 1,\n",
              " 1,\n",
              " 1,\n",
              " 1,\n",
              " 1,\n",
              " 1,\n",
              " 1,\n",
              " 3,\n",
              " 3,\n",
              " 1,\n",
              " 1,\n",
              " 1,\n",
              " 1,\n",
              " 3,\n",
              " 1,\n",
              " 1,\n",
              " 1,\n",
              " 3,\n",
              " 1,\n",
              " 1,\n",
              " 1,\n",
              " 3,\n",
              " 3,\n",
              " 1,\n",
              " 1,\n",
              " 1,\n",
              " 1,\n",
              " 3,\n",
              " 1,\n",
              " 3,\n",
              " 1,\n",
              " 1,\n",
              " ...]"
            ]
          },
          "metadata": {
            "tags": []
          },
          "execution_count": 40
        }
      ]
    },
    {
      "metadata": {
        "id": "-BRfV2uLLo-N",
        "colab_type": "code",
        "colab": {
          "base_uri": "https://localhost:8080/",
          "height": 34
        },
        "outputId": "ddcc7716-a9a0-4291-e7ef-80703cb39140"
      },
      "cell_type": "code",
      "source": [
        "list(np.arange(len(preds)))[-1]"
      ],
      "execution_count": 47,
      "outputs": [
        {
          "output_type": "execute_result",
          "data": {
            "text/plain": [
              "1999"
            ]
          },
          "metadata": {
            "tags": []
          },
          "execution_count": 47
        }
      ]
    },
    {
      "metadata": {
        "id": "iHfBc0sVLcdx",
        "colab_type": "text"
      },
      "cell_type": "markdown",
      "source": [
        "# Test to df"
      ]
    },
    {
      "metadata": {
        "id": "5XEem8Q-KR_7",
        "colab_type": "code",
        "colab": {
          "base_uri": "https://localhost:8080/",
          "height": 197
        },
        "outputId": "0d5db6d2-00de-44cc-9a1f-8f052a7c5754"
      },
      "cell_type": "code",
      "source": [
        "df = pd.DataFrame({'image_index': list(np.arange(len(preds))) ,'class': preds})\n",
        "df.head()"
      ],
      "execution_count": 49,
      "outputs": [
        {
          "output_type": "execute_result",
          "data": {
            "text/html": [
              "<div>\n",
              "<style scoped>\n",
              "    .dataframe tbody tr th:only-of-type {\n",
              "        vertical-align: middle;\n",
              "    }\n",
              "\n",
              "    .dataframe tbody tr th {\n",
              "        vertical-align: top;\n",
              "    }\n",
              "\n",
              "    .dataframe thead th {\n",
              "        text-align: right;\n",
              "    }\n",
              "</style>\n",
              "<table border=\"1\" class=\"dataframe\">\n",
              "  <thead>\n",
              "    <tr style=\"text-align: right;\">\n",
              "      <th></th>\n",
              "      <th>class</th>\n",
              "      <th>image_index</th>\n",
              "    </tr>\n",
              "  </thead>\n",
              "  <tbody>\n",
              "    <tr>\n",
              "      <th>0</th>\n",
              "      <td>1</td>\n",
              "      <td>0</td>\n",
              "    </tr>\n",
              "    <tr>\n",
              "      <th>1</th>\n",
              "      <td>1</td>\n",
              "      <td>1</td>\n",
              "    </tr>\n",
              "    <tr>\n",
              "      <th>2</th>\n",
              "      <td>3</td>\n",
              "      <td>2</td>\n",
              "    </tr>\n",
              "    <tr>\n",
              "      <th>3</th>\n",
              "      <td>0</td>\n",
              "      <td>3</td>\n",
              "    </tr>\n",
              "    <tr>\n",
              "      <th>4</th>\n",
              "      <td>3</td>\n",
              "      <td>4</td>\n",
              "    </tr>\n",
              "  </tbody>\n",
              "</table>\n",
              "</div>"
            ],
            "text/plain": [
              "   class  image_index\n",
              "0      1            0\n",
              "1      1            1\n",
              "2      3            2\n",
              "3      0            3\n",
              "4      3            4"
            ]
          },
          "metadata": {
            "tags": []
          },
          "execution_count": 49
        }
      ]
    },
    {
      "metadata": {
        "id": "tzVwOB8UL9fQ",
        "colab_type": "code",
        "colab": {}
      },
      "cell_type": "code",
      "source": [
        "df.to_csv('cv_test_submission.csv', index=False)"
      ],
      "execution_count": 0,
      "outputs": []
    },
    {
      "metadata": {
        "id": "UWxjhgQSMO25",
        "colab_type": "code",
        "colab": {}
      },
      "cell_type": "code",
      "source": [
        ""
      ],
      "execution_count": 0,
      "outputs": []
    }
  ]
}